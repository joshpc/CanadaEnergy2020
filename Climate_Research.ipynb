{
  "nbformat": 4,
  "nbformat_minor": 0,
  "metadata": {
    "colab": {
      "name": "Climate Research",
      "provenance": [],
      "collapsed_sections": [],
      "toc_visible": true,
      "mount_file_id": "16FPCZrXauU4C6d6K6haxBxn7q8y0iiNO",
      "authorship_tag": "ABX9TyPM3bHWsYN8D0bwD82M2IbH",
      "include_colab_link": true
    },
    "kernelspec": {
      "name": "python3710jvsc74a57bd0b13365a757cc39b87ecafc5e7e45717b0b6a227589bdb607797f4c39a40ce30b",
      "display_name": "Python 3.7.10 64-bit ('CanadaEnergy2020': conda)"
    }
  },
  "cells": [
    {
      "cell_type": "markdown",
      "metadata": {
        "id": "1P5dq3418DfH"
      },
      "source": [
        "# Canadian Energy Solutions\n",
        "\n",
        "This is a simple notebook that allows us to explore some of the underlying problems in the Canadian energy space. The objective is to identify sectors that need assistance, and potentially identify companies that can fill those gaps.\n",
        "\n",
        "If we were to simplify the Canadian energy problem, we can say that we need to reach a scenario where two simple constraints are met:\n",
        "\n",
        "`supply > demand && net_emissions <= 0`\n",
        "\n",
        "In reality, this is a much more complex equation since if we were to sum the entirety of Canada's production, and subtract demand, we would be glossing over regional differences and distances.\n",
        "\n",
        "For the sake of this document, we will start by assuming two things:\n",
        "- A province must be fully sufficient. That is to say that it must not depend on neighbouring provinces to provide electricity.\n",
        "- Emissions across the country must be net. One province may pollute, as long as neighbouring provinces can assist with the reduction (it's all one atmosphere.)"
      ]
    },
    {
      "cell_type": "code",
      "metadata": {
        "id": "MiyfUFccCvQx"
      },
      "source": [
        "%matplotlib inline\n",
        "\n",
        "# import csv\n",
        "import ssl\n",
        "\n",
        "# We're disabling SSL Cert Verification for these data examples\n",
        "ssl._create_default_https_context = ssl._create_unverified_context\n",
        "\n",
        "import numpy as np\n",
        "import pandas as pd\n",
        "\n",
        "from matplotlib import pyplot as plt"
      ],
      "execution_count": 47,
      "outputs": []
    },
    {
      "cell_type": "code",
      "metadata": {
        "id": "MtB7Kd6dry_X"
      },
      "source": [
        "# Reset all data\n",
        "butane_data = None\n",
        "coal_data = None\n",
        "crude_oil_data = None\n",
        "electricity_data = None\n",
        "ethane_data = None\n",
        "natural_gas_data = None\n",
        "pentanes_data = None\n",
        "propane_data = None\n",
        "end_use_demand_data = None"
      ],
      "execution_count": 48,
      "outputs": []
    },
    {
      "cell_type": "code",
      "metadata": {
        "colab": {
          "base_uri": "https://localhost:8080/"
        },
        "id": "Kp0B32rbRAAT",
        "outputId": "73e17481-7f44-4495-d011-61801eed23fb"
      },
      "source": [
        "# Let's import our data\n",
        "\n",
        "# This uses Canada's Energy Futures 2020 Dataset. This dataset looks far into the future and gives us a good idea of whether\n",
        "# we're heading in the right direction or not. This isn't necessarily a 100% accurate, as some data sources are limited but it's\n",
        "# a good start.\n",
        "#\n",
        "# >  The Energy Futures series explores how possible energy futures might unfold for Canadians over the long term.\n",
        "# >  Canada’s Energy Future 2020: Energy Supply and Demand Projections to 2050 (EF2020) is our latest long-term energy outlook.\n",
        "# >  It is the first outlook in the series to provide projections to 2050.\n",
        "# >  It covers all energy commodities, and all provinces and territories.\n",
        "# >  We use economic and energy models to develop this outlook. We also make assumptions about technology,\n",
        "# >  energy and climate policies, energy markets, human behaviour and the economy.\n",
        "#\n",
        "\n",
        "# https://open.canada.ca/data/en/dataset/bba41250-261a-4f3b-9ce8-db44d9a0f725\n",
        "\n",
        "# Butane\n",
        "print(\"Importing Butane Data...\")\n",
        "butane_data = pd.read_csv(\"https://www.cer-rec.gc.ca/open/energy/energyfutures2020/butanes-2020.csv\")\n",
        "\n",
        "# Coal\n",
        "print(\"Importing Coal Data...\")\n",
        "coal_data = pd.read_csv(\"https://www.cer-rec.gc.ca/open/energy/energyfutures2020/coal-2020.csv\")\n",
        "\n",
        "# Crude Oil\n",
        "print(\"Importing Crude Oil Data...\")\n",
        "crude_oil_production_data = pd.read_csv(\"https://www.cer-rec.gc.ca/open/energy/energyfutures2020/crude-oil-production-2020.csv\")\n",
        "\n",
        "print(\"Importing Crude Oil Export Data...\")\n",
        "crude_oil_export_data = pd.read_csv(\"https://www.cer-rec.gc.ca/open/imports-exports/crude-oil-exports-by-type-annual.csv\")\n",
        "\n",
        "# Electricity Generation\n",
        "print(\"Importing Electricity Generation Data...\")\n",
        "electricity_data = pd.read_csv(\"https://www.cer-rec.gc.ca/open/energy/energyfutures2020/electricity-generation-2020.csv\")\n",
        "\n",
        "# Ethane\n",
        "print(\"Importing Ethane Data...\")\n",
        "ethane_data = pd.read_csv(\"https://www.cer-rec.gc.ca/open/energy/energyfutures2020/ethane-2020.csv\")\n",
        "\n",
        "# Natural Gas Production\n",
        "print(\"Importing Natural Gas Data...\")\n",
        "natural_gas_data = pd.read_csv(\"https://www.cer-rec.gc.ca/open/energy/energyfutures2020/natural-gas-production-2020.csv\")\n",
        "\n",
        "print(\"Importing Natural Gas Export Data...\")\n",
        "natural_gas_export_data = pd.read_csv(\"https://www.cer-rec.gc.ca/open/imports-exports/natural-gas-exports-and-imports-annual.csv\")\n",
        "\n",
        "# Pentanes\n",
        "print(\"Importing Pentanes Data...\")\n",
        "pentanes_data = pd.read_csv(\"https://www.cer-rec.gc.ca/open/energy/energyfutures2020/pentanes-2020.csv\")\n",
        "\n",
        "# Propane\n",
        "print(\"Importing Propane Data...\")\n",
        "propane_data = pd.read_csv(\"https://www.cer-rec.gc.ca/open/energy/energyfutures2020/propane-2020.csv\")\n",
        "\n",
        "# Overall Import/Export Data\n",
        "print(\"Importing CER Imports/Exports Data...\")\n",
        "cer_imports_exports = pd.read_csv(\"https://apps2.cer-rec.gc.ca/imports-exports/data/CER_imports_exports_data.csv\")\n",
        "\n",
        "# Primary Demand\n",
        "print(\"Importing Primary Demand...\")\n",
        "primary_demand_data = pd.read_csv(\"https://www.cer-rec.gc.ca/open/energy/energyfutures2020/primary-energy-demand-2020.csv\")\n",
        "\n",
        "# End Use Demand\n",
        "print(\"Importing End Use Demand Data...\")\n",
        "end_use_demand_data = pd.read_csv(\"https://www.cer-rec.gc.ca/open/energy/energyfutures2020/end-use-demand-2020.csv\")\n",
        "\n",
        "# Electric power generation, monthly generation by type of electricity\n",
        "# Source: https://www150.statcan.gc.ca/t1/tbl1/en/tv.action?pid=2510001501\n",
        "#\n",
        "# https://www150.statcan.gc.ca/t1/tbl1/#?pid=25100015&file=2510001501-eng.csv\n",
        "\n",
        "print(\"Done!\")"
      ],
      "execution_count": 49,
      "outputs": [
        {
          "output_type": "stream",
          "name": "stdout",
          "text": [
            "Importing Butane Data...\n",
            "Importing Coal Data...\n",
            "Importing Crude Oil Data...\n",
            "Importing Crude Oil Export Data...\n",
            "Importing Electricity Generation Data...\n",
            "Importing Ethane Data...\n",
            "Importing Natural Gas Data...\n",
            "Importing Natural Gas Export Data...\n",
            "Importing Pentanes Data...\n",
            "Importing Propane Data...\n",
            "Importing CER Imports/Exports Data...\n",
            "Importing Primary Demand...\n",
            "Importing End Use Demand Data...\n",
            "Done!\n"
          ]
        }
      ]
    },
    {
      "cell_type": "code",
      "metadata": {
        "id": "CtU6tSb5wy6K"
      },
      "source": [
        "# Data setup\n",
        "layer_1_production_and_imports = {}\n",
        "layer_2_primary_energy = {}\n",
        "layer_3_secondary_energy = {}\n",
        "layer_4_industry = {}\n",
        "layer_5_industry_end_use = {}"
      ],
      "execution_count": 50,
      "outputs": []
    },
    {
      "cell_type": "code",
      "metadata": {
        "id": "hy5wtvrrEW2W"
      },
      "source": [
        "# Helper Methods\n",
        "# Conversion Data: https://apps.cer-rec.gc.ca/Conversion/conversion-tables.aspx?GoCTemplateCulture=en-CA\n",
        "\n",
        "gj_to_pj = 1000000\n",
        "\n",
        "def gigajoule_to_quad(gj):\n",
        "  return -1\n",
        "\n",
        "# Butane, in Cubic Metres\n",
        "def butane_to_pj(butane):\n",
        "  return butane * 28.62 / gj_to_pj\n",
        "\n",
        "# Coal, in tons\n",
        "# Coal has four different \"types\" each resulting in different energy densities.\n",
        "#   Anthracite: 27.70 GJ\n",
        "#   Bituminous: 27.60 GJ\n",
        "#   Lignite: 14.40 GJ\n",
        "#   Subbituminous: 18.80 GJ\n",
        "def coal_to_pj(coal):\n",
        "  return coal * 27.60 / gj_to_pj\n",
        "\n",
        "# Light Crude Oil, in m³\n",
        "#   Light\t1.0 Cubic metres (m³)\t38.51 Gigajoules (GJ)\n",
        "def light_crude_oil_to_pj(crude_oil):\n",
        "  return crude_oil * 38.41 / gj_to_pj\n",
        "\n",
        "# Heavy Crude Oil, in m³\n",
        "#   Heavy\t1.0 Cubic metres (m³)\t40.90 Gigajoules (GJ)\n",
        "def heavy_crude_oil_to_pj(crude_oil):\n",
        "  return crude_oil * 40.90 / gj_to_pj\n",
        "\n",
        "# C5+, in m³\n",
        "#   Pentanes plus\t1.0 Cubic metres (m³)\t35.17 Gigajoules (GJ)\n",
        "def pentanes_plus_crude_oil_to_pj(crude_oil):\n",
        "  return crude_oil * 35.17 / gj_to_pj\n",
        "\n",
        "# Synthetic Crude Oil, in m³\n",
        "#   Synthetic crude oil\t1.0 Cubic metres (m³)\t39.40 Gigajoules (GJ)\n",
        "def synthetic_crude_oil_to_pj(crude_oil):\n",
        "  return crude_oil * 39.40 / gj_to_pj\n",
        "\n",
        "# Bitument Crude Oil\n",
        "#   Bitumen\t1.0 Cubic metres (m³)\t42.80 Gigajoules (GJ)\n",
        "def bitumen_crude_oil_to_pj(crude_oil):\n",
        "  return crude_oil * 42.80 / gj_to_pj\n",
        "\n",
        "# Ethane, in Cubic Metres\n",
        "def ethane_to_pj(ethane):\n",
        "  return ethane * 18.36 / gj_to_pj\n",
        "\n",
        "# Natural Gas, in Cubic Metres\n",
        "def natural_gas_to_pj(natural_gas):\n",
        "  return natural_gas * 0.0373 / gj_to_pj\n",
        "\n",
        "def pentanes_to_pj(pentanes):\n",
        "  return pentanes * 35.17 / gj_to_pj\n",
        "\n",
        "def propane_to_pj(propane):\n",
        "  return propane * 25.53 / gj_to_pj\n",
        "\n",
        "# Using https://www.cesarnet.ca/visualization/sankey-diagrams-canadas-energy-systems 's conversion,\n",
        "# > The primary heat energy generated by uranium depends on the reactor technology being used, and is much higher in reactors that use enriched uranium than in the CANDU natural uranium reactors used in Canada. The typical heat rate for uranium in a CANDU is 7700 MW-days(thermal)/tonne U, which converts to 0.665 PJ/tonne U, and this is the the conversion factor used in this Sankey diagram for estimating the primary energy content of uranium.\n",
        "def uranium_to_pj(uranium):\n",
        "  return uranium * 0.665\n",
        "\n",
        "def gwh_to_pj(gwh):\n",
        "  return gwh * 0.0036"
      ],
      "execution_count": 51,
      "outputs": []
    },
    {
      "cell_type": "code",
      "metadata": {
        "id": "e2UKzwVxuRXy"
      },
      "source": [
        "def extract_butane_data(layer_1, data, year):\n",
        "  butane_data = data[(data[\"Year\"] == year) & (data[\"Unit\"] == \"Thousand Cubic Metres per day\")]\n",
        "\n",
        "  # Butane data is \"per day\". We assume 365 day averages.\n",
        "  layer_1[\"butane_imports\"] = butane_to_pj(1000 * 365 * butane_data[(butane_data[\"Variable\"] == \"Imports to AB from U.S.\")][\"Value\"].sum())\n",
        "  layer_1[\"butane_production\"] = butane_to_pj(1000 * 365 * butane_data[(butane_data[\"Variable\"].isin([\"Production from Gas Processing\", \"Production from Oil Sands off-gas\"]))][\"Value\"].sum())\n",
        "  layer_1[\"butane_exports\"] = butane_to_pj(1000 * 365 * butane_data[(butane_data[\"Variable\"] == \"Projected Exports\")][\"Value\"].sum())"
      ],
      "execution_count": 52,
      "outputs": []
    },
    {
      "cell_type": "code",
      "metadata": {
        "id": "3e5HJmZxE3Xh"
      },
      "source": [
        "def extract_coal_data(layer_1, data, year):\n",
        "  coal_data = data[data[\"Year\"] == year]\n",
        "\n",
        "  # These values are all in kilotons\n",
        "  layer_1[\"coal_imports\"] = coal_to_pj(1000 * coal_data[(coal_data[\"Variable\"] == \"Total\") & (coal_data[\"Type\"] == \"Imports\")].iloc[0][\"Value\"])\n",
        "  layer_1[\"coal_production\"] = coal_to_pj(1000 * coal_data[(coal_data[\"Variable\"] == \"Total\") & (coal_data[\"Type\"] == \"Production\")].iloc[0][\"Value\"])\n",
        "  layer_1[\"coal_exports\"] = coal_to_pj(1000 * coal_data[(coal_data[\"Variable\"] == \"Total\") & (coal_data[\"Type\"] == \"Exports\")].iloc[0][\"Value\"])\n",
        "\n",
        "  #TODO: Use Domestic Demand for other layers"
      ],
      "execution_count": 53,
      "outputs": []
    },
    {
      "cell_type": "code",
      "metadata": {
        "id": "NdnCi_8YyE3Z"
      },
      "source": [
        "def extract_crude_oil_data(layer_1, data, export_data, import_export_data, year):\n",
        "  crude_oil_data = data[(data[\"Scenario\"] == \"Reference\") & (data[\"Year\"] == year) & (data[\"Region\"] == \"Canada\") & (data[\"Unit\"] == \"Thousand Cubic Metres per day\")]\n",
        "  crude_oil_export_data = export_data[(export_data[\"Year\"] == year) & (export_data[\"Oil Type\"] == \"Total\")]\n",
        "\n",
        "  #TODO: THis data set is lacking 2020Q4 so we can't do an accurate picture o 2020 imports.\n",
        "  crude_oil_import_data = import_export_data[(import_export_data[\"Period\"].isin([f'{year}Q1', f'{year}Q2', f'{year}Q3', f'{year}Q4'])) & (import_export_data[\"Product\"] == \"Crude Oil\") & (import_export_data[\"Activity\"] == \"Imports\") & (import_export_data[\"Value\"] != \"Confidential\")]\n",
        "\n",
        "  # We're missing data from 2020Q4, so take the mean of Q1, Q2, and Q3\n",
        "  crude_oil_import_data = import_export_data[(import_export_data[\"Product\"] == \"Crude Oil\") & (import_export_data[\"Activity\"] == \"Imports\") & (import_export_data[\"Value\"] != \"Confidential\")]\n",
        "\n",
        "  import_q1 = crude_oil_import_data[crude_oil_import_data[\"Period\"] == f'{year}Q1'][\"Value\"].astype(float).sum()\n",
        "  import_q2 = crude_oil_import_data[crude_oil_import_data[\"Period\"] == f'{year}Q2'][\"Value\"].astype(float).sum()\n",
        "  import_q3 = crude_oil_import_data[crude_oil_import_data[\"Period\"] == f'{year}Q3'][\"Value\"].astype(float).sum()\n",
        "\n",
        "  # TODO: Get real data. Average is not a great representation.\n",
        "  # TODO: We aren't told what kind of crude oil is imported (marked as N/A) therefore this is a guess and we just label it as heavy as a \"best effort\".\n",
        "  average_import = (import_q1 + import_q2 + import_q3) / 3\n",
        "  layer_1[\"crude_oil_imports\"] = heavy_crude_oil_to_pj(1000 * 365 * average_import)\n",
        "\n",
        "  heavy_crude_oil = crude_oil_data[crude_oil_data[\"Variable\"] == \"Conventional Heavy\"].iloc[0][\"value\"]\n",
        "  light_crude_oil = crude_oil_data[crude_oil_data[\"Variable\"] == \"Conventional Light\"].iloc[0][\"value\"]\n",
        "  pentanes_plus_crude_oil = crude_oil_data[crude_oil_data[\"Variable\"] == \"C5+\"].iloc[0][\"value\"]\n",
        "  synthetic_crude_oil = crude_oil_data[crude_oil_data[\"Variable\"] == \"(Upgraded Bitumen)\"].iloc[0][\"value\"]\n",
        "  bitumen_crude_oil = crude_oil_data[crude_oil_data[\"Variable\"] == \"Mined Bitumen\"].iloc[0][\"value\"] + crude_oil_data[crude_oil_data[\"Variable\"] == \"In Situ Bitumen\"].iloc[0][\"value\"] - synthetic_crude_oil\n",
        "  # TODO: We're currently ignoring Field Condensate (mostly made up of NGL) -- We need to determine if this number is separate from the Butane/Pentane/etc. production\n",
        "\n",
        "  layer_1[\"crude_oil_production\"] = heavy_crude_oil_to_pj(1000 * 365 * heavy_crude_oil) + light_crude_oil_to_pj(1000 * 365 * light_crude_oil) + pentanes_plus_crude_oil_to_pj(1000 * 365 * pentanes_plus_crude_oil) + bitumen_crude_oil_to_pj(1000 * 365 * bitumen_crude_oil) + synthetic_crude_oil_to_pj(1000 * 365 * synthetic_crude_oil)\n",
        "\n",
        "  layer_1[\"crude_oil_exports\"] = heavy_crude_oil_to_pj(365 * crude_oil_export_data[\"Volume (m3/d)\"].iloc[0])"
      ],
      "execution_count": 54,
      "outputs": []
    },
    {
      "cell_type": "code",
      "metadata": {
        "id": "o_-F4Swr09x7"
      },
      "source": [
        "def extract_electricity_data(layer_2, data, year):\n",
        "  electricity_data = data[(data[\"Scenario\"] == \"Reference\") & (data[\"Year\"] == year) & (data[\"Region\"] == \"Canada\")]\n",
        "\n",
        "  # Values in GW/h\n",
        "\n",
        "  #TODO: Convert units\n",
        "  layer_2[\"hydro_wave_tidal\"] = gwh_to_pj(electricity_data[(electricity_data[\"Variable\"] == \"Hydro / Wave / Tidal\")].iloc[0][\"Value\"])\n",
        "  layer_2[\"natural_gas\"] = gwh_to_pj(electricity_data[(electricity_data[\"Variable\"] == \"Natural Gas\")].iloc[0][\"Value\"])\n",
        "  layer_2[\"oil\"] = gwh_to_pj(electricity_data[(electricity_data[\"Variable\"] == \"Oil\")].iloc[0][\"Value\"])\n",
        "  layer_2[\"biomass_geothermal\"] = gwh_to_pj(electricity_data[(electricity_data[\"Variable\"] == \"Biomass / Geothermal\")].iloc[0][\"Value\"])\n",
        "\n",
        "  #TODO: Can this not be split?\n",
        "  layer_2[\"coal_and_coke\"] = gwh_to_pj(electricity_data[(electricity_data[\"Variable\"] == \"Coal & Coke\")].iloc[0][\"Value\"])\n",
        "  layer_2[\"uranium\"] = gwh_to_pj(electricity_data[(electricity_data[\"Variable\"] == \"Uranium\")].iloc[0][\"Value\"])\n",
        "  layer_2[\"solar\"] = gwh_to_pj(electricity_data[(electricity_data[\"Variable\"] == \"Solar\")].iloc[0][\"Value\"])\n",
        "  layer_2[\"wind\"] = gwh_to_pj(electricity_data[(electricity_data[\"Variable\"] == \"Wind\")].iloc[0][\"Value\"])"
      ],
      "execution_count": 55,
      "outputs": []
    },
    {
      "cell_type": "code",
      "metadata": {
        "id": "SZc2NSzs3xPB"
      },
      "source": [
        "def extract_ethane_data(layer_1, data, year):\n",
        "  ethane_data = data[(data[\"Year\"] == year) & (data[\"Unit\"] == \"Thousand Cubic Metres per day\")]\n",
        "\n",
        "  layer_1[\"ethane_imports\"] = ethane_to_pj(1000 * 365 * ethane_data[ethane_data[\"Variable\"].isin([\"Imports to AB from U.S.\", \"Imports to ON from U.S.\"])][\"Value\"].sum())\n",
        "  layer_1[\"ethane_production\"] = ethane_to_pj(1000 * 365 * ethane_data[ethane_data[\"Variable\"].isin([\"Production from Gas Processing\", \"Production from Oil Sands off-gas\"])][\"Value\"].sum())\n",
        "  layer_1[\"ethane_exports\"] = ethane_to_pj(1000 * 365 * ethane_data[ethane_data[\"Variable\"] == \"Exports\"].iloc[0][\"Value\"])"
      ],
      "execution_count": 56,
      "outputs": []
    },
    {
      "cell_type": "code",
      "metadata": {
        "id": "Ai8kPfe-4BkW"
      },
      "source": [
        "def extract_natural_gas_data(layer_1, data, export_data, year):\n",
        "  natural_gas_data = data[(data[\"Year\"] == year) & (data[\"Region\"] == \"Canada\") & (data[\"Unit\"] == \"Million Cubic Metres per day\")]\n",
        "  natural_gas_export_data = export_data[(export_data[\"Year\"] == year)]\n",
        "\n",
        "  #TODO: Confirm http://www.cer-rec.gc.ca/en/data-analysis/energy-commodities/natural-gas/report/natural-gas-summary/natural-gas-annual-trade-summary.html\n",
        "  layer_1[\"natural_gas_imports\"] = natural_gas_to_pj(1000 * natural_gas_export_data[(natural_gas_export_data[\"Activity\"] == \"Imports\")][\"Volume (10^3 m3)\"].sum())\n",
        "  layer_1[\"natural_gas_production\"] = natural_gas_to_pj(1000000 * 365 * natural_gas_data.iloc[0][\"Value\"])\n",
        "  layer_1[\"natural_gas_exports\"] = natural_gas_to_pj(1000 * natural_gas_export_data[(natural_gas_export_data[\"Activity\"] == \"Exports\")][\"Volume (10^3 m3)\"].sum())"
      ],
      "execution_count": 57,
      "outputs": []
    },
    {
      "cell_type": "code",
      "metadata": {
        "id": "k7qVO7Oo4TMz"
      },
      "source": [
        "def extract_pentanes_data(layer_1, data, year):  \n",
        "  pentanes_data = data[(data[\"Year\"] == year) & (data[\"Unit\"] == \"Thousand Cubic Metres per day\")]\n",
        "\n",
        "  layer_1[\"pentane_imports\"] = pentanes_to_pj(1000 * 365 * pentanes_data[pentanes_data[\"Variable\"] == \"Net Imports\"].iloc[0][\"Value\"])\n",
        "  layer_1[\"pentane_production\"] = pentanes_to_pj(1000 * 365 * pentanes_data[pentanes_data[\"Variable\"].isin([\"Produciton from Refineries\", \"Production from Gas Processing - Pentanes Plus\", \"Production from Gas Wells - Liquid Condensate\"])][\"Value\"].sum())\n",
        "  layer_1[\"pentane_exports\"] = pentanes_to_pj(1000 * 365 * pentanes_data[pentanes_data[\"Variable\"] == \"Net Exports\"].iloc[0][\"Value\"])"
      ],
      "execution_count": 58,
      "outputs": []
    },
    {
      "cell_type": "code",
      "metadata": {
        "id": "nixMf8Xn4f30"
      },
      "source": [
        "def extract_propane_data(layer_1, data, year):\n",
        "  propane_data = data[(data[\"Year\"] == year) & (data[\"Unit\"] == \"Thousand Cubic Metres per day\")]\n",
        "\n",
        "  layer_1[\"propane_imports\"] = propane_to_pj(1000 * 365 * propane_data[propane_data[\"Variable\"] == \"Imports\"].iloc[0][\"Value\"])\n",
        "  layer_1[\"propane_production\"] = propane_to_pj(1000 * 365 * propane_data[propane_data[\"Variable\"].isin([\"Production from Gas Processing\", \"Production from Oil Sands off-gas\", \"Production from Refineries\"])][\"Value\"].sum())\n",
        "  layer_1[\"propane_exports\"] = propane_to_pj(1000 * 365 * propane_data[propane_data[\"Variable\"] == \"Projected Exports\"].iloc[0][\"Value\"])"
      ],
      "execution_count": 59,
      "outputs": []
    },
    {
      "cell_type": "code",
      "metadata": {
        "id": "XpuSXzmj__We"
      },
      "source": [
        "def extract_uranium_data(layer_1):\n",
        "  # Uranium\n",
        "  # -------\n",
        "  # Sources\n",
        "  # 1. https://www.world-nuclear.org/information-library/country-profiles/countries-a-f/canada-uranium.aspx\n",
        "  # 2. https://www.cameco.com/invest/financial-information/annual-reports/2020\n",
        "  # 3. https://www.cameco.com/businesses/uranium-operations/canada/cigar-lake\n",
        "  # 4. https://www.nrcan.gc.ca/energy/energy-sources-distribution/uranium-nuclear-energy/uranium-canada/\n",
        "  # 5. https://www.nrcan.gc.ca/energy/energy-sources-distribution/uranium-nuclear-energy/uranium-canada/about-uranium/7695\n",
        "  # 6. https://www.cameco.com/invest/overview\n",
        "  # 7. https://www.world-nuclear.org/information-library/nuclear-fuel-cycle/mining-of-uranium/world-uranium-mining-production.aspx\n",
        "  # \n",
        "  # We have limited data here, but the totals per year are: (tonnes U3O8) [1]\n",
        "  # 2019: 6,938 [7]\n",
        "  # 2018: 7,001\n",
        "  # 2017: 13,116\n",
        "  # 2016: 14,039\n",
        "  # 2015: 13,325\n",
        "  # 2014: 9,134\n",
        "  # 2013: 9,331\n",
        "\n",
        "  # However if we look at Cameco (owner of Canada's Cigar Lake Uranium facility):\n",
        "  # - Cameco represents 50% ownership of the Cigar Lake facility and their 2020 share was 5,000,000 pounds -- thus we can estimate that the Cigar Lake production was 10m lbs. [3]\n",
        "  # - 10m lbs = 5000 tons\n",
        "  # - Cigar Lake represented 100% of Canada's Uranium production in 2019. [1]\n",
        "  uranium_production_2020 = 5000\n",
        "\n",
        "  layer_1[\"uranium_imports\"] = 0\n",
        "  layer_1[\"uranium_production\"] = uranium_to_pj(uranium_production_2020) #tons\n",
        "  layer_1[\"uranium_exports\"] = uranium_to_pj(0.85 * uranium_production_2020)\n",
        "  layer_1[\"uranium_used\"] = uranium_to_pj(0.15 * uranium_production_2020)\n",
        "  # We don't need to cover this number, since it may actually represent previous-year stores being used as well\n",
        "  # [6] https://www.cameco.com/invest/overview (Blind River)\n",
        "  # layer_1[\"uranium_processing\"] = 11.7m kgU"
      ],
      "execution_count": 60,
      "outputs": []
    },
    {
      "cell_type": "code",
      "metadata": {
        "colab": {
          "base_uri": "https://localhost:8080/",
          "height": 581
        },
        "id": "XLnAQEehSVUt",
        "outputId": "1b93f892-b4fa-4de9-e97f-9aacdac57477"
      },
      "source": [
        "def extract_layer_1(layer, year):\n",
        "  extract_butane_data(layer, butane_data, year)\n",
        "  extract_coal_data(layer, coal_data, year)\n",
        "  extract_crude_oil_data(layer, crude_oil_production_data, crude_oil_export_data, cer_imports_exports, year)\n",
        "  extract_ethane_data(layer, ethane_data, year)\n",
        "  extract_natural_gas_data(layer, natural_gas_data, natural_gas_export_data, year)\n",
        "  extract_pentanes_data(layer, pentanes_data, year)\n",
        "  extract_propane_data(layer, propane_data, year)\n",
        "  extract_uranium_data(layer)\n",
        "\n",
        "def extract_layer_2(layer, year):\n",
        "  extract_electricity_data(layer, electricity_data, year)\n",
        "\n",
        "extract_layer_1(layer_1_production_and_imports, 2020)\n",
        "extract_layer_2(layer_2_primary_energy, 2020)\n",
        "display(layer_1_production_and_imports)\n",
        "\n",
        "display(layer_2_primary_energy)"
      ],
      "execution_count": 61,
      "outputs": [
        {
          "output_type": "display_data",
          "data": {
            "text/plain": "{'butane_imports': 22.081154525028,\n 'butane_production': 512.9647136365068,\n 'butane_exports': 160.0354700761122,\n 'coal_imports': 162.66573448320003,\n 'coal_production': 1245.751417116,\n 'coal_exports': 896.6025652440001,\n 'crude_oil_imports': 1294.948605391703,\n 'crude_oil_production': 10279.083898502427,\n 'crude_oil_exports': 8713.894234706087,\n 'ethane_imports': 230.099958365724,\n 'ethane_production': 477.62991630643666,\n 'ethane_exports': 0.0,\n 'natural_gas_imports': 1693.4744250955812,\n 'natural_gas_production': 6062.15880664835,\n 'natural_gas_exports': 5290.62272400377,\n 'pentane_imports': 395.79014831042747,\n 'pentane_production': 1857.7547574999141,\n 'pentane_exports': 0.0,\n 'propane_imports': 21.6585977511597,\n 'propane_production': 872.9869648030601,\n 'propane_exports': 298.146518487105,\n 'uranium_imports': 0,\n 'uranium_production': 3325.0,\n 'uranium_exports': 2826.25,\n 'uranium_used': 498.75}"
          },
          "metadata": {}
        },
        {
          "output_type": "display_data",
          "data": {
            "text/plain": "{'hydro_wave_tidal': 1385.72064,\n 'natural_gas': 252.60242399999998,\n 'oil': 9.28350036,\n 'biomass_geothermal': 29.512054799999998,\n 'coal_and_coke': 121.35540095999998,\n 'uranium': 320.65128,\n 'solar': 11.438586,\n 'wind': 124.822944}"
          },
          "metadata": {}
        }
      ]
    },
    {
      "cell_type": "code",
      "execution_count": 62,
      "metadata": {},
      "outputs": [],
      "source": [
        "colours = {\n",
        "  \"Butane Production\" : \"#f94144\",\n",
        "  \"Butane Imports\" : \"#f94144\",\n",
        "  \"Butane Exports\" : \"#f94144\",\n",
        "\n",
        "  \"Coal Production\" : \"#f3722c\",\n",
        "  \"Coal Imports\" : \"#f3722c\",\n",
        "  \"Primary Coal\" : \"#f3722c\",\n",
        "\n",
        "  \"Crude Oil Production\" : \"#f8961e\",\n",
        "  \"Crude Oil Imports\" : \"#f8961e\",\n",
        "  \"Primary RPP\" : \"#f8961e\",\n",
        "  \n",
        "  \"Ethane Production\" : \"#f9844a\",\n",
        "  \"Ethane Imports\" : \"#f9844a\",\n",
        "  \"Ethane Exports\" : \"#f9844a\",\n",
        "  \n",
        "  \"Natural Gas Production\" : \"#f9c74f\",\n",
        "  \"Natural Gas Imports\" : \"#f9c74f\",\n",
        "  \n",
        "  \"Primary Natural Gas\" : \"#f9c74f\",\n",
        "  \n",
        "  \"Pentane Production\" : \"#90be6d\",\n",
        "  \"Pentane Imports\" : \"#90be6d\",\n",
        "  \"Pentane Exports\" : \"#90be6d\",\n",
        "  \n",
        "  \"Propane Production\" : \"#4d908e\",\n",
        "  \"Propane Imports\" : \"#4d908e\",\n",
        "  \"Propane Exports\" : \"#4d908e\",\n",
        "\n",
        "  \"Uranium Production\" : \"#577590\",\n",
        "  \"Uranium Imports\" : \"#577590\",\n",
        "  \"Primary Uranium\" : \"#577590\",\n",
        "\n",
        "  \"Hydroelectric Energy Production\" : \"#277da1\",\n",
        "  \"Primary Hydro\" : \"#277da1\",\n",
        "\n",
        "  \"Wind Energy Production\" : \"#f3722c\",\n",
        "  \"Primary Wind\" : \"#f3722c\",\n",
        "\n",
        "  \"TODO ???\" : \"black\",\n",
        "  \"TODO ????\" : \"black\",\n",
        "\n",
        "  \"Primary NGL\" : \"#f3722c\",\n",
        "  \"Primary Other Renewables and Landfill Gas\" : \"black\",\n",
        "}"
      ]
    },
    {
      "cell_type": "code",
      "execution_count": 71,
      "metadata": {},
      "outputs": [
        {
          "output_type": "error",
          "ename": "AttributeError",
          "evalue": "'Sankey' object has no attribute 'validate'",
          "traceback": [
            "\u001b[0;31m---------------------------------------------------------------------------\u001b[0m",
            "\u001b[0;31mAttributeError\u001b[0m                            Traceback (most recent call last)",
            "\u001b[0;32m<ipython-input-71-96b59e5a70d0>\u001b[0m in \u001b[0;36m<module>\u001b[0;34m\u001b[0m\n\u001b[1;32m     88\u001b[0m \u001b[0;34m\u001b[0m\u001b[0m\n\u001b[1;32m     89\u001b[0m \u001b[0msankey\u001b[0m\u001b[0;34m.\u001b[0m\u001b[0mset_colours\u001b[0m\u001b[0;34m(\u001b[0m\u001b[0mcolours\u001b[0m\u001b[0;34m)\u001b[0m\u001b[0;34m\u001b[0m\u001b[0;34m\u001b[0m\u001b[0m\n\u001b[0;32m---> 90\u001b[0;31m \u001b[0msankey\u001b[0m\u001b[0;34m.\u001b[0m\u001b[0mvalidate\u001b[0m\u001b[0;34m(\u001b[0m\u001b[0;34m)\u001b[0m\u001b[0;34m\u001b[0m\u001b[0;34m\u001b[0m\u001b[0m\n\u001b[0m\u001b[1;32m     91\u001b[0m \u001b[0;34m\u001b[0m\u001b[0m\n\u001b[1;32m     92\u001b[0m \u001b[0msankey\u001b[0m\u001b[0;34m.\u001b[0m\u001b[0mrender\u001b[0m\u001b[0;34m(\u001b[0m\u001b[0;34m\"2020 Canadian Energy Future Sankey Diagram\"\u001b[0m\u001b[0;34m)\u001b[0m\u001b[0;34m\u001b[0m\u001b[0;34m\u001b[0m\u001b[0m\n",
            "\u001b[0;31mAttributeError\u001b[0m: 'Sankey' object has no attribute 'validate'"
          ]
        }
      ],
      "source": [
        "from sankey import Sankey\n",
        "sankey = Sankey()\n",
        "\n",
        "# Natural Gas Liquids\n",
        "# Butane\n",
        "sankey.add_edge(\"Butane Production\", \"Primary NGL\", layer_1_production_and_imports[\"butane_production\"])\n",
        "sankey.add_edge(\"Butane Imports\", \"Primary NGL\", layer_1_production_and_imports[\"butane_imports\"])\n",
        "\n",
        "sankey.add_edge(\"Primary NGL\", \"Butane Exports\", layer_1_production_and_imports[\"butane_exports\"])\n",
        "sankey.add_edge(\"Butane Exports\", \"Exports\", layer_1_production_and_imports[\"butane_exports\"])\n",
        "\n",
        "# Ethane\n",
        "sankey.add_edge(\"Ethane Production\", \"Primary NGL\", layer_1_production_and_imports[\"ethane_production\"])\n",
        "sankey.add_edge(\"Ethane Imports\", \"Primary NGL\", layer_1_production_and_imports[\"ethane_imports\"])\n",
        "\n",
        "sankey.add_edge(\"Primary NGL\", \"Ethane Exports\", layer_1_production_and_imports[\"ethane_exports\"])\n",
        "sankey.add_edge(\"Ethane Exports\", \"Exports\", layer_1_production_and_imports[\"ethane_exports\"])\n",
        "\n",
        "# Pentane\n",
        "sankey.add_edge(\"Pentane Production\", \"Primary NGL\", layer_1_production_and_imports[\"pentane_production\"])\n",
        "sankey.add_edge(\"Pentane Imports\", \"Primary NGL\", layer_1_production_and_imports[\"pentane_imports\"])\n",
        "\n",
        "sankey.add_edge(\"Primary NGL\", \"Pentane Exports\", layer_1_production_and_imports[\"pentane_exports\"])\n",
        "sankey.add_edge(\"Pentane Exports\", \"Exports\", layer_1_production_and_imports[\"pentane_exports\"])\n",
        "\n",
        "# Propane\n",
        "sankey.add_edge(\"Propane Production\", \"Primary NGL\", layer_1_production_and_imports[\"propane_production\"])\n",
        "sankey.add_edge(\"Propane Imports\", \"Primary NGL\", layer_1_production_and_imports[\"propane_imports\"])\n",
        "\n",
        "sankey.add_edge(\"Primary NGL\", \"Propane Exports\", layer_1_production_and_imports[\"propane_exports\"])\n",
        "sankey.add_edge(\"Propane Exports\", \"Exports\", layer_1_production_and_imports[\"propane_exports\"])\n",
        "\n",
        "sankey.add_edge(\"Primary NGL\", \"TODO Produced & Distributed Energy\", 1.0)\n",
        "\n",
        "# ---\n",
        "\n",
        "# Natural Gas\n",
        "sankey.add_edge(\"Natural Gas Production\", \"Primary Natural Gas\", layer_1_production_and_imports[\"natural_gas_production\"])\n",
        "sankey.add_edge(\"Natural Gas Imports\", \"Primary Natural Gas\", layer_1_production_and_imports[\"natural_gas_imports\"])\n",
        "\n",
        "sankey.add_edge(\"Primary Natural Gas\", \"Exports\", layer_1_production_and_imports[\"natural_gas_exports\"])\n",
        "sankey.add_edge(\"Primary Natural Gas\", \"TODO Produced & Distributed Energy\", 1.0)\n",
        "\n",
        "# ---\n",
        "\n",
        "# Coal\n",
        "sankey.add_edge(\"Coal Production\", \"Primary Coal\", layer_1_production_and_imports[\"coal_production\"])\n",
        "sankey.add_edge(\"Coal Imports\", \"Primary Coal\", layer_1_production_and_imports[\"coal_imports\"])\n",
        "\n",
        "sankey.add_edge(\"Primary Coal\", \"Exports\", layer_1_production_and_imports[\"coal_exports\"])\n",
        "sankey.add_edge(\"Primary Coal\", \"TODO Produced & Distributed Energy\", 1.0)\n",
        "\n",
        "# Crude Oil\n",
        "sankey.add_edge(\"Crude Oil Production\", \"Primary RPP\", layer_1_production_and_imports[\"crude_oil_production\"])\n",
        "sankey.add_edge(\"Crude Oil Imports\", \"Primary RPP\", layer_1_production_and_imports[\"crude_oil_imports\"])\n",
        "\n",
        "sankey.add_edge(\"Primary RPP\", \"Exports\", layer_1_production_and_imports[\"crude_oil_exports\"])\n",
        "sankey.add_edge(\"Primary RPP\", \"TODO Produced & Distributed Energy\", 1.0)\n",
        "\n",
        "# Uranium\n",
        "sankey.add_edge(\"Uranium Production\", \"Primary Uranium\", layer_1_production_and_imports[\"uranium_production\"])\n",
        "sankey.add_edge(\"Uranium Imports\", \"Primary Uranium\", layer_1_production_and_imports[\"uranium_imports\"])\n",
        "\n",
        "sankey.add_edge(\"Primary Uranium\", \"Exports\", layer_1_production_and_imports[\"uranium_exports\"])\n",
        "sankey.add_edge(\"Primary Uranium\", \"Reserves or Error\", layer_1_production_and_imports[\"uranium_production\"] - layer_1_production_and_imports[\"uranium_exports\"] - layer_2_primary_energy[\"uranium\"])\n",
        "# Renewables\n",
        "sankey.add_edge(\"Wind Energy Production\", \"Primary Wind\", layer_2_primary_energy[\"wind\"])\n",
        "sankey.add_edge(\"Hydroelectric Energy Production\", \"Primary Hydro\", layer_2_primary_energy[\"hydro_wave_tidal\"])\n",
        "sankey.add_edge(\"Solar Energy Production\", \"Primary Solar\", layer_2_primary_energy[\"solar\"])\n",
        "\n",
        "#TODO: This needs to be properly calculated\n",
        "sankey.add_edge(\"Biomass & Geothermal\", \"Primary Other Renewables and Landfill Gas\", layer_2_primary_energy[\"biomass_geothermal\"])\n",
        "\n",
        "# Other\n",
        "sankey.add_edge(\"TODO ???\", \"TODO ????\", 1.0)\n",
        "sankey.add_edge(\"TODO ????\", \"Primary Other Renewables and Landfill Gas\", 1.0)\n",
        "\n",
        "# Electricity\n",
        "sankey.add_edge(\"Primary Coal\", \"Electricity\", layer_2_primary_energy[\"coal_and_coke\"])\n",
        "sankey.add_edge(\"Primary Hydro\", \"Electricity\", layer_2_primary_energy[\"hydro_wave_tidal\"])\n",
        "\n",
        "sankey.add_edge(\"Primary Natural Gas\", \"Electricity\", layer_2_primary_energy[\"natural_gas\"])\n",
        "sankey.add_edge(\"Primary Uranium\", \"Electricity\", layer_2_primary_energy[\"uranium\"])\n",
        "sankey.add_edge(\"Primary Other Renewables and Landfill Gas\", \"Electricity\", layer_2_primary_energy[\"biomass_geothermal\"])\n",
        "sankey.add_edge(\"Primary Solar\", \"Electricity\", layer_2_primary_energy[\"solar\"])\n",
        "sankey.add_edge(\"Primary RPP\", \"Electricity\", layer_2_primary_energy[\"oil\"])\n",
        "sankey.add_edge(\"Primary Wind\", \"Electricity\", layer_2_primary_energy[\"wind\"])\n",
        "\n",
        "sankey.set_colours(colours)\n",
        "sankey.validate()\n",
        "\n",
        "sankey.render(\"2020 Canadian Energy Future Sankey Diagram\")\n"
      ]
    },
    {
      "cell_type": "code",
      "execution_count": null,
      "metadata": {},
      "outputs": [],
      "source": []
    },
    {
      "cell_type": "code",
      "metadata": {
        "id": "i-E4eFOi4xXT"
      },
      "source": [
        "end_use_demand_data_2020 = end_use_demand_data[(end_use_demand_data[\"Year\"] == 2020) & (end_use_demand_data[\"Region\"] == \"Canada\")]\n",
        "display(end_use_demand_data_2020)"
      ],
      "execution_count": 64,
      "outputs": [
        {
          "output_type": "display_data",
          "data": {
            "text/plain": "        Scenario  Unit  Region                    Variable  Type  Year  \\\n642    Reference   NaN  Canada               Total End-Use   NaN  2020   \n643    Reference   NaN  Canada                 Electricity   NaN  2020   \n644    Reference   NaN  Canada                 Natural Gas   NaN  2020   \n645    Reference   NaN  Canada                         RPP   NaN  2020   \n646    Reference   NaN  Canada  Biofuels & Emerging Energy   NaN  2020   \n...          ...   ...     ...                         ...   ...   ...   \n40571   Evolving   NaN  Canada                 Natural Gas   NaN  2020   \n40572   Evolving   NaN  Canada                         RPP   NaN  2020   \n40573   Evolving   NaN  Canada  Biofuels & Emerging Energy   NaN  2020   \n40574   Evolving   NaN  Canada                       Other   NaN  2020   \n40575   Evolving   NaN  Canada               Total End-Use   NaN  2020   \n\n            Value         Sector  \n642     1760.9776    Residential  \n643      688.3434    Residential  \n644      816.7201    Residential  \n645       76.2924    Residential  \n646      179.6216    Residential  \n...           ...            ...  \n40571   4294.0171  Total End-Use  \n40572   4444.1012  Total End-Use  \n40573    627.4849  Total End-Use  \n40574    120.6927  Total End-Use  \n40575  11364.7302  Total End-Use  \n\n[68 rows x 8 columns]",
            "text/html": "<div>\n<style scoped>\n    .dataframe tbody tr th:only-of-type {\n        vertical-align: middle;\n    }\n\n    .dataframe tbody tr th {\n        vertical-align: top;\n    }\n\n    .dataframe thead th {\n        text-align: right;\n    }\n</style>\n<table border=\"1\" class=\"dataframe\">\n  <thead>\n    <tr style=\"text-align: right;\">\n      <th></th>\n      <th>Scenario</th>\n      <th>Unit</th>\n      <th>Region</th>\n      <th>Variable</th>\n      <th>Type</th>\n      <th>Year</th>\n      <th>Value</th>\n      <th>Sector</th>\n    </tr>\n  </thead>\n  <tbody>\n    <tr>\n      <th>642</th>\n      <td>Reference</td>\n      <td>NaN</td>\n      <td>Canada</td>\n      <td>Total End-Use</td>\n      <td>NaN</td>\n      <td>2020</td>\n      <td>1760.9776</td>\n      <td>Residential</td>\n    </tr>\n    <tr>\n      <th>643</th>\n      <td>Reference</td>\n      <td>NaN</td>\n      <td>Canada</td>\n      <td>Electricity</td>\n      <td>NaN</td>\n      <td>2020</td>\n      <td>688.3434</td>\n      <td>Residential</td>\n    </tr>\n    <tr>\n      <th>644</th>\n      <td>Reference</td>\n      <td>NaN</td>\n      <td>Canada</td>\n      <td>Natural Gas</td>\n      <td>NaN</td>\n      <td>2020</td>\n      <td>816.7201</td>\n      <td>Residential</td>\n    </tr>\n    <tr>\n      <th>645</th>\n      <td>Reference</td>\n      <td>NaN</td>\n      <td>Canada</td>\n      <td>RPP</td>\n      <td>NaN</td>\n      <td>2020</td>\n      <td>76.2924</td>\n      <td>Residential</td>\n    </tr>\n    <tr>\n      <th>646</th>\n      <td>Reference</td>\n      <td>NaN</td>\n      <td>Canada</td>\n      <td>Biofuels &amp; Emerging Energy</td>\n      <td>NaN</td>\n      <td>2020</td>\n      <td>179.6216</td>\n      <td>Residential</td>\n    </tr>\n    <tr>\n      <th>...</th>\n      <td>...</td>\n      <td>...</td>\n      <td>...</td>\n      <td>...</td>\n      <td>...</td>\n      <td>...</td>\n      <td>...</td>\n      <td>...</td>\n    </tr>\n    <tr>\n      <th>40571</th>\n      <td>Evolving</td>\n      <td>NaN</td>\n      <td>Canada</td>\n      <td>Natural Gas</td>\n      <td>NaN</td>\n      <td>2020</td>\n      <td>4294.0171</td>\n      <td>Total End-Use</td>\n    </tr>\n    <tr>\n      <th>40572</th>\n      <td>Evolving</td>\n      <td>NaN</td>\n      <td>Canada</td>\n      <td>RPP</td>\n      <td>NaN</td>\n      <td>2020</td>\n      <td>4444.1012</td>\n      <td>Total End-Use</td>\n    </tr>\n    <tr>\n      <th>40573</th>\n      <td>Evolving</td>\n      <td>NaN</td>\n      <td>Canada</td>\n      <td>Biofuels &amp; Emerging Energy</td>\n      <td>NaN</td>\n      <td>2020</td>\n      <td>627.4849</td>\n      <td>Total End-Use</td>\n    </tr>\n    <tr>\n      <th>40574</th>\n      <td>Evolving</td>\n      <td>NaN</td>\n      <td>Canada</td>\n      <td>Other</td>\n      <td>NaN</td>\n      <td>2020</td>\n      <td>120.6927</td>\n      <td>Total End-Use</td>\n    </tr>\n    <tr>\n      <th>40575</th>\n      <td>Evolving</td>\n      <td>NaN</td>\n      <td>Canada</td>\n      <td>Total End-Use</td>\n      <td>NaN</td>\n      <td>2020</td>\n      <td>11364.7302</td>\n      <td>Total End-Use</td>\n    </tr>\n  </tbody>\n</table>\n<p>68 rows × 8 columns</p>\n</div>"
          },
          "metadata": {}
        }
      ]
    },
    {
      "cell_type": "code",
      "execution_count": null,
      "metadata": {},
      "outputs": [],
      "source": []
    },
    {
      "cell_type": "markdown",
      "metadata": {
        "id": "04iV6Xzj1v99"
      },
      "source": [
        "# Production 2019\n",
        "\n",
        "This section outlines how our energy was produced.\n",
        "\n",
        "Canada produces *energy* in the following forms:\n",
        "\n",
        "## Primary Energy\n",
        "1. Coal\n",
        "2. Crude Oil\n",
        "3. Natural Gas\n",
        "4. Natural Gas liquids (NGL)\n",
        "5. Hydro\n",
        "6. Nuclear\n",
        "7. Steam\n",
        "8. Wind\n",
        "9. Solar\n",
        "\n",
        "## Secondary Energy\n",
        "8. Coke\n",
        "9. Coke Oven Gas\n",
        "10. Refined Petroleum Products\n",
        "11. Secondary Electricity Sources (i.e. Thermal)\n",
        "\n",
        "Source: https://www150.statcan.gc.ca/t1/tbl1/en/cv.action?pid=2510003001\n",
        "\n",
        "See: data/Canada/2510003001-eng.csv\n",
        "\n",
        "**Note**: All energy values are to be shown as [quads](https://en.wikipedia.org/wiki/Quad_(unit)), where one quad is equal to 10^16 BTU or 1.055 * 10^18 joules (1.055 exajoules)\n",
        "\n",
        "> Some common types of an energy carrier approximately equal to 1 quad are:\n",
        "\n",
        "    8,007,000,000 gallons (US) of gasoline\n",
        "    293,071,000,000 kilowatt-hours (kWh)\n",
        "    293.07 terawatt-hours (TWh)\n",
        "    33.434 gigawatt-years (GWy)\n",
        "    36,000,000 tonnes of coal\n",
        "    970,434,000,000 cubic feet of natural gas\n",
        "    5,996,000,000 UK gallons of diesel oil\n",
        "    25,200,000 tonnes of oil\n",
        "    252,000,000 tonnes of TNT or five times the energy of the Tsar Bomba nuclear test\n",
        "    13.3 tonnes of uranium-235\n"
      ]
    },
    {
      "cell_type": "code",
      "metadata": {
        "id": "8VSlVCHz8Nwd"
      },
      "source": [
        "## Global\n",
        "\n",
        "production = {}\n",
        "imports = {}\n",
        "exports = {}"
      ],
      "execution_count": 65,
      "outputs": []
    },
    {
      "cell_type": "code",
      "metadata": {
        "id": "Y8WsWftK12BR"
      },
      "source": [
        "## Coal\n",
        "\n",
        "kiloton_to_tons = 1000\n",
        "quad_to_kiloton_of_coal = 36000000\n",
        "\n",
        "def kiloton_of_coal_to_quad(kilotons):\n",
        "  return kilotons * kiloton_to_tons / quad_to_kiloton_of_coal\n",
        "\n",
        "production[\"coal\"] = kiloton_of_coal_to_quad(50577.50)\n",
        "imports[\"coal\"] = kiloton_of_coal_to_quad(0)\n",
        "exports[\"coal\"] = kiloton_of_coal_to_quad(0)"
      ],
      "execution_count": 66,
      "outputs": []
    },
    {
      "cell_type": "code",
      "metadata": {
        "id": "XZv0gpJP84qw"
      },
      "source": [
        "## Crude Oil\n",
        "\n",
        "megalitre_of_crude_oil = 1000000\n",
        "barrel_of_oil_in_litres = 158.9873\n",
        "quad_to_boe = 180135869.19434\n",
        "\n",
        "def megalitre_to_quad(megalitres):\n",
        "  return megalitres * megalitre_of_crude_oil / barrel_of_oil_in_litres / quad_to_boe\n",
        "\n",
        "production[\"crude_oil\"] = megalitre_to_quad(272186.3)\n",
        "imports[\"crude_oil\"] = megalitre_to_quad(45484.7)\n",
        "exports[\"crude_oil\"] = megalitre_to_quad(219364.7)"
      ],
      "execution_count": 67,
      "outputs": []
    },
    {
      "cell_type": "code",
      "metadata": {
        "id": "0axK5Fer_Jr2"
      },
      "source": [
        "## Natural Gas\n",
        "\n",
        "# Gigalitre is 1000 * 1000 * 1000 litres. 1000 litres in a cubic metre.\n",
        "gigalitres_to_cubic_metres = 1000000\n",
        "# 1 Gm3 NG = 0.035687347874265 quad\n",
        "cubic_meter_to_quad = 0.035687347874265 / 1000000000\n",
        "\n",
        "def gigalitre_to_quad(gigalitre):\n",
        "  return gigalitre * gigalitres_to_cubic_metres * cubic_meter_to_quad\n",
        "\n",
        "  #TODO: Fill out prod/imports/exports"
      ],
      "execution_count": 68,
      "outputs": []
    },
    {
      "cell_type": "markdown",
      "metadata": {
        "id": "EEg0wkF0BACs"
      },
      "source": [
        "## Supply 2019"
      ]
    },
    {
      "cell_type": "code",
      "metadata": {
        "id": "Ci-yJbJOHFAa"
      },
      "source": [
        "energy_types = ['Hydro / Wave / Tidal', 'Natural Gas', 'Oil', 'Biomass / Geothermal', 'Coal & Coke', 'Uranium', 'Solar', 'Wind']\n",
        "\n",
        "# Returns a dictionary with energy production by year in the following format:\n",
        "# ```\n",
        "# {\n",
        "#   \"2005\": {\n",
        "#     \"Alberta\": {\n",
        "#       \"Hydro / Wave / Tidal\": value\n",
        "#     },\n",
        "#     ...\n",
        "#   }\n",
        "# }\n",
        "# ```\n",
        "def load_generation_data():\n",
        "  energy_production = {}\n",
        "  canada_energy_production = {}\n",
        "\n",
        "  with open(f'{data_folder}/canada/electricity-generation-2019.csv') as csv_file:\n",
        "    reader = csv.reader(csv_file)\n",
        "    # Skip the header line\n",
        "    next(reader)\n",
        "  \n",
        "    for row in reader:\n",
        "      province = row[1]\n",
        "      energy_type = row[2]\n",
        "      year = row[4]\n",
        "      quantity = float(row[5])\n",
        "\n",
        "      # We don't want Canada-wide data (we can aggregate it ourselves)\n",
        "      if province == \"Canada\":\n",
        "        year_dictionary = get_nested_dictionary(canada_energy_production, year)\n",
        "        year_dictionary[energy_type] = quantity\n",
        "      else:\n",
        "        year_dictionary = get_nested_dictionary(energy_production, year)\n",
        "        province_dictionary = get_nested_dictionary(year_dictionary, province)\n",
        "        province_dictionary[energy_type] = quantity\n",
        "  return energy_production, canada_energy_production\n",
        "\n",
        "def get_nested_dictionary(dictionary, key):\n",
        "  value = dictionary.get(key)\n",
        "  if value == None:\n",
        "    dictionary[key] = {}\n",
        "    value = dictionary[key]\n",
        "  return value\n",
        "\n",
        "def extract_energy_values(energy_production, year):\n",
        "  flattened_values = []\n",
        "  \n",
        "  for row in list(energy_production[year].items()):\n",
        "    energy = [row[0]]\n",
        "    for energy_type in energy_types:\n",
        "      energy.append(row[1][energy_type])\n",
        "    flattened_values.append(energy)\n",
        "\n",
        "  return np.array(flattened_values)\n",
        "\n",
        "def style_axes(ax):\n",
        "  # The following was copied from https://www.pythoncharts.com/matplotlib/grouped-bar-charts-matplotlib/\n",
        "  ax.spines['top'].set_visible(False)\n",
        "  ax.spines['right'].set_visible(False)\n",
        "  ax.spines['left'].set_visible(False)\n",
        "  ax.spines['bottom'].set_color('#DDDDDD')\n",
        "  ax.tick_params(bottom=False, left=False)\n",
        "  ax.set_axisbelow(True)\n",
        "  ax.yaxis.grid(True, color='#EEEEEE')\n",
        "  ax.xaxis.grid(False)\n",
        "\n",
        "  # For each bar in the chart, add a text label so we can easily read the graph\n",
        "  for bar in ax.patches:\n",
        "    bar_value = bar.get_height()\n",
        "    # Don't show any decimal values (they're big enough)\n",
        "    text = f'{bar_value:.0f}'\n",
        "    text_x = bar.get_x() + bar.get_width() / 2\n",
        "    text_y = bar.get_y() + bar_value\n",
        "\n",
        "    ax.text(text_x, text_y, text, ha='center', va='bottom', color=bar.get_facecolor(), size=12)\n",
        "\n",
        "def plot_energy_by_province(title, energy_values):\n",
        "  province_names = energy_values[:, 0]\n",
        "  province_count = len(province_names)\n",
        "  energy_type_count = len(energy_types)\n",
        "\n",
        "  bar_width = 1.0\n",
        "  full_width = energy_type_count * bar_width\n",
        "  half_width = full_width / 2\n",
        "  padding = bar_width * 2\n",
        "\n",
        "  # This represents the location of the xticks (or the center of the 'bars') so we need to account for the full width of the bars, otherwise we overlap\n",
        "  x = np.arange(province_count) * (full_width + padding)\n",
        "\n",
        "  fig_width = bar_width * (province_count) * energy_type_count\n",
        "\n",
        "  fig, ax = plt.subplots(figsize=(fig_width, 10))\n",
        "  for i in range(energy_type_count):\n",
        "    ax.bar(x - half_width + i * bar_width, energy_values[:, i + 1].astype(np.float), width=bar_width)\n",
        "\n",
        "  style_axes(ax)\n",
        "\n",
        "  plt.xticks(x - bar_width / 2, province_names)\n",
        "  plt.ylabel('GWh Generated')\n",
        "  plt.xlabel('Provinces')\n",
        "  plt.title(title)\n",
        "  plt.legend(energy_types)\n",
        "\n",
        "  plt.show()"
      ],
      "execution_count": 69,
      "outputs": []
    },
    {
      "cell_type": "code",
      "metadata": {
        "id": "RsCxnR6XIoTw"
      },
      "source": [
        "# Plot 2019 Data\n",
        "\n",
        "energy_production, canada_energy_production = load_generation_data()\n",
        "energy_values = extract_energy_values(energy_production, '2019')\n",
        "plot_energy_by_province('2019 Energy Production - Canada', energy_values)"
      ],
      "execution_count": 70,
      "outputs": [
        {
          "output_type": "error",
          "ename": "NameError",
          "evalue": "name 'data_folder' is not defined",
          "traceback": [
            "\u001b[0;31m---------------------------------------------------------------------------\u001b[0m",
            "\u001b[0;31mNameError\u001b[0m                                 Traceback (most recent call last)",
            "\u001b[0;32m<ipython-input-70-9e7ebb922228>\u001b[0m in \u001b[0;36m<module>\u001b[0;34m\u001b[0m\n\u001b[1;32m      1\u001b[0m \u001b[0;31m# Plot 2019 Data\u001b[0m\u001b[0;34m\u001b[0m\u001b[0;34m\u001b[0m\u001b[0;34m\u001b[0m\u001b[0m\n\u001b[1;32m      2\u001b[0m \u001b[0;34m\u001b[0m\u001b[0m\n\u001b[0;32m----> 3\u001b[0;31m \u001b[0menergy_production\u001b[0m\u001b[0;34m,\u001b[0m \u001b[0mcanada_energy_production\u001b[0m \u001b[0;34m=\u001b[0m \u001b[0mload_generation_data\u001b[0m\u001b[0;34m(\u001b[0m\u001b[0;34m)\u001b[0m\u001b[0;34m\u001b[0m\u001b[0;34m\u001b[0m\u001b[0m\n\u001b[0m\u001b[1;32m      4\u001b[0m \u001b[0menergy_values\u001b[0m \u001b[0;34m=\u001b[0m \u001b[0mextract_energy_values\u001b[0m\u001b[0;34m(\u001b[0m\u001b[0menergy_production\u001b[0m\u001b[0;34m,\u001b[0m \u001b[0;34m'2019'\u001b[0m\u001b[0;34m)\u001b[0m\u001b[0;34m\u001b[0m\u001b[0;34m\u001b[0m\u001b[0m\n\u001b[1;32m      5\u001b[0m \u001b[0mplot_energy_by_province\u001b[0m\u001b[0;34m(\u001b[0m\u001b[0;34m'2019 Energy Production - Canada'\u001b[0m\u001b[0;34m,\u001b[0m \u001b[0menergy_values\u001b[0m\u001b[0;34m)\u001b[0m\u001b[0;34m\u001b[0m\u001b[0;34m\u001b[0m\u001b[0m\n",
            "\u001b[0;32m<ipython-input-69-ed4d2af15169>\u001b[0m in \u001b[0;36mload_generation_data\u001b[0;34m()\u001b[0m\n\u001b[1;32m     16\u001b[0m   \u001b[0mcanada_energy_production\u001b[0m \u001b[0;34m=\u001b[0m \u001b[0;34m{\u001b[0m\u001b[0;34m}\u001b[0m\u001b[0;34m\u001b[0m\u001b[0;34m\u001b[0m\u001b[0m\n\u001b[1;32m     17\u001b[0m \u001b[0;34m\u001b[0m\u001b[0m\n\u001b[0;32m---> 18\u001b[0;31m   \u001b[0;32mwith\u001b[0m \u001b[0mopen\u001b[0m\u001b[0;34m(\u001b[0m\u001b[0;34mf'{data_folder}/canada/electricity-generation-2019.csv'\u001b[0m\u001b[0;34m)\u001b[0m \u001b[0;32mas\u001b[0m \u001b[0mcsv_file\u001b[0m\u001b[0;34m:\u001b[0m\u001b[0;34m\u001b[0m\u001b[0;34m\u001b[0m\u001b[0m\n\u001b[0m\u001b[1;32m     19\u001b[0m     \u001b[0mreader\u001b[0m \u001b[0;34m=\u001b[0m \u001b[0mcsv\u001b[0m\u001b[0;34m.\u001b[0m\u001b[0mreader\u001b[0m\u001b[0;34m(\u001b[0m\u001b[0mcsv_file\u001b[0m\u001b[0;34m)\u001b[0m\u001b[0;34m\u001b[0m\u001b[0;34m\u001b[0m\u001b[0m\n\u001b[1;32m     20\u001b[0m     \u001b[0;31m# Skip the header line\u001b[0m\u001b[0;34m\u001b[0m\u001b[0;34m\u001b[0m\u001b[0;34m\u001b[0m\u001b[0m\n",
            "\u001b[0;31mNameError\u001b[0m: name 'data_folder' is not defined"
          ]
        }
      ]
    },
    {
      "cell_type": "markdown",
      "metadata": {
        "id": "H7LEkqvMBBmg"
      },
      "source": [
        "## Demand 2019\n"
      ]
    },
    {
      "cell_type": "code",
      "metadata": {
        "id": "N5L9VNfFBHxs"
      },
      "source": [],
      "execution_count": null,
      "outputs": []
    },
    {
      "cell_type": "markdown",
      "metadata": {
        "id": "i-Jp9K7sBCkP"
      },
      "source": [
        "## Emissions\n"
      ]
    },
    {
      "cell_type": "code",
      "metadata": {
        "id": "uP0ici8KBINj"
      },
      "source": [],
      "execution_count": null,
      "outputs": []
    },
    {
      "cell_type": "markdown",
      "metadata": {
        "id": "k4IAUShzBGBS"
      },
      "source": [
        "## Solutions"
      ]
    },
    {
      "cell_type": "code",
      "metadata": {
        "id": "fo95vQAIBInA"
      },
      "source": [],
      "execution_count": null,
      "outputs": []
    }
  ]
}