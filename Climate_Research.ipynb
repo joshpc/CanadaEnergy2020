{
  "nbformat": 4,
  "nbformat_minor": 0,
  "metadata": {
    "colab": {
      "name": "Climate Research",
      "provenance": [],
      "collapsed_sections": [],
      "toc_visible": true,
      "mount_file_id": "16FPCZrXauU4C6d6K6haxBxn7q8y0iiNO",
      "authorship_tag": "ABX9TyPM3bHWsYN8D0bwD82M2IbH",
      "include_colab_link": true
    },
    "kernelspec": {
      "name": "python3710jvsc74a57bd0b13365a757cc39b87ecafc5e7e45717b0b6a227589bdb607797f4c39a40ce30b",
      "display_name": "Python 3.7.10 64-bit ('CanadaEnergy2020': conda)"
    }
  },
  "cells": [
    {
      "cell_type": "markdown",
      "metadata": {
        "id": "1P5dq3418DfH"
      },
      "source": [
        "# Canadian Energy Solutions\n",
        "\n",
        "This is a simple notebook that allows us to explore some of the underlying problems in the Canadian energy space. The objective is to identify sectors that need assistance, and potentially identify companies that can fill those gaps.\n",
        "\n",
        "If we were to simplify the Canadian energy problem, we can say that we need to reach a scenario where two simple constraints are met:\n",
        "\n",
        "`supply > demand && net_emissions <= 0`\n",
        "\n",
        "In reality, this is a much more complex equation since if we were to sum the entirety of Canada's production, and subtract demand, we would be glossing over regional differences and distances.\n",
        "\n",
        "For the sake of this document, we will start by assuming two things:\n",
        "- A province must be fully sufficient. That is to say that it must not depend on neighbouring provinces to provide electricity.\n",
        "- Emissions across the country must be net. One province may pollute, as long as neighbouring provinces can assist with the reduction (it's all one atmosphere.)"
      ]
    },
    {
      "cell_type": "code",
      "metadata": {
        "id": "MiyfUFccCvQx"
      },
      "source": [
        "%matplotlib inline\n",
        "\n",
        "# import csv\n",
        "import ssl\n",
        "\n",
        "# We're disabling SSL Cert Verification for these data examples\n",
        "ssl._create_default_https_context = ssl._create_unverified_context\n",
        "\n",
        "import numpy as np\n",
        "import pandas as pd\n",
        "\n",
        "from matplotlib import pyplot as plt"
      ],
      "execution_count": 2,
      "outputs": []
    },
    {
      "cell_type": "code",
      "metadata": {
        "id": "MtB7Kd6dry_X"
      },
      "source": [
        "# Reset all data\n",
        "butane_data = None\n",
        "coal_data = None\n",
        "crude_oil_data = None\n",
        "electricity_data = None\n",
        "ethane_data = None\n",
        "natural_gas_data = None\n",
        "pentanes_data = None\n",
        "propane_data = None\n",
        "end_use_demand_data = None"
      ],
      "execution_count": 3,
      "outputs": []
    },
    {
      "cell_type": "code",
      "metadata": {
        "colab": {
          "base_uri": "https://localhost:8080/"
        },
        "id": "Kp0B32rbRAAT",
        "outputId": "73e17481-7f44-4495-d011-61801eed23fb"
      },
      "source": [
        "# Let's import our data\n",
        "\n",
        "# This uses Canada's Energy Futures 2020 Dataset. This dataset looks far into the future and gives us a good idea of whether\n",
        "# we're heading in the right direction or not. This isn't necessarily a 100% accurate, as some data sources are limited but it's\n",
        "# a good start.\n",
        "#\n",
        "# >  The Energy Futures series explores how possible energy futures might unfold for Canadians over the long term.\n",
        "# >  Canada’s Energy Future 2020: Energy Supply and Demand Projections to 2050 (EF2020) is our latest long-term energy outlook.\n",
        "# >  It is the first outlook in the series to provide projections to 2050.\n",
        "# >  It covers all energy commodities, and all provinces and territories.\n",
        "# >  We use economic and energy models to develop this outlook. We also make assumptions about technology,\n",
        "# >  energy and climate policies, energy markets, human behaviour and the economy.\n",
        "#\n",
        "\n",
        "# https://open.canada.ca/data/en/dataset/bba41250-261a-4f3b-9ce8-db44d9a0f725\n",
        "\n",
        "# Butane\n",
        "print(\"Importing Butane Data...\")\n",
        "butane_data = pd.read_csv(\"https://www.cer-rec.gc.ca/open/energy/energyfutures2020/butanes-2020.csv\")\n",
        "\n",
        "# Coal\n",
        "print(\"Importing Coal Data...\")\n",
        "coal_data = pd.read_csv(\"https://www.cer-rec.gc.ca/open/energy/energyfutures2020/coal-2020.csv\")\n",
        "\n",
        "# Crude Oil\n",
        "print(\"Importing Crude Oil Data...\")\n",
        "crude_oil_production_data = pd.read_csv(\"https://www.cer-rec.gc.ca/open/energy/energyfutures2020/crude-oil-production-2020.csv\")\n",
        "\n",
        "print(\"Importing Crude Oil Export Data...\")\n",
        "crude_oil_export_data = pd.read_csv(\"https://www.cer-rec.gc.ca/open/imports-exports/crude-oil-exports-by-type-annual.csv\")\n",
        "\n",
        "# Electricity Generation\n",
        "print(\"Importing Electricity Generation Data...\")\n",
        "electricity_data = pd.read_csv(\"https://www.cer-rec.gc.ca/open/energy/energyfutures2020/electricity-generation-2020.csv\")\n",
        "electricity_interchange_data = pd.read_csv(\"https://www.cer-rec.gc.ca/open/energy/energyfutures2020/electricity-interchange-2020.csv\", encoding=\"ISO-8859-1\")\n",
        "\n",
        "# Ethane\n",
        "print(\"Importing Ethane Data...\")\n",
        "ethane_data = pd.read_csv(\"https://www.cer-rec.gc.ca/open/energy/energyfutures2020/ethane-2020.csv\")\n",
        "\n",
        "# Natural Gas Production\n",
        "print(\"Importing Natural Gas Data...\")\n",
        "natural_gas_data = pd.read_csv(\"https://www.cer-rec.gc.ca/open/energy/energyfutures2020/natural-gas-production-2020.csv\")\n",
        "\n",
        "print(\"Importing Natural Gas Export Data...\")\n",
        "natural_gas_export_data = pd.read_csv(\"https://www.cer-rec.gc.ca/open/imports-exports/natural-gas-exports-and-imports-annual.csv\")\n",
        "\n",
        "# Pentanes\n",
        "print(\"Importing Pentanes Data...\")\n",
        "pentanes_data = pd.read_csv(\"https://www.cer-rec.gc.ca/open/energy/energyfutures2020/pentanes-2020.csv\")\n",
        "\n",
        "# Propane\n",
        "print(\"Importing Propane Data...\")\n",
        "propane_data = pd.read_csv(\"https://www.cer-rec.gc.ca/open/energy/energyfutures2020/propane-2020.csv\")\n",
        "\n",
        "# Overall Import/Export Data\n",
        "print(\"Importing CER Imports/Exports Data...\")\n",
        "cer_imports_exports = pd.read_csv(\"https://apps2.cer-rec.gc.ca/imports-exports/data/CER_imports_exports_data.csv\")\n",
        "\n",
        "# Primary Demand\n",
        "print(\"Importing Primary Demand...\")\n",
        "primary_demand_data = pd.read_csv(\"https://www.cer-rec.gc.ca/open/energy/energyfutures2020/primary-energy-demand-2020.csv\")\n",
        "\n",
        "# End Use Demand\n",
        "print(\"Importing End Use Demand Data...\")\n",
        "end_use_demand_data = pd.read_csv(\"https://www.cer-rec.gc.ca/open/energy/energyfutures2020/end-use-demand-2020.csv\")\n",
        "\n",
        "print(\"Done!\")"
      ],
      "execution_count": 17,
      "outputs": [
        {
          "output_type": "stream",
          "name": "stdout",
          "text": [
            "Importing Butane Data...\n",
            "Importing Coal Data...\n",
            "Importing Crude Oil Data...\n",
            "Importing Crude Oil Export Data...\n",
            "Importing Electricity Generation Data...\n",
            "Importing Ethane Data...\n",
            "Importing Natural Gas Data...\n",
            "Importing Natural Gas Export Data...\n",
            "Importing Pentanes Data...\n",
            "Importing Propane Data...\n",
            "Importing CER Imports/Exports Data...\n",
            "Importing Primary Demand...\n",
            "Importing End Use Demand Data...\n",
            "Done!\n"
          ]
        }
      ]
    },
    {
      "cell_type": "code",
      "metadata": {
        "id": "CtU6tSb5wy6K"
      },
      "source": [
        "# Data setup\n",
        "layer_1_production_and_imports = {}\n",
        "layer_2_primary_energy = {}\n",
        "layer_3_industry = {}"
      ],
      "execution_count": 18,
      "outputs": []
    },
    {
      "cell_type": "code",
      "metadata": {
        "id": "hy5wtvrrEW2W"
      },
      "source": [
        "# Helper Methods\n",
        "# Conversion Data: https://apps.cer-rec.gc.ca/Conversion/conversion-tables.aspx?GoCTemplateCulture=en-CA\n",
        "\n",
        "gj_to_pj = 1000000\n",
        "\n",
        "def gigajoule_to_quad(gj):\n",
        "  return -1\n",
        "\n",
        "# Butane, in Cubic Metres\n",
        "def butane_to_pj(butane):\n",
        "  return butane * 28.62 / gj_to_pj\n",
        "\n",
        "# Coal, in tons\n",
        "# Coal has four different \"types\" each resulting in different energy densities.\n",
        "#   Anthracite: 27.70 GJ\n",
        "#   Bituminous: 27.60 GJ\n",
        "#   Lignite: 14.40 GJ\n",
        "#   Subbituminous: 18.80 GJ\n",
        "def coal_to_pj(coal):\n",
        "  return coal * 27.60 / gj_to_pj\n",
        "\n",
        "# Light Crude Oil, in m³\n",
        "#   Light\t1.0 Cubic metres (m³)\t38.51 Gigajoules (GJ)\n",
        "def light_crude_oil_to_pj(crude_oil):\n",
        "  return crude_oil * 38.41 / gj_to_pj\n",
        "\n",
        "# Heavy Crude Oil, in m³\n",
        "#   Heavy\t1.0 Cubic metres (m³)\t40.90 Gigajoules (GJ)\n",
        "def heavy_crude_oil_to_pj(crude_oil):\n",
        "  return crude_oil * 40.90 / gj_to_pj\n",
        "\n",
        "# C5+, in m³\n",
        "#   Pentanes plus\t1.0 Cubic metres (m³)\t35.17 Gigajoules (GJ)\n",
        "def pentanes_plus_crude_oil_to_pj(crude_oil):\n",
        "  return crude_oil * 35.17 / gj_to_pj\n",
        "\n",
        "# Synthetic Crude Oil, in m³\n",
        "#   Synthetic crude oil\t1.0 Cubic metres (m³)\t39.40 Gigajoules (GJ)\n",
        "def synthetic_crude_oil_to_pj(crude_oil):\n",
        "  return crude_oil * 39.40 / gj_to_pj\n",
        "\n",
        "# Bitument Crude Oil\n",
        "#   Bitumen\t1.0 Cubic metres (m³)\t42.80 Gigajoules (GJ)\n",
        "def bitumen_crude_oil_to_pj(crude_oil):\n",
        "  return crude_oil * 42.80 / gj_to_pj\n",
        "\n",
        "# Ethane, in Cubic Metres\n",
        "def ethane_to_pj(ethane):\n",
        "  return ethane * 18.36 / gj_to_pj\n",
        "\n",
        "# Natural Gas, in Cubic Metres\n",
        "def natural_gas_to_pj(natural_gas):\n",
        "  return natural_gas * 0.0373 / gj_to_pj\n",
        "\n",
        "def pentanes_to_pj(pentanes):\n",
        "  return pentanes * 35.17 / gj_to_pj\n",
        "\n",
        "def propane_to_pj(propane):\n",
        "  return propane * 25.53 / gj_to_pj\n",
        "\n",
        "# Using https://www.cesarnet.ca/visualization/sankey-diagrams-canadas-energy-systems 's conversion,\n",
        "# > The primary heat energy generated by uranium depends on the reactor technology being used, and is much higher in reactors that use enriched uranium than in the CANDU natural uranium reactors used in Canada. The typical heat rate for uranium in a CANDU is 7700 MW-days(thermal)/tonne U, which converts to 0.665 PJ/tonne U, and this is the the conversion factor used in this Sankey diagram for estimating the primary energy content of uranium.\n",
        "def uranium_to_pj(uranium):\n",
        "  return uranium * 0.665\n",
        "\n",
        "def gwh_to_pj(gwh):\n",
        "  # 1 GWh = 3600 GigaJoules\n",
        "  return gwh * 3600 / gj_to_pj\n",
        "\n",
        "def extract_value(dataframe, variable, key=\"Value\"):\n",
        "  return dataframe[dataframe[\"Variable\"] == variable].iloc[0][key]"
      ],
      "execution_count": 68,
      "outputs": []
    },
    {
      "cell_type": "code",
      "metadata": {
        "id": "e2UKzwVxuRXy"
      },
      "source": [
        "def extract_butane_data(layer_1, data, year):\n",
        "  butane_data = data[(data[\"Year\"] == year) & (data[\"Unit\"] == \"Thousand Cubic Metres per day\")]\n",
        "\n",
        "  # Butane data is \"per day\". We assume 365 day averages.\n",
        "  layer_1[\"butane_imports\"] = butane_to_pj(1000 * 365 * butane_data[(butane_data[\"Variable\"] == \"Imports to AB from U.S.\")][\"Value\"].sum())\n",
        "  layer_1[\"butane_production\"] = butane_to_pj(1000 * 365 * butane_data[(butane_data[\"Variable\"].isin([\"Production from Gas Processing\", \"Production from Oil Sands off-gas\"]))][\"Value\"].sum())\n",
        "  layer_1[\"butane_exports\"] = butane_to_pj(1000 * 365 * butane_data[(butane_data[\"Variable\"] == \"Projected Exports\")][\"Value\"].sum())"
      ],
      "execution_count": 69,
      "outputs": []
    },
    {
      "cell_type": "code",
      "metadata": {
        "id": "3e5HJmZxE3Xh"
      },
      "source": [
        "def extract_coal_data(layer_1, data, year):\n",
        "  coal_data = data[data[\"Year\"] == year]\n",
        "\n",
        "  # These values are all in kilotons\n",
        "  layer_1[\"coal_imports\"] = coal_to_pj(1000 * coal_data[(coal_data[\"Variable\"] == \"Total\") & (coal_data[\"Type\"] == \"Imports\")].iloc[0][\"Value\"])\n",
        "  layer_1[\"coal_production\"] = coal_to_pj(1000 * coal_data[(coal_data[\"Variable\"] == \"Total\") & (coal_data[\"Type\"] == \"Production\")].iloc[0][\"Value\"])\n",
        "  layer_1[\"coal_exports\"] = coal_to_pj(1000 * coal_data[(coal_data[\"Variable\"] == \"Total\") & (coal_data[\"Type\"] == \"Exports\")].iloc[0][\"Value\"])\n",
        "\n",
        "  #TODO: Use Domestic Demand for other layers"
      ],
      "execution_count": 70,
      "outputs": []
    },
    {
      "cell_type": "code",
      "metadata": {
        "id": "NdnCi_8YyE3Z"
      },
      "source": [
        "def extract_crude_oil_data(layer_1, data, export_data, import_export_data, year):\n",
        "  crude_oil_data = data[(data[\"Scenario\"] == \"Reference\") & (data[\"Year\"] == year) & (data[\"Region\"] == \"Canada\") & (data[\"Unit\"] == \"Thousand Cubic Metres per day\")]\n",
        "  crude_oil_export_data = export_data[(export_data[\"Year\"] == year) & (export_data[\"Oil Type\"] == \"Total\")]\n",
        "\n",
        "  #TODO: THis data set is lacking 2020Q4 so we can't do an accurate picture o 2020 imports.\n",
        "  crude_oil_import_data = import_export_data[(import_export_data[\"Period\"].isin([f'{year}Q1', f'{year}Q2', f'{year}Q3', f'{year}Q4'])) & (import_export_data[\"Product\"] == \"Crude Oil\") & (import_export_data[\"Activity\"] == \"Imports\") & (import_export_data[\"Value\"] != \"Confidential\")]\n",
        "\n",
        "  # We're missing data from 2020Q4, so take the mean of Q1, Q2, and Q3\n",
        "  crude_oil_import_data = import_export_data[(import_export_data[\"Product\"] == \"Crude Oil\") & (import_export_data[\"Activity\"] == \"Imports\") & (import_export_data[\"Value\"] != \"Confidential\")]\n",
        "\n",
        "  import_q1 = crude_oil_import_data[crude_oil_import_data[\"Period\"] == f'{year}Q1'][\"Value\"].astype(float).sum()\n",
        "  import_q2 = crude_oil_import_data[crude_oil_import_data[\"Period\"] == f'{year}Q2'][\"Value\"].astype(float).sum()\n",
        "  import_q3 = crude_oil_import_data[crude_oil_import_data[\"Period\"] == f'{year}Q3'][\"Value\"].astype(float).sum()\n",
        "\n",
        "  # TODO: Get real data. Average is not a great representation.\n",
        "  # TODO: We aren't told what kind of crude oil is imported (marked as N/A) therefore this is a guess and we just label it as heavy as a \"best effort\".\n",
        "  average_import = (import_q1 + import_q2 + import_q3) / 3\n",
        "  layer_1[\"crude_oil_imports\"] = heavy_crude_oil_to_pj(1000 * 365 * average_import)\n",
        "\n",
        "  heavy_crude_oil = extract_value(crude_oil_data, \"Conventional Heavy\", \"value\")\n",
        "  light_crude_oil = extract_value(crude_oil_data, \"Conventional Light\", \"value\")\n",
        "  pentanes_plus_crude_oil = extract_value(crude_oil_data, \"C5+\", \"value\")\n",
        "  synthetic_crude_oil = extract_value(crude_oil_data, \"(Upgraded Bitumen)\", \"value\")\n",
        "  bitumen_crude_oil = extract_value(crude_oil_data, \"Mined Bitumen\", \"value\") + extract_value(crude_oil_data, \"In Situ Bitumen\", \"value\") - synthetic_crude_oil\n",
        "  # TODO: We're currently ignoring Field Condensate (mostly made up of NGL) -- We need to determine if this number is separate from the Butane/Pentane/etc. production\n",
        "\n",
        "  layer_1[\"crude_oil_production\"] = heavy_crude_oil_to_pj(1000 * 365 * heavy_crude_oil) + light_crude_oil_to_pj(1000 * 365 * light_crude_oil) + pentanes_plus_crude_oil_to_pj(1000 * 365 * pentanes_plus_crude_oil) + bitumen_crude_oil_to_pj(1000 * 365 * bitumen_crude_oil) + synthetic_crude_oil_to_pj(1000 * 365 * synthetic_crude_oil)\n",
        "\n",
        "  layer_1[\"crude_oil_exports\"] = heavy_crude_oil_to_pj(365 * crude_oil_export_data[\"Volume (m3/d)\"].iloc[0])"
      ],
      "execution_count": 71,
      "outputs": []
    },
    {
      "source": [
        "## Electricity Data\n",
        "We pull Electricity Data from 3 sources (all from CER)\n",
        "\n",
        "1. Primary Energy Demand\n",
        "2. Electricity Generation\n",
        "3. End Use Energy Demand\n",
        "\n",
        "### Primary Demand\n",
        "> Primary demand is calculated by adding the energy used to generate electricity to total end-use demand, and then subtracting the end use demand for electricity. Removing end-use electricity demand from the total is necessary to avoid double counting.\n",
        "\n",
        "> This value of primary natural gas demand is higher than the domestic demand value shown in Figure 6.5 because it includes non-marketed natural gas used directly by those that produce it. Examples of this include flared gas, natural gas produced and consumed by in situ oil sands producers, and natural gas produced and consumed by offshore oil production.\n",
        "\n",
        "> The difference in energy use by fuel for power generation and power generation by fuel in the electricity tables reflects heat losses. Hydro, solar and wind energy use in this table is calculated by directly converting the generation values to petajoules.\n",
        "\n",
        "### Electricity Generation\n",
        "This is electricity generation by fuel type (or by renewable source).\n",
        "\n",
        "### End Use Energy Demand\n",
        "Known as secondary demand, this is sector-specific use.\n"
      ],
      "cell_type": "markdown",
      "metadata": {}
    },
    {
      "cell_type": "code",
      "metadata": {
        "id": "o_-F4Swr09x7"
      },
      "source": [
        "def extract_electricity_data(layer_2, data, primary_demand_data, interchange_data, year):\n",
        "  electricity_data = data[(data[\"Scenario\"] == \"Reference\") & (data[\"Year\"] == year) & (data[\"Region\"] == \"Canada\")]\n",
        "  electric_generation_primary_demand_data = primary_demand_data[(primary_demand_data[\"Scenario\"] == \"Reference\") & (primary_demand_data[\"Year\"] == year) & (primary_demand_data[\"Region\"] == \"Canada\") & (primary_demand_data[\"Sector\"] == \"Electric Generation\")]\n",
        "  electricity_interchange_data = interchange_data[(interchange_data[\"Scenario\"] == \"Reference\") & (interchange_data[\"Year\"] == year) & (interchange_data[\"Region\"] == \"Canada\")]\n",
        "  \n",
        "  # Gather the Primary Energy Requirements for Electricity Generation (what we used)\n",
        "  # Values are in PJ\n",
        "  layer_2[\"coke_and_coal_electric_generation_demand\"] = extract_value(electric_generation_primary_demand_data, \"Coal, Coke and Coke Oven Gas\")\n",
        "  layer_2[\"hydro_electric_generation_demand\"] = extract_value(electric_generation_primary_demand_data, \"Hydro\")\n",
        "  layer_2[\"natural_gas_electric_generation_demand\"] = extract_value(electric_generation_primary_demand_data, \"Natural Gas\")\n",
        "  layer_2[\"uranium_electric_generation_demand\"] = extract_value(electric_generation_primary_demand_data, \"Nuclear\")\n",
        "  layer_2[\"oil_electric_generation_demand\"] = extract_value(electric_generation_primary_demand_data, \"RPP\")\n",
        "  layer_2[\"other_renewables_electric_generation_demand\"] = extract_value(electric_generation_primary_demand_data, \"Other Renewables and Landfill Gas\")\n",
        "\n",
        "  # Gather the Electricity Generation end values (what we produced)\n",
        "  # Values in GW/h\n",
        "  layer_2[\"coal_and_coke\"] = gwh_to_pj(extract_value(electricity_data, \"Coal & Coke\"))\n",
        "  layer_2[\"hydro_wave_tidal\"] = gwh_to_pj(extract_value(electricity_data, \"Hydro / Wave / Tidal\"))\n",
        "  layer_2[\"natural_gas\"] = gwh_to_pj(extract_value(electricity_data, \"Natural Gas\"))\n",
        "  layer_2[\"uranium\"] = gwh_to_pj(extract_value(electricity_data, \"Uranium\"))\n",
        "  layer_2[\"oil\"] = gwh_to_pj(extract_value(electricity_data, \"Oil\"))\n",
        "  # These three comprise of the \"other renewables\"\n",
        "  layer_2[\"biomass_geothermal\"] = gwh_to_pj(extract_value(electricity_data, \"Biomass / Geothermal\"))\n",
        "  layer_2[\"solar\"] = gwh_to_pj(extract_value(electricity_data, \"Solar\"))\n",
        "  layer_2[\"wind\"] = gwh_to_pj(extract_value(electricity_data, \"Wind\"))\n",
        "\n",
        "  # Calculate losses\n",
        "  layer_2[\"coke_and_coal_loss\"] = layer_2[\"coke_and_coal_electric_generation_demand\"] - layer_2[\"coal_and_coke\"]\n",
        "  layer_2[\"hydro_loss\"] = layer_2[\"hydro_electric_generation_demand\"] - layer_2[\"hydro_wave_tidal\"]\n",
        "  layer_2[\"natural_gas_loss\"] = layer_2[\"natural_gas_electric_generation_demand\"] - layer_2[\"natural_gas\"]\n",
        "  layer_2[\"uranium_loss\"] = layer_2[\"uranium_electric_generation_demand\"] - layer_2[\"uranium\"]\n",
        "  #TODO: Not sure if this loss should be strictkly applied to 'Other Renewables'\n",
        "  layer_2[\"other_renewables_loss\"] = layer_2[\"other_renewables_electric_generation_demand\"] - layer_2[\"biomass_geothermal\"] - layer_2[\"solar\"] - layer_2[\"wind\"]\n",
        "  layer_2[\"oil_loss\"] = layer_2[\"oil_electric_generation_demand\"] - layer_2[\"oil\"]\n",
        "\n",
        "  layer_2[\"electricity_imports\"] = gwh_to_pj(extract_value(electricity_interchange_data, \"Imports\"))\n",
        "  layer_2[\"electricity_exports\"] = gwh_to_pj(extract_value(electricity_interchange_data, \"Exports\"))\n",
        "\n",
        "  layer_2[\"total_electricity_primary_demand\"] = layer_2[\"coke_and_coal_electric_generation_demand\"] + layer_2[\"hydro_electric_generation_demand\"] + layer_2[\"natural_gas_electric_generation_demand\"] + layer_2[\"uranium_electric_generation_demand\"] + layer_2[\"other_renewables_electric_generation_demand\"] + layer_2[\"oil_electric_generation_demand\"]\n",
        "\n",
        "  layer_2[\"total_electricity_losses\"] = layer_2[\"coke_and_coal_loss\"] + layer_2[\"hydro_loss\"] + layer_2[\"natural_gas_loss\"] + layer_2[\"uranium_loss\"] + layer_2[\"other_renewables_loss\"] + layer_2[\"oil_loss\"]\n",
        "  \n"
      ],
      "execution_count": 100,
      "outputs": []
    },
    {
      "cell_type": "code",
      "metadata": {
        "id": "SZc2NSzs3xPB"
      },
      "source": [
        "def extract_ethane_data(layer_1, data, year):\n",
        "  ethane_data = data[(data[\"Year\"] == year) & (data[\"Unit\"] == \"Thousand Cubic Metres per day\")]\n",
        "\n",
        "  layer_1[\"ethane_imports\"] = ethane_to_pj(1000 * 365 * ethane_data[ethane_data[\"Variable\"].isin([\"Imports to AB from U.S.\", \"Imports to ON from U.S.\"])][\"Value\"].sum())\n",
        "  layer_1[\"ethane_production\"] = ethane_to_pj(1000 * 365 * ethane_data[ethane_data[\"Variable\"].isin([\"Production from Gas Processing\", \"Production from Oil Sands off-gas\"])][\"Value\"].sum())\n",
        "  layer_1[\"ethane_exports\"] = ethane_to_pj(1000 * 365 * ethane_data[ethane_data[\"Variable\"] == \"Exports\"].iloc[0][\"Value\"])"
      ],
      "execution_count": 101,
      "outputs": []
    },
    {
      "cell_type": "code",
      "metadata": {
        "id": "Ai8kPfe-4BkW"
      },
      "source": [
        "def extract_natural_gas_data(layer_1, data, export_data, year):\n",
        "  natural_gas_data = data[(data[\"Year\"] == year) & (data[\"Region\"] == \"Canada\") & (data[\"Unit\"] == \"Million Cubic Metres per day\")]\n",
        "  natural_gas_export_data = export_data[(export_data[\"Year\"] == year)]\n",
        "\n",
        "  #TODO: Confirm http://www.cer-rec.gc.ca/en/data-analysis/energy-commodities/natural-gas/report/natural-gas-summary/natural-gas-annual-trade-summary.html\n",
        "  layer_1[\"natural_gas_imports\"] = natural_gas_to_pj(1000 * natural_gas_export_data[(natural_gas_export_data[\"Activity\"] == \"Imports\")][\"Volume (10^3 m3)\"].sum())\n",
        "  layer_1[\"natural_gas_production\"] = natural_gas_to_pj(1000000 * 365 * natural_gas_data.iloc[0][\"Value\"])\n",
        "  layer_1[\"natural_gas_exports\"] = natural_gas_to_pj(1000 * natural_gas_export_data[natural_gas_export_data[\"Activity\"] == \"Exports\"][\"Volume (10^3 m3)\"].sum())"
      ],
      "execution_count": 102,
      "outputs": []
    },
    {
      "cell_type": "code",
      "metadata": {
        "id": "k7qVO7Oo4TMz"
      },
      "source": [
        "def extract_pentanes_data(layer_1, data, year):  \n",
        "  pentanes_data = data[(data[\"Year\"] == year) & (data[\"Unit\"] == \"Thousand Cubic Metres per day\")]\n",
        "\n",
        "  layer_1[\"pentane_imports\"] = pentanes_to_pj(1000 * 365 * pentanes_data[pentanes_data[\"Variable\"] == \"Net Imports\"].iloc[0][\"Value\"])\n",
        "  layer_1[\"pentane_production\"] = pentanes_to_pj(1000 * 365 * pentanes_data[pentanes_data[\"Variable\"].isin([\"Produciton from Refineries\", \"Production from Gas Processing - Pentanes Plus\", \"Production from Gas Wells - Liquid Condensate\"])][\"Value\"].sum())\n",
        "  layer_1[\"pentane_exports\"] = pentanes_to_pj(1000 * 365 * extract_value(pentanes_data, \"Net Exports\"))"
      ],
      "execution_count": 103,
      "outputs": []
    },
    {
      "cell_type": "code",
      "metadata": {
        "id": "nixMf8Xn4f30"
      },
      "source": [
        "def extract_propane_data(layer_1, data, year):\n",
        "  propane_data = data[(data[\"Year\"] == year) & (data[\"Unit\"] == \"Thousand Cubic Metres per day\")]\n",
        "\n",
        "  layer_1[\"propane_imports\"] = propane_to_pj(1000 * 365 * propane_data[propane_data[\"Variable\"] == \"Imports\"].iloc[0][\"Value\"])\n",
        "  layer_1[\"propane_production\"] = propane_to_pj(1000 * 365 * propane_data[propane_data[\"Variable\"].isin([\"Production from Gas Processing\", \"Production from Oil Sands off-gas\", \"Production from Refineries\"])][\"Value\"].sum())\n",
        "  layer_1[\"propane_exports\"] = propane_to_pj(1000 * 365 * propane_data[propane_data[\"Variable\"] == \"Projected Exports\"].iloc[0][\"Value\"])"
      ],
      "execution_count": 104,
      "outputs": []
    },
    {
      "cell_type": "code",
      "metadata": {
        "id": "XpuSXzmj__We"
      },
      "source": [
        "def extract_uranium_data(layer_1):\n",
        "  # Uranium\n",
        "  # -------\n",
        "  # Sources\n",
        "  # 1. https://www.world-nuclear.org/information-library/country-profiles/countries-a-f/canada-uranium.aspx\n",
        "  # 2. https://www.cameco.com/invest/financial-information/annual-reports/2020\n",
        "  # 3. https://www.cameco.com/businesses/uranium-operations/canada/cigar-lake\n",
        "  # 4. https://www.nrcan.gc.ca/energy/energy-sources-distribution/uranium-nuclear-energy/uranium-canada/\n",
        "  # 5. https://www.nrcan.gc.ca/energy/energy-sources-distribution/uranium-nuclear-energy/uranium-canada/about-uranium/7695\n",
        "  # 6. https://www.cameco.com/invest/overview\n",
        "  # 7. https://www.world-nuclear.org/information-library/nuclear-fuel-cycle/mining-of-uranium/world-uranium-mining-production.aspx\n",
        "  # \n",
        "  # We have limited data here, but the totals per year are: (tonnes U3O8) [1]\n",
        "  # 2019: 6,938 [7]\n",
        "  # 2018: 7,001\n",
        "  # 2017: 13,116\n",
        "  # 2016: 14,039\n",
        "  # 2015: 13,325\n",
        "  # 2014: 9,134\n",
        "  # 2013: 9,331\n",
        "\n",
        "  # However if we look at Cameco (owner of Canada's Cigar Lake Uranium facility):\n",
        "  # - Cameco represents 50% ownership of the Cigar Lake facility and their 2020 share was 5,000,000 pounds -- thus we can estimate that the Cigar Lake production was 10m lbs. [3]\n",
        "  # - 10m lbs = 5000 tons\n",
        "  # - Cigar Lake represented 100% of Canada's Uranium production in 2019. [1]\n",
        "  uranium_production_2020 = 5000\n",
        "\n",
        "  layer_1[\"uranium_imports\"] = 0\n",
        "  layer_1[\"uranium_production\"] = uranium_to_pj(uranium_production_2020) #tons\n",
        "  layer_1[\"uranium_exports\"] = uranium_to_pj(0.85 * uranium_production_2020)\n",
        "  layer_1[\"uranium_used\"] = uranium_to_pj(0.15 * uranium_production_2020)\n",
        "  # We don't need to cover this number, since it may actually represent previous-year stores being used as well\n",
        "  # [6] https://www.cameco.com/invest/overview (Blind River)\n",
        "  # layer_1[\"uranium_processing\"] = 11.7m kgU"
      ],
      "execution_count": 105,
      "outputs": []
    },
    {
      "source": [
        "## End Use Data\n",
        "Canada Energy Regulator. Canada's Energy Future Data Appendices.\n",
        "DOI: https://doi.org/10.35002/zjr8-8x75\n",
        "\n",
        "> End-use (or secondary) energy demand includes energy used in the residential, commercial, industrial and transportation sectors. This includes includes non-energy use and producer consumption. Non-energy use is the use of energy commodities for a purpose other than fuel. Examples of this include energy commodities used as petrochemical feedstock, lubricants and asphalt. Producer consumption accounts for the energy consumed by energy producers for their activity. For example, this would include the combustion of natural gas by natural gas producers to operate compressors and processing equipment.\n",
        "\n",
        "> Commercial sector energy use includes energy used by pipelines. RPP is Refined Petroleum Products. RPP includes asphalt, aviation fuel, diesel, gasoline, heavy fuel oil, kerosene, light fuel oil, liquified petroleum gases (LPG), lubricants, naphtha specialties, oil, non-energy products, petroleum feedstocks, petroleum coke, still gas.\n",
        "\n",
        "> Biofuels and Emerging Energy includes biomass (wood), solar, geothermal, hydrogen, ethanol and biodiesel.\n",
        "\n",
        "> Other includes coal, coke, and coke oven gas, unless otherwise listed.\n",
        "\n",
        "> Industrial includes energy used for oil and gas production, processing and refining. "
      ],
      "cell_type": "markdown",
      "metadata": {}
    },
    {
      "cell_type": "code",
      "execution_count": 106,
      "metadata": {},
      "outputs": [],
      "source": [
        "def extract_end_use_data(layer, data, year):\n",
        "  # No conversion is required for this data as it is all in PJ\n",
        "  end_use_data = data[(data[\"Scenario\"] == \"Reference\") & (data[\"Year\"] == year) & (data[\"Region\"] == \"Canada\")]\n",
        "  end_use_residential = end_use_data[end_use_data[\"Sector\"] == \"Residential\"]\n",
        "  layer[\"electricity_to_residential\"] = extract_value(end_use_residential, \"Electricity\")\n",
        "  layer[\"natural_gas_to_residential\"] = extract_value(end_use_residential, \"Natural Gas\")\n",
        "  layer[\"rpp_to_residential\"] = extract_value(end_use_residential, \"RPP\")\n",
        "  layer[\"biofuels_to_residential\"] = extract_value(end_use_residential, \"Biofuels & Emerging Energy\")\n",
        "  layer[\"other_to_residential\"] = extract_value(end_use_residential, \"Other\")\n",
        "\n",
        "  end_use_commercial = end_use_data[end_use_data[\"Sector\"] == \"Commercial\"]\n",
        "  layer[\"electricity_to_commercial\"] = extract_value(end_use_commercial, \"Electricity\")\n",
        "  layer[\"natural_gas_to_commercial\"] = extract_value(end_use_commercial, \"Natural Gas\")\n",
        "  layer[\"rpp_to_commercial\"] = extract_value(end_use_commercial, \"RPP\")\n",
        "  layer[\"biofuels_to_commercial\"] = extract_value(end_use_commercial, \"Biofuels & Emerging Energy\")\n",
        "  layer[\"other_to_commercial\"] = extract_value(end_use_commercial, \"Other\")\n",
        "\n",
        "  end_use_industrial = end_use_data[end_use_data[\"Sector\"] == \"Industrial\"]\n",
        "  layer[\"electricity_to_industrial\"] = extract_value(end_use_industrial, \"Electricity\")\n",
        "  layer[\"natural_gas_to_industrial\"] = extract_value(end_use_industrial, \"Natural Gas\")\n",
        "  layer[\"rpp_to_industrial\"] = extract_value(end_use_industrial, \"RPP\")\n",
        "  layer[\"biofuels_to_industrial\"] = extract_value(end_use_industrial, \"Biofuels & Emerging Energy\")\n",
        "  layer[\"other_to_industrial\"] = extract_value(end_use_industrial, \"Other\")\n",
        "\n",
        "  end_use_transportation = end_use_data[end_use_data[\"Sector\"] == \"Transportation\"]\n",
        "  layer[\"aviation_fuel_to_transportation\"] = extract_value(end_use_transportation, \"Aviation Fuel\")\n",
        "  layer[\"diesel_to_transportation\"] = extract_value(end_use_transportation, \"Diesel\")\n",
        "  layer[\"electricity_to_transportation\"] = extract_value(end_use_transportation, \"Electricity\")\n",
        "  layer[\"biofuels_to_transportation\"] = extract_value(end_use_transportation, \"Biofuels\")\n",
        "  layer[\"heavy_fuel_oil_to_transportation\"] = extract_value(end_use_transportation, \"Heavy Fuel Oil\")\n",
        "  layer[\"lpg_to_transportation\"] = extract_value(end_use_transportation, \"LPG\")\n",
        "  layer[\"lubricants_to_transportation\"] = extract_value(end_use_transportation, \"Lubricants\")\n",
        "  layer[\"motor_gasoline_to_transportation\"] = extract_value(end_use_transportation, \"Motor Gasoline\")\n",
        "  layer[\"natural_gas_to_transportation\"] = extract_value(end_use_transportation, \"Natural Gas\")\n",
        "\n",
        "  layer[\"total_electricity_end_use_demand\"] = extract_value(end_use_data[end_use_data[\"Sector\"] == \"Total End-Use\"], \"Electricity\")"
      ]
    },
    {
      "cell_type": "code",
      "metadata": {
        "colab": {
          "base_uri": "https://localhost:8080/",
          "height": 581
        },
        "id": "XLnAQEehSVUt",
        "outputId": "1b93f892-b4fa-4de9-e97f-9aacdac57477"
      },
      "source": [
        "def extract_production(layer, year):\n",
        "  extract_butane_data(layer, butane_data, year)\n",
        "  extract_coal_data(layer, coal_data, year)\n",
        "  extract_crude_oil_data(layer, crude_oil_production_data, crude_oil_export_data, cer_imports_exports, year)\n",
        "  extract_ethane_data(layer, ethane_data, year)\n",
        "  extract_natural_gas_data(layer, natural_gas_data, natural_gas_export_data, year)\n",
        "  extract_pentanes_data(layer, pentanes_data, year)\n",
        "  extract_propane_data(layer, propane_data, year)\n",
        "  extract_uranium_data(layer)\n",
        "\n",
        "def extract_generation(layer, year):\n",
        "  extract_electricity_data(layer, electricity_data, primary_demand_data, electricity_interchange_data, year)\n",
        "\n",
        "def extract_end_use(layer, year):\n",
        "  extract_end_use_data(layer, end_use_demand_data, year)\n",
        "\n",
        "\n",
        "extract_production(layer_1_production_and_imports, 2020)\n",
        "extract_generation(layer_2_primary_energy, 2020)\n",
        "extract_end_use(layer_3_industry, 2020)\n",
        "\n",
        "display(layer_1_production_and_imports)\n",
        "display(layer_2_primary_energy)\n",
        "display(layer_3_industry)"
      ],
      "execution_count": 107,
      "outputs": [
        {
          "output_type": "display_data",
          "data": {
            "text/plain": "{'butane_imports': 22.081154525028,\n 'butane_production': 512.9647136365068,\n 'butane_exports': 160.0354700761122,\n 'coal_imports': 162.66573448320003,\n 'coal_production': 1245.751417116,\n 'coal_exports': 896.6025652440001,\n 'crude_oil_imports': 1294.948605391703,\n 'crude_oil_production': 10279.083898502427,\n 'crude_oil_exports': 8713.894234706087,\n 'ethane_imports': 230.099958365724,\n 'ethane_production': 477.62991630643666,\n 'ethane_exports': 0.0,\n 'natural_gas_imports': 1693.4744250955812,\n 'natural_gas_production': 6062.15880664835,\n 'natural_gas_exports': 5290.62272400377,\n 'pentane_imports': 395.79014831042747,\n 'pentane_production': 1857.7547574999141,\n 'pentane_exports': 0.0,\n 'propane_imports': 21.6585977511597,\n 'propane_production': 872.9869648030601,\n 'propane_exports': 298.146518487105,\n 'uranium_imports': 0,\n 'uranium_production': 3325.0,\n 'uranium_exports': 2826.25,\n 'uranium_used': 498.75}"
          },
          "metadata": {}
        },
        {
          "output_type": "display_data",
          "data": {
            "text/plain": "{'coke_and_coal_electric_generation_demand': 382.4786,\n 'hydro_electric_generation_demand': 1385.126,\n 'natural_gas_electric_generation_demand': 735.218,\n 'uranium_electric_generation_demand': 986.3109,\n 'other_renewables_electric_generation_demand': 231.8089,\n 'oil_electric_generation_demand': 47.664,\n 'hydro_wave_tidal': 1385.72064,\n 'natural_gas': 252.602424,\n 'oil': 9.283500360000001,\n 'biomass_geothermal': 29.512054799999998,\n 'coal_and_coke': 121.35540096,\n 'uranium': 320.65128,\n 'solar': 11.438586,\n 'wind': 124.822944,\n 'coke_and_coal': 261.12319904,\n 'hydro_loss': -0.5946400000000267,\n 'natural_gas_loss': 482.6155759999999,\n 'uranium_loss': 665.6596199999999,\n 'other_renewables_loss': 66.03531520000001,\n 'oil_loss': 38.38049964,\n 'electricity_imports': 11.9165724,\n 'electricity_exports': 244.96984799999996,\n 'coke_and_coal_loss': 261.12319904,\n 'total_electricity_primary_demand': 3768.6064,\n 'total_electricity_losses': 1513.2195698799997}"
          },
          "metadata": {}
        },
        {
          "output_type": "display_data",
          "data": {
            "text/plain": "{'electricity_to_residential': 688.3434,\n 'natural_gas_to_residential': 816.7201,\n 'rpp_to_residential': 76.2924,\n 'biofuels_to_residential': 179.6216,\n 'other_to_residential': 0.0001,\n 'electricity_to_commercial': 397.8073,\n 'natural_gas_to_commercial': 628.1063,\n 'rpp_to_commercial': 215.0534,\n 'biofuels_to_commercial': 1.0926,\n 'other_to_commercial': 0.9889,\n 'electricity_to_industrial': 791.9285,\n 'natural_gas_to_industrial': 2848.6037,\n 'rpp_to_industrial': 1824.2286,\n 'biofuels_to_industrial': 349.6185,\n 'other_to_industrial': 119.8725,\n 'aviation_fuel_to_transportation': 177.984,\n 'diesel_to_transportation': 754.1136,\n 'electricity_to_transportation': 4.0233,\n 'biofuels_to_transportation': 109.3502,\n 'heavy_fuel_oil_to_transportation': 41.6128,\n 'lpg_to_transportation': 10.893,\n 'lubricants_to_transportation': 4.1859,\n 'motor_gasoline_to_transportation': 1355.474,\n 'natural_gas_to_transportation': 6.1437,\n 'total_electricity_end_use_demand': 1882.1025}"
          },
          "metadata": {}
        }
      ]
    },
    {
      "cell_type": "code",
      "execution_count": 108,
      "metadata": {},
      "outputs": [],
      "source": [
        "colours = {\n",
        "  \"Butane Production\" : \"#f94144\",\n",
        "  \"Butane Imports\" : \"#f94144\",\n",
        "  \"Butane Exports\" : \"#f94144\",\n",
        "\n",
        "  \"Coal Production\" : \"#f3722c\",\n",
        "  \"Coal Imports\" : \"#f3722c\",\n",
        "  \"Primary Coal\" : \"#f3722c\",\n",
        "\n",
        "  \"Crude Oil Production\" : \"#f8961e\",\n",
        "  \"Crude Oil Imports\" : \"#f8961e\",\n",
        "  \"Primary RPP\" : \"#f8961e\",\n",
        "  \n",
        "  \"Ethane Production\" : \"#f9844a\",\n",
        "  \"Ethane Imports\" : \"#f9844a\",\n",
        "  \"Ethane Exports\" : \"#f9844a\",\n",
        "  \n",
        "  \"Natural Gas Production\" : \"#f9c74f\",\n",
        "  \"Natural Gas Imports\" : \"#f9c74f\",\n",
        "  \n",
        "  \"Primary Natural Gas\" : \"#f9c74f\",\n",
        "  \n",
        "  \"Pentane Production\" : \"#90be6d\",\n",
        "  \"Pentane Imports\" : \"#90be6d\",\n",
        "  \"Pentane Exports\" : \"#90be6d\",\n",
        "  \n",
        "  \"Propane Production\" : \"#4d908e\",\n",
        "  \"Propane Imports\" : \"#4d908e\",\n",
        "  \"Propane Exports\" : \"#4d908e\",\n",
        "\n",
        "  \"Uranium Production\" : \"#577590\",\n",
        "  \"Uranium Imports\" : \"#577590\",\n",
        "  \"Primary Uranium\" : \"#577590\",\n",
        "\n",
        "  \"Hydroelectric Energy Production\" : \"#277da1\",\n",
        "  \"Primary Hydro\" : \"#277da1\",\n",
        "\n",
        "  \"Wind Energy Production\" : \"#f3722c\",\n",
        "  \"Primary Wind\" : \"#f3722c\",\n",
        "\n",
        "  \"TODO ???\" : \"black\",\n",
        "  \"TODO ????\" : \"black\",\n",
        "\n",
        "  \"Primary NGL\" : \"#f3722c\",\n",
        "  \"Primary Other Renewables and Landfill Gas\" : \"black\",\n",
        "}"
      ]
    },
    {
      "cell_type": "code",
      "execution_count": 121,
      "metadata": {},
      "outputs": [
        {
          "output_type": "display_data",
          "data": {
            "application/vnd.plotly.v1+json": {
              "config": {
                "plotlyServerURL": "https://plot.ly"
              },
              "data": [
                {
                  "link": {
                    "source": [
                      0,
                      2,
                      1,
                      3,
                      5,
                      6,
                      1,
                      7,
                      8,
                      9,
                      1,
                      10,
                      11,
                      12,
                      1,
                      13,
                      1,
                      15,
                      17,
                      16,
                      16,
                      18,
                      20,
                      19,
                      19,
                      21,
                      23,
                      22,
                      22,
                      24,
                      26,
                      25,
                      25,
                      28,
                      30,
                      32,
                      34,
                      36,
                      37,
                      38,
                      19,
                      31,
                      16,
                      25,
                      22,
                      35,
                      33,
                      29,
                      16,
                      16,
                      16,
                      16,
                      22,
                      22,
                      22,
                      22,
                      35,
                      35,
                      35,
                      35,
                      39,
                      39,
                      39,
                      39,
                      39,
                      39,
                      39,
                      39,
                      39,
                      39,
                      39,
                      39,
                      49,
                      44,
                      45,
                      46,
                      47,
                      48
                    ],
                    "target": [
                      1,
                      1,
                      3,
                      4,
                      1,
                      1,
                      7,
                      4,
                      1,
                      1,
                      10,
                      4,
                      1,
                      1,
                      13,
                      4,
                      14,
                      16,
                      16,
                      4,
                      14,
                      19,
                      19,
                      4,
                      14,
                      22,
                      22,
                      4,
                      14,
                      25,
                      25,
                      4,
                      27,
                      29,
                      31,
                      33,
                      35,
                      37,
                      35,
                      39,
                      39,
                      39,
                      39,
                      39,
                      39,
                      39,
                      39,
                      39,
                      40,
                      41,
                      42,
                      43,
                      40,
                      41,
                      42,
                      43,
                      40,
                      41,
                      42,
                      43,
                      4,
                      40,
                      41,
                      42,
                      43,
                      44,
                      45,
                      46,
                      47,
                      48,
                      49,
                      50,
                      51,
                      51,
                      51,
                      51,
                      51,
                      51
                    ],
                    "value": [
                      512.9647136365068,
                      22.081154525028,
                      160.0354700761122,
                      160.0354700761122,
                      477.62991630643666,
                      230.099958365724,
                      0,
                      0,
                      1857.7547574999141,
                      395.79014831042747,
                      0,
                      0,
                      872.9869648030601,
                      21.6585977511597,
                      298.146518487105,
                      298.146518487105,
                      1,
                      6062.15880664835,
                      1693.4744250955812,
                      5290.62272400377,
                      1,
                      1245.751417116,
                      162.66573448320003,
                      896.6025652440001,
                      1,
                      10279.083898502427,
                      1294.948605391703,
                      8713.894234706087,
                      1,
                      3325,
                      0,
                      2826.25,
                      178.09872000000001,
                      124.822944,
                      1385.126,
                      11.438586,
                      29.512054799999998,
                      1,
                      1,
                      11.9165724,
                      382.4786,
                      1385.126,
                      735.218,
                      986.3109,
                      47.664,
                      95.54737,
                      11.438586,
                      124.822944,
                      816.7201,
                      628.1063,
                      2848.6037,
                      6.1437,
                      76.2924,
                      215.0534,
                      1824.2286,
                      2344.2633,
                      179.6217,
                      2.0815,
                      469.491,
                      109.3502,
                      244.96984799999996,
                      688.3434,
                      397.8073,
                      791.9285,
                      4.0233,
                      -0.5946400000000267,
                      665.6596199999999,
                      482.6155759999999,
                      38.38049964,
                      66.03531520000001,
                      261.12319904,
                      140.2310545200005,
                      261.12319904,
                      -0.5946400000000267,
                      665.6596199999999,
                      482.6155759999999,
                      38.38049964,
                      66.03531520000001
                    ]
                  },
                  "node": {
                    "color": [
                      "#f94144",
                      "#f3722c",
                      "#f94144",
                      "#f94144",
                      "pink",
                      "#f9844a",
                      "#f9844a",
                      "#f9844a",
                      "#90be6d",
                      "#90be6d",
                      "#90be6d",
                      "#4d908e",
                      "#4d908e",
                      "#4d908e",
                      "pink",
                      "#f9c74f",
                      "#f9c74f",
                      "#f9c74f",
                      "#f3722c",
                      "#f3722c",
                      "#f3722c",
                      "#f8961e",
                      "#f8961e",
                      "#f8961e",
                      "#577590",
                      "#577590",
                      "#577590",
                      "pink",
                      "#f3722c",
                      "#f3722c",
                      "#277da1",
                      "#277da1",
                      "pink",
                      "pink",
                      "pink",
                      "black",
                      "black",
                      "black",
                      "pink",
                      "pink",
                      "pink",
                      "pink",
                      "pink",
                      "pink",
                      "pink",
                      "pink",
                      "pink",
                      "pink",
                      "pink",
                      "pink",
                      "pink",
                      "pink"
                    ],
                    "label": [
                      "Butane Production",
                      "Primary NGL",
                      "Butane Imports",
                      "Butane Exports",
                      "Exports",
                      "Ethane Production",
                      "Ethane Imports",
                      "Ethane Exports",
                      "Pentane Production",
                      "Pentane Imports",
                      "Pentane Exports",
                      "Propane Production",
                      "Propane Imports",
                      "Propane Exports",
                      "TODO Produced & Distributed Energy",
                      "Natural Gas Production",
                      "Primary Natural Gas",
                      "Natural Gas Imports",
                      "Coal Production",
                      "Primary Coal",
                      "Coal Imports",
                      "Crude Oil Production",
                      "Primary RPP",
                      "Crude Oil Imports",
                      "Uranium Production",
                      "Primary Uranium",
                      "Uranium Imports",
                      "Reserves or Error",
                      "Wind Energy Production",
                      "Primary Wind",
                      "Hydroelectric Energy Production",
                      "Primary Hydro",
                      "Solar Energy Production",
                      "Primary Solar",
                      "Biomass & Geothermal",
                      "Primary Other Renewables and Landfill Gas",
                      "TODO ???",
                      "TODO ????",
                      "Electricity Imports",
                      "Electricity",
                      "Residential",
                      "Commercial",
                      "Industrial",
                      "Transportation",
                      "Hydro Generation Losses",
                      "Nuclear Generation Losses",
                      "Natural Gas Generation Losses",
                      "Oil Generation Losses",
                      "Other Renewable Generation Losses",
                      "Coke & Coal Generation Losses",
                      "Misc Losses",
                      "Losses"
                    ],
                    "line": {
                      "color": "black",
                      "width": 0.5
                    },
                    "pad": 15,
                    "thickness": 20
                  },
                  "type": "sankey"
                }
              ],
              "layout": {
                "font": {
                  "size": 12
                },
                "height": 1000,
                "template": {
                  "data": {
                    "bar": [
                      {
                        "error_x": {
                          "color": "#2a3f5f"
                        },
                        "error_y": {
                          "color": "#2a3f5f"
                        },
                        "marker": {
                          "line": {
                            "color": "#E5ECF6",
                            "width": 0.5
                          }
                        },
                        "type": "bar"
                      }
                    ],
                    "barpolar": [
                      {
                        "marker": {
                          "line": {
                            "color": "#E5ECF6",
                            "width": 0.5
                          }
                        },
                        "type": "barpolar"
                      }
                    ],
                    "carpet": [
                      {
                        "aaxis": {
                          "endlinecolor": "#2a3f5f",
                          "gridcolor": "white",
                          "linecolor": "white",
                          "minorgridcolor": "white",
                          "startlinecolor": "#2a3f5f"
                        },
                        "baxis": {
                          "endlinecolor": "#2a3f5f",
                          "gridcolor": "white",
                          "linecolor": "white",
                          "minorgridcolor": "white",
                          "startlinecolor": "#2a3f5f"
                        },
                        "type": "carpet"
                      }
                    ],
                    "choropleth": [
                      {
                        "colorbar": {
                          "outlinewidth": 0,
                          "ticks": ""
                        },
                        "type": "choropleth"
                      }
                    ],
                    "contour": [
                      {
                        "colorbar": {
                          "outlinewidth": 0,
                          "ticks": ""
                        },
                        "colorscale": [
                          [
                            0,
                            "#0d0887"
                          ],
                          [
                            0.1111111111111111,
                            "#46039f"
                          ],
                          [
                            0.2222222222222222,
                            "#7201a8"
                          ],
                          [
                            0.3333333333333333,
                            "#9c179e"
                          ],
                          [
                            0.4444444444444444,
                            "#bd3786"
                          ],
                          [
                            0.5555555555555556,
                            "#d8576b"
                          ],
                          [
                            0.6666666666666666,
                            "#ed7953"
                          ],
                          [
                            0.7777777777777778,
                            "#fb9f3a"
                          ],
                          [
                            0.8888888888888888,
                            "#fdca26"
                          ],
                          [
                            1,
                            "#f0f921"
                          ]
                        ],
                        "type": "contour"
                      }
                    ],
                    "contourcarpet": [
                      {
                        "colorbar": {
                          "outlinewidth": 0,
                          "ticks": ""
                        },
                        "type": "contourcarpet"
                      }
                    ],
                    "heatmap": [
                      {
                        "colorbar": {
                          "outlinewidth": 0,
                          "ticks": ""
                        },
                        "colorscale": [
                          [
                            0,
                            "#0d0887"
                          ],
                          [
                            0.1111111111111111,
                            "#46039f"
                          ],
                          [
                            0.2222222222222222,
                            "#7201a8"
                          ],
                          [
                            0.3333333333333333,
                            "#9c179e"
                          ],
                          [
                            0.4444444444444444,
                            "#bd3786"
                          ],
                          [
                            0.5555555555555556,
                            "#d8576b"
                          ],
                          [
                            0.6666666666666666,
                            "#ed7953"
                          ],
                          [
                            0.7777777777777778,
                            "#fb9f3a"
                          ],
                          [
                            0.8888888888888888,
                            "#fdca26"
                          ],
                          [
                            1,
                            "#f0f921"
                          ]
                        ],
                        "type": "heatmap"
                      }
                    ],
                    "heatmapgl": [
                      {
                        "colorbar": {
                          "outlinewidth": 0,
                          "ticks": ""
                        },
                        "colorscale": [
                          [
                            0,
                            "#0d0887"
                          ],
                          [
                            0.1111111111111111,
                            "#46039f"
                          ],
                          [
                            0.2222222222222222,
                            "#7201a8"
                          ],
                          [
                            0.3333333333333333,
                            "#9c179e"
                          ],
                          [
                            0.4444444444444444,
                            "#bd3786"
                          ],
                          [
                            0.5555555555555556,
                            "#d8576b"
                          ],
                          [
                            0.6666666666666666,
                            "#ed7953"
                          ],
                          [
                            0.7777777777777778,
                            "#fb9f3a"
                          ],
                          [
                            0.8888888888888888,
                            "#fdca26"
                          ],
                          [
                            1,
                            "#f0f921"
                          ]
                        ],
                        "type": "heatmapgl"
                      }
                    ],
                    "histogram": [
                      {
                        "marker": {
                          "colorbar": {
                            "outlinewidth": 0,
                            "ticks": ""
                          }
                        },
                        "type": "histogram"
                      }
                    ],
                    "histogram2d": [
                      {
                        "colorbar": {
                          "outlinewidth": 0,
                          "ticks": ""
                        },
                        "colorscale": [
                          [
                            0,
                            "#0d0887"
                          ],
                          [
                            0.1111111111111111,
                            "#46039f"
                          ],
                          [
                            0.2222222222222222,
                            "#7201a8"
                          ],
                          [
                            0.3333333333333333,
                            "#9c179e"
                          ],
                          [
                            0.4444444444444444,
                            "#bd3786"
                          ],
                          [
                            0.5555555555555556,
                            "#d8576b"
                          ],
                          [
                            0.6666666666666666,
                            "#ed7953"
                          ],
                          [
                            0.7777777777777778,
                            "#fb9f3a"
                          ],
                          [
                            0.8888888888888888,
                            "#fdca26"
                          ],
                          [
                            1,
                            "#f0f921"
                          ]
                        ],
                        "type": "histogram2d"
                      }
                    ],
                    "histogram2dcontour": [
                      {
                        "colorbar": {
                          "outlinewidth": 0,
                          "ticks": ""
                        },
                        "colorscale": [
                          [
                            0,
                            "#0d0887"
                          ],
                          [
                            0.1111111111111111,
                            "#46039f"
                          ],
                          [
                            0.2222222222222222,
                            "#7201a8"
                          ],
                          [
                            0.3333333333333333,
                            "#9c179e"
                          ],
                          [
                            0.4444444444444444,
                            "#bd3786"
                          ],
                          [
                            0.5555555555555556,
                            "#d8576b"
                          ],
                          [
                            0.6666666666666666,
                            "#ed7953"
                          ],
                          [
                            0.7777777777777778,
                            "#fb9f3a"
                          ],
                          [
                            0.8888888888888888,
                            "#fdca26"
                          ],
                          [
                            1,
                            "#f0f921"
                          ]
                        ],
                        "type": "histogram2dcontour"
                      }
                    ],
                    "mesh3d": [
                      {
                        "colorbar": {
                          "outlinewidth": 0,
                          "ticks": ""
                        },
                        "type": "mesh3d"
                      }
                    ],
                    "parcoords": [
                      {
                        "line": {
                          "colorbar": {
                            "outlinewidth": 0,
                            "ticks": ""
                          }
                        },
                        "type": "parcoords"
                      }
                    ],
                    "pie": [
                      {
                        "automargin": true,
                        "type": "pie"
                      }
                    ],
                    "scatter": [
                      {
                        "marker": {
                          "colorbar": {
                            "outlinewidth": 0,
                            "ticks": ""
                          }
                        },
                        "type": "scatter"
                      }
                    ],
                    "scatter3d": [
                      {
                        "line": {
                          "colorbar": {
                            "outlinewidth": 0,
                            "ticks": ""
                          }
                        },
                        "marker": {
                          "colorbar": {
                            "outlinewidth": 0,
                            "ticks": ""
                          }
                        },
                        "type": "scatter3d"
                      }
                    ],
                    "scattercarpet": [
                      {
                        "marker": {
                          "colorbar": {
                            "outlinewidth": 0,
                            "ticks": ""
                          }
                        },
                        "type": "scattercarpet"
                      }
                    ],
                    "scattergeo": [
                      {
                        "marker": {
                          "colorbar": {
                            "outlinewidth": 0,
                            "ticks": ""
                          }
                        },
                        "type": "scattergeo"
                      }
                    ],
                    "scattergl": [
                      {
                        "marker": {
                          "colorbar": {
                            "outlinewidth": 0,
                            "ticks": ""
                          }
                        },
                        "type": "scattergl"
                      }
                    ],
                    "scattermapbox": [
                      {
                        "marker": {
                          "colorbar": {
                            "outlinewidth": 0,
                            "ticks": ""
                          }
                        },
                        "type": "scattermapbox"
                      }
                    ],
                    "scatterpolar": [
                      {
                        "marker": {
                          "colorbar": {
                            "outlinewidth": 0,
                            "ticks": ""
                          }
                        },
                        "type": "scatterpolar"
                      }
                    ],
                    "scatterpolargl": [
                      {
                        "marker": {
                          "colorbar": {
                            "outlinewidth": 0,
                            "ticks": ""
                          }
                        },
                        "type": "scatterpolargl"
                      }
                    ],
                    "scatterternary": [
                      {
                        "marker": {
                          "colorbar": {
                            "outlinewidth": 0,
                            "ticks": ""
                          }
                        },
                        "type": "scatterternary"
                      }
                    ],
                    "surface": [
                      {
                        "colorbar": {
                          "outlinewidth": 0,
                          "ticks": ""
                        },
                        "colorscale": [
                          [
                            0,
                            "#0d0887"
                          ],
                          [
                            0.1111111111111111,
                            "#46039f"
                          ],
                          [
                            0.2222222222222222,
                            "#7201a8"
                          ],
                          [
                            0.3333333333333333,
                            "#9c179e"
                          ],
                          [
                            0.4444444444444444,
                            "#bd3786"
                          ],
                          [
                            0.5555555555555556,
                            "#d8576b"
                          ],
                          [
                            0.6666666666666666,
                            "#ed7953"
                          ],
                          [
                            0.7777777777777778,
                            "#fb9f3a"
                          ],
                          [
                            0.8888888888888888,
                            "#fdca26"
                          ],
                          [
                            1,
                            "#f0f921"
                          ]
                        ],
                        "type": "surface"
                      }
                    ],
                    "table": [
                      {
                        "cells": {
                          "fill": {
                            "color": "#EBF0F8"
                          },
                          "line": {
                            "color": "white"
                          }
                        },
                        "header": {
                          "fill": {
                            "color": "#C8D4E3"
                          },
                          "line": {
                            "color": "white"
                          }
                        },
                        "type": "table"
                      }
                    ]
                  },
                  "layout": {
                    "annotationdefaults": {
                      "arrowcolor": "#2a3f5f",
                      "arrowhead": 0,
                      "arrowwidth": 1
                    },
                    "autotypenumbers": "strict",
                    "coloraxis": {
                      "colorbar": {
                        "outlinewidth": 0,
                        "ticks": ""
                      }
                    },
                    "colorscale": {
                      "diverging": [
                        [
                          0,
                          "#8e0152"
                        ],
                        [
                          0.1,
                          "#c51b7d"
                        ],
                        [
                          0.2,
                          "#de77ae"
                        ],
                        [
                          0.3,
                          "#f1b6da"
                        ],
                        [
                          0.4,
                          "#fde0ef"
                        ],
                        [
                          0.5,
                          "#f7f7f7"
                        ],
                        [
                          0.6,
                          "#e6f5d0"
                        ],
                        [
                          0.7,
                          "#b8e186"
                        ],
                        [
                          0.8,
                          "#7fbc41"
                        ],
                        [
                          0.9,
                          "#4d9221"
                        ],
                        [
                          1,
                          "#276419"
                        ]
                      ],
                      "sequential": [
                        [
                          0,
                          "#0d0887"
                        ],
                        [
                          0.1111111111111111,
                          "#46039f"
                        ],
                        [
                          0.2222222222222222,
                          "#7201a8"
                        ],
                        [
                          0.3333333333333333,
                          "#9c179e"
                        ],
                        [
                          0.4444444444444444,
                          "#bd3786"
                        ],
                        [
                          0.5555555555555556,
                          "#d8576b"
                        ],
                        [
                          0.6666666666666666,
                          "#ed7953"
                        ],
                        [
                          0.7777777777777778,
                          "#fb9f3a"
                        ],
                        [
                          0.8888888888888888,
                          "#fdca26"
                        ],
                        [
                          1,
                          "#f0f921"
                        ]
                      ],
                      "sequentialminus": [
                        [
                          0,
                          "#0d0887"
                        ],
                        [
                          0.1111111111111111,
                          "#46039f"
                        ],
                        [
                          0.2222222222222222,
                          "#7201a8"
                        ],
                        [
                          0.3333333333333333,
                          "#9c179e"
                        ],
                        [
                          0.4444444444444444,
                          "#bd3786"
                        ],
                        [
                          0.5555555555555556,
                          "#d8576b"
                        ],
                        [
                          0.6666666666666666,
                          "#ed7953"
                        ],
                        [
                          0.7777777777777778,
                          "#fb9f3a"
                        ],
                        [
                          0.8888888888888888,
                          "#fdca26"
                        ],
                        [
                          1,
                          "#f0f921"
                        ]
                      ]
                    },
                    "colorway": [
                      "#636efa",
                      "#EF553B",
                      "#00cc96",
                      "#ab63fa",
                      "#FFA15A",
                      "#19d3f3",
                      "#FF6692",
                      "#B6E880",
                      "#FF97FF",
                      "#FECB52"
                    ],
                    "font": {
                      "color": "#2a3f5f"
                    },
                    "geo": {
                      "bgcolor": "white",
                      "lakecolor": "white",
                      "landcolor": "#E5ECF6",
                      "showlakes": true,
                      "showland": true,
                      "subunitcolor": "white"
                    },
                    "hoverlabel": {
                      "align": "left"
                    },
                    "hovermode": "closest",
                    "mapbox": {
                      "style": "light"
                    },
                    "paper_bgcolor": "white",
                    "plot_bgcolor": "#E5ECF6",
                    "polar": {
                      "angularaxis": {
                        "gridcolor": "white",
                        "linecolor": "white",
                        "ticks": ""
                      },
                      "bgcolor": "#E5ECF6",
                      "radialaxis": {
                        "gridcolor": "white",
                        "linecolor": "white",
                        "ticks": ""
                      }
                    },
                    "scene": {
                      "xaxis": {
                        "backgroundcolor": "#E5ECF6",
                        "gridcolor": "white",
                        "gridwidth": 2,
                        "linecolor": "white",
                        "showbackground": true,
                        "ticks": "",
                        "zerolinecolor": "white"
                      },
                      "yaxis": {
                        "backgroundcolor": "#E5ECF6",
                        "gridcolor": "white",
                        "gridwidth": 2,
                        "linecolor": "white",
                        "showbackground": true,
                        "ticks": "",
                        "zerolinecolor": "white"
                      },
                      "zaxis": {
                        "backgroundcolor": "#E5ECF6",
                        "gridcolor": "white",
                        "gridwidth": 2,
                        "linecolor": "white",
                        "showbackground": true,
                        "ticks": "",
                        "zerolinecolor": "white"
                      }
                    },
                    "shapedefaults": {
                      "line": {
                        "color": "#2a3f5f"
                      }
                    },
                    "ternary": {
                      "aaxis": {
                        "gridcolor": "white",
                        "linecolor": "white",
                        "ticks": ""
                      },
                      "baxis": {
                        "gridcolor": "white",
                        "linecolor": "white",
                        "ticks": ""
                      },
                      "bgcolor": "#E5ECF6",
                      "caxis": {
                        "gridcolor": "white",
                        "linecolor": "white",
                        "ticks": ""
                      }
                    },
                    "title": {
                      "x": 0.05
                    },
                    "xaxis": {
                      "automargin": true,
                      "gridcolor": "white",
                      "linecolor": "white",
                      "ticks": "",
                      "title": {
                        "standoff": 15
                      },
                      "zerolinecolor": "white",
                      "zerolinewidth": 2
                    },
                    "yaxis": {
                      "automargin": true,
                      "gridcolor": "white",
                      "linecolor": "white",
                      "ticks": "",
                      "title": {
                        "standoff": 15
                      },
                      "zerolinecolor": "white",
                      "zerolinewidth": 2
                    }
                  }
                },
                "title": {
                  "text": "2020 Canadian Energy Future Sankey Diagram"
                },
                "width": 1500
              }
            }
          },
          "metadata": {}
        }
      ],
      "source": [
        "from sankey import Sankey\n",
        "sankey = Sankey()\n",
        "\n",
        "# Natural Gas Liquids\n",
        "# Butane\n",
        "sankey.add_edge(\"Butane Production\", \"Primary NGL\", layer_1_production_and_imports[\"butane_production\"])\n",
        "sankey.add_edge(\"Butane Imports\", \"Primary NGL\", layer_1_production_and_imports[\"butane_imports\"])\n",
        "\n",
        "sankey.add_edge(\"Primary NGL\", \"Butane Exports\", layer_1_production_and_imports[\"butane_exports\"])\n",
        "sankey.add_edge(\"Butane Exports\", \"Exports\", layer_1_production_and_imports[\"butane_exports\"])\n",
        "\n",
        "# Ethane\n",
        "sankey.add_edge(\"Ethane Production\", \"Primary NGL\", layer_1_production_and_imports[\"ethane_production\"])\n",
        "sankey.add_edge(\"Ethane Imports\", \"Primary NGL\", layer_1_production_and_imports[\"ethane_imports\"])\n",
        "\n",
        "sankey.add_edge(\"Primary NGL\", \"Ethane Exports\", layer_1_production_and_imports[\"ethane_exports\"])\n",
        "sankey.add_edge(\"Ethane Exports\", \"Exports\", layer_1_production_and_imports[\"ethane_exports\"])\n",
        "\n",
        "# Pentane\n",
        "sankey.add_edge(\"Pentane Production\", \"Primary NGL\", layer_1_production_and_imports[\"pentane_production\"])\n",
        "sankey.add_edge(\"Pentane Imports\", \"Primary NGL\", layer_1_production_and_imports[\"pentane_imports\"])\n",
        "\n",
        "sankey.add_edge(\"Primary NGL\", \"Pentane Exports\", layer_1_production_and_imports[\"pentane_exports\"])\n",
        "sankey.add_edge(\"Pentane Exports\", \"Exports\", layer_1_production_and_imports[\"pentane_exports\"])\n",
        "\n",
        "# Propane\n",
        "sankey.add_edge(\"Propane Production\", \"Primary NGL\", layer_1_production_and_imports[\"propane_production\"])\n",
        "sankey.add_edge(\"Propane Imports\", \"Primary NGL\", layer_1_production_and_imports[\"propane_imports\"])\n",
        "\n",
        "sankey.add_edge(\"Primary NGL\", \"Propane Exports\", layer_1_production_and_imports[\"propane_exports\"])\n",
        "sankey.add_edge(\"Propane Exports\", \"Exports\", layer_1_production_and_imports[\"propane_exports\"])\n",
        "\n",
        "sankey.add_edge(\"Primary NGL\", \"TODO Produced & Distributed Energy\", 1.0)\n",
        "\n",
        "# ---\n",
        "\n",
        "# Natural Gas\n",
        "sankey.add_edge(\"Natural Gas Production\", \"Primary Natural Gas\", layer_1_production_and_imports[\"natural_gas_production\"])\n",
        "sankey.add_edge(\"Natural Gas Imports\", \"Primary Natural Gas\", layer_1_production_and_imports[\"natural_gas_imports\"])\n",
        "\n",
        "sankey.add_edge(\"Primary Natural Gas\", \"Exports\", layer_1_production_and_imports[\"natural_gas_exports\"])\n",
        "sankey.add_edge(\"Primary Natural Gas\", \"TODO Produced & Distributed Energy\", 1.0)\n",
        "\n",
        "# ---\n",
        "\n",
        "# Coal\n",
        "sankey.add_edge(\"Coal Production\", \"Primary Coal\", layer_1_production_and_imports[\"coal_production\"])\n",
        "sankey.add_edge(\"Coal Imports\", \"Primary Coal\", layer_1_production_and_imports[\"coal_imports\"])\n",
        "\n",
        "sankey.add_edge(\"Primary Coal\", \"Exports\", layer_1_production_and_imports[\"coal_exports\"])\n",
        "sankey.add_edge(\"Primary Coal\", \"TODO Produced & Distributed Energy\", 1.0)\n",
        "\n",
        "# Crude Oil\n",
        "sankey.add_edge(\"Crude Oil Production\", \"Primary RPP\", layer_1_production_and_imports[\"crude_oil_production\"])\n",
        "sankey.add_edge(\"Crude Oil Imports\", \"Primary RPP\", layer_1_production_and_imports[\"crude_oil_imports\"])\n",
        "\n",
        "sankey.add_edge(\"Primary RPP\", \"Exports\", layer_1_production_and_imports[\"crude_oil_exports\"])\n",
        "sankey.add_edge(\"Primary RPP\", \"TODO Produced & Distributed Energy\", 1.0)\n",
        "\n",
        "# Uranium\n",
        "sankey.add_edge(\"Uranium Production\", \"Primary Uranium\", layer_1_production_and_imports[\"uranium_production\"])\n",
        "sankey.add_edge(\"Uranium Imports\", \"Primary Uranium\", layer_1_production_and_imports[\"uranium_imports\"])\n",
        "\n",
        "sankey.add_edge(\"Primary Uranium\", \"Exports\", layer_1_production_and_imports[\"uranium_exports\"])\n",
        "sankey.add_edge(\"Primary Uranium\", \"Reserves or Error\", layer_1_production_and_imports[\"uranium_production\"] - layer_1_production_and_imports[\"uranium_exports\"] - layer_2_primary_energy[\"uranium\"])\n",
        "# Renewables\n",
        "sankey.add_edge(\"Wind Energy Production\", \"Primary Wind\", layer_2_primary_energy[\"wind\"])\n",
        "sankey.add_edge(\"Hydroelectric Energy Production\", \"Primary Hydro\", layer_2_primary_energy[\"hydro_electric_generation_demand\"])\n",
        "sankey.add_edge(\"Solar Energy Production\", \"Primary Solar\", layer_2_primary_energy[\"solar\"])\n",
        "\n",
        "#TODO: This needs to be properly calculated\n",
        "sankey.add_edge(\"Biomass & Geothermal\", \"Primary Other Renewables and Landfill Gas\", layer_2_primary_energy[\"biomass_geothermal\"])\n",
        "\n",
        "# Other\n",
        "sankey.add_edge(\"TODO ???\", \"TODO ????\", 1.0)\n",
        "sankey.add_edge(\"TODO ????\", \"Primary Other Renewables and Landfill Gas\", 1.0)\n",
        "\n",
        "# Electricity\n",
        "sankey.add_edge(\"Electricity Imports\", \"Electricity\", layer_2_primary_energy[\"electricity_imports\"])\n",
        "sankey.add_edge(\"Primary Coal\", \"Electricity\", layer_2_primary_energy[\"coke_and_coal_electric_generation_demand\"])\n",
        "sankey.add_edge(\"Primary Hydro\", \"Electricity\", layer_2_primary_energy[\"hydro_electric_generation_demand\"])\n",
        "sankey.add_edge(\"Primary Natural Gas\", \"Electricity\", layer_2_primary_energy[\"natural_gas_electric_generation_demand\"])\n",
        "sankey.add_edge(\"Primary Uranium\", \"Electricity\", layer_2_primary_energy[\"uranium_electric_generation_demand\"])\n",
        "sankey.add_edge(\"Primary RPP\", \"Electricity\", layer_2_primary_energy[\"oil_electric_generation_demand\"])\n",
        "# We subtract solar and wind here to ensure we're not double counting\n",
        "sankey.add_edge(\"Primary Other Renewables and Landfill Gas\", \"Electricity\", layer_2_primary_energy[\"other_renewables_electric_generation_demand\"] - layer_2_primary_energy[\"solar\"] - layer_2_primary_energy[\"wind\"])\n",
        "sankey.add_edge(\"Primary Solar\", \"Electricity\", layer_2_primary_energy[\"solar\"])\n",
        "sankey.add_edge(\"Primary Wind\", \"Electricity\", layer_2_primary_energy[\"wind\"])\n",
        "\n",
        "sankey.add_edge(\"Primary Natural Gas\", \"Residential\", layer_3_industry[\"natural_gas_to_residential\"])\n",
        "sankey.add_edge(\"Primary Natural Gas\", \"Commercial\", layer_3_industry[\"natural_gas_to_commercial\"])\n",
        "sankey.add_edge(\"Primary Natural Gas\", \"Industrial\", layer_3_industry[\"natural_gas_to_industrial\"])\n",
        "sankey.add_edge(\"Primary Natural Gas\", \"Transportation\", layer_3_industry[\"natural_gas_to_transportation\"])\n",
        "\n",
        "sankey.add_edge(\"Primary RPP\", \"Residential\", layer_3_industry[\"rpp_to_residential\"])\n",
        "sankey.add_edge(\"Primary RPP\", \"Commercial\", layer_3_industry[\"rpp_to_commercial\"])\n",
        "sankey.add_edge(\"Primary RPP\", \"Industrial\", layer_3_industry[\"rpp_to_industrial\"])\n",
        "sankey.add_edge(\"Primary RPP\", \"Transportation\", layer_3_industry[\"aviation_fuel_to_transportation\"] + layer_3_industry[\"diesel_to_transportation\"] + layer_3_industry[\"heavy_fuel_oil_to_transportation\"] + layer_3_industry[\"lpg_to_transportation\"] + layer_3_industry[\"lubricants_to_transportation\"] + layer_3_industry[\"motor_gasoline_to_transportation\"])\n",
        "\n",
        "#TODO: This may be misclassified since this is \"Biofuels and Emerging Energy\" (the full definition is 'Biomass (wood), solar, geothermal, hydrogen, ethanol and biodiesel.') & \"Other\"\n",
        "sankey.add_edge(\"Primary Other Renewables and Landfill Gas\", \"Residential\", layer_3_industry[\"biofuels_to_residential\"] + layer_3_industry[\"other_to_residential\"])\n",
        "sankey.add_edge(\"Primary Other Renewables and Landfill Gas\", \"Commercial\", layer_3_industry[\"biofuels_to_commercial\"] + layer_3_industry[\"other_to_commercial\"])\n",
        "sankey.add_edge(\"Primary Other Renewables and Landfill Gas\", \"Industrial\", layer_3_industry[\"biofuels_to_industrial\"] + layer_3_industry[\"other_to_industrial\"])\n",
        "sankey.add_edge(\"Primary Other Renewables and Landfill Gas\", \"Transportation\", layer_3_industry[\"biofuels_to_transportation\"])\n",
        "\n",
        "sankey.add_edge(\"Electricity\", \"Exports\", layer_2_primary_energy[\"electricity_exports\"])\n",
        "sankey.add_edge(\"Electricity\", \"Residential\", layer_3_industry[\"electricity_to_residential\"])\n",
        "sankey.add_edge(\"Electricity\", \"Commercial\", layer_3_industry[\"electricity_to_commercial\"])\n",
        "sankey.add_edge(\"Electricity\", \"Industrial\", layer_3_industry[\"electricity_to_industrial\"])\n",
        "sankey.add_edge(\"Electricity\", \"Transportation\", layer_3_industry[\"electricity_to_transportation\"])\n",
        "\n",
        "sankey.add_edge(\"Electricity\", \"Hydro Generation Losses\", layer_2_primary_energy[\"hydro_loss\"])\n",
        "sankey.add_edge(\"Electricity\", \"Nuclear Generation Losses\", layer_2_primary_energy[\"uranium_loss\"])\n",
        "sankey.add_edge(\"Electricity\", \"Natural Gas Generation Losses\", layer_2_primary_energy[\"natural_gas_loss\"])\n",
        "sankey.add_edge(\"Electricity\", \"Oil Generation Losses\", layer_2_primary_energy[\"oil_loss\"])\n",
        "sankey.add_edge(\"Electricity\", \"Other Renewable Generation Losses\", layer_2_primary_energy[\"other_renewables_loss\"])\n",
        "sankey.add_edge(\"Electricity\", \"Coke & Coal Generation Losses\", layer_2_primary_energy[\"coke_and_coal_loss\"])\n",
        "\n",
        "sankey.add_edge(\"Electricity\", \"Misc Losses\", layer_2_primary_energy[\"total_electricity_primary_demand\"] + layer_2_primary_energy[\"electricity_imports\"] - layer_2_primary_energy[\"total_electricity_losses\"] - layer_3_industry[\"total_electricity_end_use_demand\"] - layer_2_primary_energy[\"electricity_exports\"])\n",
        "\n",
        "sankey.add_edge(\"Coke & Coal Generation Losses\", \"Losses\", layer_2_primary_energy[\"coke_and_coal_loss\"])\n",
        "sankey.add_edge(\"Hydro Generation Losses\", \"Losses\", layer_2_primary_energy[\"hydro_loss\"])\n",
        "sankey.add_edge(\"Nuclear Generation Losses\", \"Losses\", layer_2_primary_energy[\"uranium_loss\"])\n",
        "sankey.add_edge(\"Natural Gas Generation Losses\", \"Losses\", layer_2_primary_energy[\"natural_gas_loss\"])\n",
        "sankey.add_edge(\"Oil Generation Losses\", \"Losses\", layer_2_primary_energy[\"oil_loss\"])\n",
        "sankey.add_edge(\"Other Renewable Generation Losses\", \"Losses\", layer_2_primary_energy[\"other_renewables_loss\"])\n",
        "\n",
        "sankey.set_colours(colours)\n",
        "\n",
        "sankey.render(\"2020 Canadian Energy Future Sankey Diagram\")\n"
      ]
    },
    {
      "cell_type": "code",
      "execution_count": 128,
      "metadata": {},
      "outputs": [
        {
          "output_type": "stream",
          "name": "stdout",
          "text": [
            "Primary NGL is unbalanced: 3931.7842226350394\nPrimary Natural Gas is unbalanced: -2570.7812922598387\nPrimary Coal is unbalanced: 128.3359863552002\nPrimary RPP is unbalanced: -1648.3634308119572\nPrimary Uranium is unbalanced: -665.6596199999999\nPrimary Other Renewables and Landfill Gas is unbalanced: -825.5797151999999\nElectricity is unbalanced: 3.410605131648481e-13\n"
          ]
        }
      ],
      "source": [
        "sankey.validate()"
      ]
    }
  ]
}