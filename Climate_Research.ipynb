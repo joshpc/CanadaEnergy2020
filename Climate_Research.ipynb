{
  "nbformat": 4,
  "nbformat_minor": 0,
  "metadata": {
    "colab": {
      "name": "Climate Research",
      "provenance": [],
      "collapsed_sections": [],
      "toc_visible": true,
      "mount_file_id": "16FPCZrXauU4C6d6K6haxBxn7q8y0iiNO",
      "authorship_tag": "ABX9TyPM3bHWsYN8D0bwD82M2IbH",
      "include_colab_link": true
    },
    "kernelspec": {
      "name": "python3",
      "display_name": "Python 3"
    }
  },
  "cells": [
    {
      "cell_type": "markdown",
      "metadata": {
        "id": "view-in-github",
        "colab_type": "text"
      },
      "source": [
        "<a href=\"https://colab.research.google.com/github/joshpc/CanadaEnergy2020/blob/main/Climate_Research.ipynb\" target=\"_parent\"><img src=\"https://colab.research.google.com/assets/colab-badge.svg\" alt=\"Open In Colab\"/></a>"
      ]
    },
    {
      "cell_type": "markdown",
      "metadata": {
        "id": "1P5dq3418DfH"
      },
      "source": [
        "# Canadian Energy Solutions\n",
        "\n",
        "This is a simple notebook that allows us to explore some of the underlying problems in the Canadian energy space. The objective is to identify sectors that need assistance, and potentially identify companies that can fill those gaps.\n",
        "\n",
        "If we were to simplify the Canadian energy problem, we can say that we need to reach a scenario where two simple constraints are met:\n",
        "\n",
        "`supply > demand && net_emissions <= 0`\n",
        "\n",
        "In reality, this is a much more complex equation since if we were to sum the entirety of Canada's production, and subtract demand, we would be glossing over regional differences and distances.\n",
        "\n",
        "For the sake of this document, we will start by assuming two things:\n",
        "- A province must be fully sufficient. That is to say that it must not depend on neighbouring provinces to provide electricity.\n",
        "- Emissions across the country must be net. One province may pollute, as long as neighbouring provinces can assist with the reduction (it's all one atmosphere.)"
      ]
    },
    {
      "cell_type": "code",
      "metadata": {
        "id": "ZEuf9aUGv3AX"
      },
      "source": [
        ""
      ],
      "execution_count": null,
      "outputs": []
    },
    {
      "cell_type": "code",
      "metadata": {
        "id": "MiyfUFccCvQx"
      },
      "source": [
        "%load_ext google.colab.data_table\n",
        "%matplotlib inline\n",
        "\n",
        "# import csv\n",
        "import ssl\n",
        "\n",
        "# We're disabling SSL Cert Verification for these data examples\n",
        "ssl._create_default_https_context = ssl._create_unverified_context\n",
        "\n",
        "# from google.colab import drive\n",
        "\n",
        "import numpy as np\n",
        "import pandas as pd\n",
        "\n",
        "from google.colab import data_table\n",
        "\n",
        "from matplotlib import pyplot as plt\n",
        "\n",
        "import plotly.graph_objects as go"
      ],
      "execution_count": null,
      "outputs": []
    },
    {
      "cell_type": "code",
      "metadata": {
        "id": "MtB7Kd6dry_X"
      },
      "source": [
        "# Reset all data\n",
        "butane_data = None\n",
        "coal_data = None\n",
        "crude_oil_data = None\n",
        "electricity_data = None\n",
        "ethane_data = None\n",
        "natural_gas_data = None\n",
        "pentanes_data = None\n",
        "propane_data = None\n",
        "end_use_demand_data = None"
      ],
      "execution_count": null,
      "outputs": []
    },
    {
      "cell_type": "code",
      "metadata": {
        "colab": {
          "base_uri": "https://localhost:8080/"
        },
        "id": "Kp0B32rbRAAT",
        "outputId": "73e17481-7f44-4495-d011-61801eed23fb"
      },
      "source": [
        "# Let's import our data\n",
        "\n",
        "# This uses Canada's Energy Futures 2020 Dataset. This dataset looks far into the future and gives us a good idea of whether\n",
        "# we're heading in the right direction or not. This isn't necessarily a 100% accurate, as some data sources are limited but it's\n",
        "# a good start.\n",
        "#\n",
        "# >  The Energy Futures series explores how possible energy futures might unfold for Canadians over the long term.\n",
        "# >  Canada’s Energy Future 2020: Energy Supply and Demand Projections to 2050 (EF2020) is our latest long-term energy outlook.\n",
        "# >  It is the first outlook in the series to provide projections to 2050.\n",
        "# >  It covers all energy commodities, and all provinces and territories.\n",
        "# >  We use economic and energy models to develop this outlook. We also make assumptions about technology,\n",
        "# >  energy and climate policies, energy markets, human behaviour and the economy.\n",
        "#\n",
        "\n",
        "# https://open.canada.ca/data/en/dataset/bba41250-261a-4f3b-9ce8-db44d9a0f725\n",
        "\n",
        "# Butane\n",
        "print(\"Importing Butane Data...\")\n",
        "butane_data = pd.read_csv(\"https://www.cer-rec.gc.ca/open/energy/energyfutures2020/butanes-2020.csv\")\n",
        "\n",
        "# Coal\n",
        "print(\"Importing Coal Data...\")\n",
        "coal_data = pd.read_csv(\"https://www.cer-rec.gc.ca/open/energy/energyfutures2020/coal-2020.csv\")\n",
        "\n",
        "# Crude Oil\n",
        "print(\"Importing Crude Oil Data...\")\n",
        "crude_oil_production_data = pd.read_csv(\"https://www.cer-rec.gc.ca/open/energy/energyfutures2020/crude-oil-production-2020.csv\")\n",
        "\n",
        "# Electricity Generation\n",
        "print(\"Importing Electricity Generation Data...\")\n",
        "electricity_data = pd.read_csv(\"https://www.cer-rec.gc.ca/open/energy/energyfutures2020/electricity-generation-2020.csv\")\n",
        "\n",
        "# Ethane\n",
        "print(\"Importing Ethane Data...\")\n",
        "ethane_data = pd.read_csv(\"https://www.cer-rec.gc.ca/open/energy/energyfutures2020/ethane-2020.csv\")\n",
        "\n",
        "# Natural Gas Production\n",
        "print(\"Importing Natural Gas Data...\")\n",
        "natural_gas_data = pd.read_csv(\"https://www.cer-rec.gc.ca/open/energy/energyfutures2020/natural-gas-production-2020.csv\")\n",
        "\n",
        "# Pentanes\n",
        "print(\"Importing Pentanes Data...\")\n",
        "pentanes_data = pd.read_csv(\"https://www.cer-rec.gc.ca/open/energy/energyfutures2020/pentanes-2020.csv\")\n",
        "\n",
        "# Propane\n",
        "print(\"Importing Propane Data...\")\n",
        "propane_data = pd.read_csv(\"https://www.cer-rec.gc.ca/open/energy/energyfutures2020/propane-2020.csv\")\n",
        "\n",
        "# Primary Demand\n",
        "print(\"Importing Primary Demand...\")\n",
        "primary_demand_data = pd.read_csv(\"https://www.cer-rec.gc.ca/open/energy/energyfutures2020/primary-energy-demand-2020.csv\")\n",
        "\n",
        "# End Use Demand\n",
        "print(\"Importing End Use Demand Data...\")\n",
        "end_use_demand_data = pd.read_csv(\"https://www.cer-rec.gc.ca/open/energy/energyfutures2020/end-use-demand-2020.csv\")\n",
        "\n",
        "# Electric power generation, monthly generation by type of electricity\n",
        "# Source: https://www150.statcan.gc.ca/t1/tbl1/en/tv.action?pid=2510001501\n",
        "#\n",
        "# https://www150.statcan.gc.ca/t1/tbl1/#?pid=25100015&file=2510001501-eng.csv\n",
        "\n",
        "print(\"Done!\")"
      ],
      "execution_count": null,
      "outputs": [
        {
          "output_type": "stream",
          "text": [
            "Importing Butane Data...\n",
            "Importing Coal Data...\n",
            "Importing Crude Oil Data...\n",
            "Importing Electricity Generation Data...\n",
            "Importing Ethane Data...\n",
            "Importing Natural Gas Data...\n",
            "Importing Pentanes Data...\n",
            "Importing Propane Data...\n",
            "Importing Primary Demand...\n",
            "Importing End Use Demand Data...\n",
            "Done!\n"
          ],
          "name": "stdout"
        }
      ]
    },
    {
      "cell_type": "code",
      "metadata": {
        "id": "CtU6tSb5wy6K"
      },
      "source": [
        "# Data setup\n",
        "layer_1_production_and_imports = {}\n",
        "layer_2_primary_energy = {}\n",
        "layer_3_secondary_energy = {}\n",
        "layer_4_industry = {}\n",
        "layer_5_industry_end_use = {}"
      ],
      "execution_count": null,
      "outputs": []
    },
    {
      "cell_type": "code",
      "metadata": {
        "id": "hy5wtvrrEW2W"
      },
      "source": [
        "# Helper Methods\n",
        "# Conversion Data: https://apps.cer-rec.gc.ca/Conversion/conversion-tables.aspx?GoCTemplateCulture=en-CA\n",
        "\n",
        "gj_to_pj = 1000000\n",
        "\n",
        "def gigajoule_to_quad(gj):\n",
        "  return -1\n",
        "\n",
        "# Butane, in Cubic Metres\n",
        "def butane_to_pj(butane):\n",
        "  return butane * 28.62 / gj_to_pj\n",
        "\n",
        "# Coal, in tons\n",
        "# Coal has four different \"types\" each resulting in different energy densities.\n",
        "#   Anthracite: 27.70 GJ\n",
        "#   Bituminous: 27.60 GJ\n",
        "#   Lignite: 14.40 GJ\n",
        "#   Subbituminous: 18.80 GJ\n",
        "def coal_to_pj(coal):\n",
        "  return coal * 27.60 / gj_to_pj\n",
        "\n",
        "# Crude Oil, in Cubic Metres\n",
        "#   Pentanes plus\t1.0 Cubic metres (m³)\t35.17 Gigajoules (GJ)\n",
        "#   Light\t1.0 Cubic metres (m³)\t38.51 Gigajoules (GJ)\n",
        "#   Heavy\t1.0 Cubic metres (m³)\t40.90 Gigajoules (GJ)\n",
        "#   Synthetic crude oil\t1.0 Cubic metres (m³)\t39.40 Gigajoules (GJ)\n",
        "#   Bitumen\t1.0 Cubic metres (m³)\t42.80 Gigajoules (GJ)\n",
        "def crude_oil_to_pj(crude_oil):\n",
        "  #TODO: Differentiate\n",
        "  return crude_oil * 40.90 / gj_to_pj\n",
        "\n",
        "# Ethane, in Cubic Metres\n",
        "def ethane_to_pj(ethane):\n",
        "  return ethane * 18.36 / gj_to_pj\n",
        "\n",
        "# Natural Gas, in Cubic Metres\n",
        "def natural_gas_to_pj(natural_gas):\n",
        "  return natural_gas * 0.0373 / gj_to_pj\n",
        "\n",
        "def pentanes_to_pj(pentanes):\n",
        "  return pentanes * 35.17 / gj_to_pj\n",
        "\n",
        "def propane_to_pj(propane):\n",
        "  return propane * 25.53 / gj_to_pj\n",
        "\n",
        "# Using https://www.cesarnet.ca/visualization/sankey-diagrams-canadas-energy-systems 's conversion,\n",
        "# > The primary heat energy generated by uranium depends on the reactor technology being used, and is much higher in reactors that use enriched uranium than in the CANDU natural uranium reactors used in Canada. The typical heat rate for uranium in a CANDU is 7700 MW-days(thermal)/tonne U, which converts to 0.665 PJ/tonne U, and this is the the conversion factor used in this Sankey diagram for estimating the primary energy content of uranium.\n",
        "def uranium_to_pj(uranium):\n",
        "  return uranium * 0.665"
      ],
      "execution_count": null,
      "outputs": []
    },
    {
      "cell_type": "code",
      "metadata": {
        "id": "e2UKzwVxuRXy"
      },
      "source": [
        "def extract_butane_data(layer_1, data, year):\n",
        "  butane_data = data[(data[\"Year\"] == year) & (data[\"Unit\"] == \"Thousand Cubic Metres per day\")]\n",
        "\n",
        "  # Butane data is \"per day\". We assume 365 day averages.\n",
        "  layer_1[\"butane_imports\"] = butane_to_pj(1000 * 365 * butane_data[(butane_data[\"Variable\"] == \"Imports to AB from U.S.\")][\"Value\"].sum())\n",
        "  layer_1[\"butane_production\"] = butane_to_pj(1000 * 365 * butane_data[(butane_data[\"Variable\"].isin([\"Production from Gas Processing\", \"Production from Oil Sands off-gas\"]))][\"Value\"].sum())\n",
        "  layer_1[\"butane_exports\"] = butane_to_pj(1000 * 365 * butane_data[(butane_data[\"Variable\"] == \"Projected Exports\")][\"Value\"].sum())"
      ],
      "execution_count": null,
      "outputs": []
    },
    {
      "cell_type": "code",
      "metadata": {
        "id": "3e5HJmZxE3Xh"
      },
      "source": [
        "def extract_coal_data(layer_1, data, year):\n",
        "  coal_data = data[data[\"Year\"] == year]\n",
        "\n",
        "  # These values are all in kilotons\n",
        "  layer_1[\"coal_imports\"] = coal_to_pj(1000 * coal_data[(coal_data[\"Variable\"] == \"Total\") & (coal_data[\"Type\"] == \"Imports\")].iloc[0][\"Value\"])\n",
        "  layer_1[\"coal_production\"] = coal_to_pj(1000 * coal_data[(coal_data[\"Variable\"] == \"Total\") & (coal_data[\"Type\"] == \"Production\")].iloc[0][\"Value\"])\n",
        "  layer_1[\"coal_exports\"] = coal_to_pj(1000 * coal_data[(coal_data[\"Variable\"] == \"Total\") & (coal_data[\"Type\"] == \"Exports\")].iloc[0][\"Value\"])\n",
        "\n",
        "  #TODO: Use Domestic Demand for other layers"
      ],
      "execution_count": null,
      "outputs": []
    },
    {
      "cell_type": "code",
      "metadata": {
        "id": "NdnCi_8YyE3Z"
      },
      "source": [
        "def extract_crude_oil_data(layer_1, data, year):\n",
        "  crude_oil_data = data[(data[\"Year\"] == year) & (data[\"Region\"] == \"Canada\") & (data[\"Unit\"] == \"Thousand Cubic Metres per day\")]\n",
        "\n",
        "  # Crude oil extract data is in a daily format\n",
        "  layer_1[\"crude_oil_imports\"] = -1\n",
        "  layer_1[\"crude_oil_production\"] = crude_oil_to_pj(1000 * 365 * crude_oil_data[crude_oil_data[\"Variable\"] == \"Total\"].iloc[0][\"value\"])\n",
        "  layer_1[\"crude_oil_exports\"] = -1"
      ],
      "execution_count": null,
      "outputs": []
    },
    {
      "cell_type": "code",
      "metadata": {
        "id": "o_-F4Swr09x7"
      },
      "source": [
        "def extract_electricity_data(layer_2, data, year):\n",
        "  electricity_data = data[(data[\"Year\"] == year) & (data[\"Region\"] == \"Canada\")]\n",
        "\n",
        "  #TODO: Convert units\n",
        "  layer_2[\"hydro_wave_tidal\"] = electricity_data[(electricity_data[\"Variable\"] == \"Hydro / Wave / Tidal\")].iloc[0][\"Value\"]\n",
        "  layer_2[\"natural_gas\"] = electricity_data[(electricity_data[\"Variable\"] == \"Natural Gas\")].iloc[0][\"Value\"]\n",
        "  layer_2[\"oil\"] = electricity_data[(electricity_data[\"Variable\"] == \"Oil\")].iloc[0][\"Value\"]\n",
        "  layer_2[\"biomass_geothermal\"] = electricity_data[(electricity_data[\"Variable\"] == \"Biomass / Geothermal\")].iloc[0][\"Value\"]\n",
        "  #TODO: Can this not be split?\n",
        "  layer_2[\"coal_and_coke\"] = electricity_data[(electricity_data[\"Variable\"] == \"Coal & Coke\")].iloc[0][\"Value\"]\n",
        "  layer_2[\"uranium\"] = electricity_data[(electricity_data[\"Variable\"] == \"Uranium\")].iloc[0][\"Value\"]\n",
        "  layer_2[\"solar\"] = electricity_data[(electricity_data[\"Variable\"] == \"Solar\")].iloc[0][\"Value\"]\n",
        "  layer_2[\"wind\"] = electricity_data[(electricity_data[\"Variable\"] == \"Wind\")].iloc[0][\"Value\"]"
      ],
      "execution_count": null,
      "outputs": []
    },
    {
      "cell_type": "code",
      "metadata": {
        "id": "SZc2NSzs3xPB"
      },
      "source": [
        "def extract_ethane_data(layer_1, data, year):\n",
        "  ethane_data = data[(data[\"Year\"] == year) & (data[\"Unit\"] == \"Thousand Cubic Metres per day\")]\n",
        "\n",
        "  layer_1[\"ethane_imports\"] = ethane_to_pj(1000 * 365 * ethane_data[ethane_data[\"Variable\"].isin([\"Imports to AB from U.S.\", \"Imports to ON from U.S.\"])][\"Value\"].sum())\n",
        "  layer_1[\"ethane_production\"] = ethane_to_pj(1000 * 365 * ethane_data[ethane_data[\"Variable\"].isin([\"Production from Gas Processing\", \"Production from Oil Sands off-gas\"])][\"Value\"].sum())\n",
        "  layer_1[\"ethane_exports\"] = ethane_to_pj(1000 * 365 * ethane_data[ethane_data[\"Variable\"] == \"Exports\"].iloc[0][\"Value\"])"
      ],
      "execution_count": null,
      "outputs": []
    },
    {
      "cell_type": "code",
      "metadata": {
        "id": "Ai8kPfe-4BkW"
      },
      "source": [
        "def extract_natural_gas_data(layer_1, data, year):\n",
        "  #TODO: Get import/export\n",
        "  natural_gas_data = data[(data[\"Year\"] == year) & (data[\"Region\"] == \"Canada\") & (data[\"Unit\"] == \"Million Cubic Metres per day\")]\n",
        "\n",
        "  layer_1[\"natural_gas_imports\"] = -1\n",
        "  layer_1[\"natural_gas_production\"] = natural_gas_to_pj(1000000 * 365 * natural_gas_data.iloc[0][\"Value\"])\n",
        "  layer_1[\"natural_gas_exports\"] = -1"
      ],
      "execution_count": null,
      "outputs": []
    },
    {
      "cell_type": "code",
      "metadata": {
        "id": "k7qVO7Oo4TMz"
      },
      "source": [
        "def extract_pentanes_data(layer_1, data, year):  \n",
        "  pentanes_data = data[(data[\"Year\"] == year) & (data[\"Unit\"] == \"Thousand Cubic Metres per day\")]\n",
        "\n",
        "  layer_1[\"pentane_imports\"] = pentanes_to_pj(1000 * 365 * pentanes_data[pentanes_data[\"Variable\"] == \"Net Imports\"].iloc[0][\"Value\"])\n",
        "  layer_1[\"pentane_production\"] = pentanes_to_pj(1000 * 365 * pentanes_data[pentanes_data[\"Variable\"].isin([\"Produciton from Refineries\", \"Production from Gas Processing - Pentanes Plus\", \"Production from Gas Wells - Liquid Condensate\"])][\"Value\"].sum())\n",
        "  layer_1[\"pentane_exports\"] = pentanes_to_pj(1000 * 365 * pentanes_data[pentanes_data[\"Variable\"] == \"Net Exports\"].iloc[0][\"Value\"])"
      ],
      "execution_count": null,
      "outputs": []
    },
    {
      "cell_type": "code",
      "metadata": {
        "id": "nixMf8Xn4f30"
      },
      "source": [
        "def extract_propane_data(layer_1, data, year):\n",
        "  propane_data = data[(data[\"Year\"] == year) & (data[\"Unit\"] == \"Thousand Cubic Metres per day\")]\n",
        "\n",
        "  layer_1[\"propane_imports\"] = propane_to_pj(1000 * 365 * propane_data[propane_data[\"Variable\"] == \"Imports\"].iloc[0][\"Value\"])\n",
        "  layer_1[\"propane_production\"] = propane_to_pj(1000 * 365 * propane_data[propane_data[\"Variable\"].isin([\"Production from Gas Processing\", \"Production from Oil Sands off-gas\", \"Production from Refineries\"])][\"Value\"].sum())\n",
        "  layer_1[\"propane_exports\"] = propane_to_pj(1000 * 365 * propane_data[propane_data[\"Variable\"] == \"Projected Exports\"].iloc[0][\"Value\"])"
      ],
      "execution_count": null,
      "outputs": []
    },
    {
      "cell_type": "code",
      "metadata": {
        "id": "XpuSXzmj__We"
      },
      "source": [
        "def extract_uranium_data(layer_1):\n",
        "  # Uranium\n",
        "  # Source: https://www.world-nuclear.org/information-library/country-profiles/countries-a-f/canada-uranium.aspx\n",
        "  # We have limited data here, but the totals per year are: (tonnes U3O8)\n",
        "  # 2019: 8165 \n",
        "  # 2018: 8256\n",
        "  # 2017: 15,467\n",
        "  # 2016: 16,541\n",
        "  # 2015: 15,709\n",
        "\n",
        "  # However if we look at Cameco (owner of Canada's Cigar Lake Uranium facility):\n",
        "  # https://www.cameco.com/invest/financial-information/annual-reports/2020\n",
        "  # We can see that they produced >50% of 2019's production despite Covid 19 https://www.cameco.com/businesses/uranium-operations/canada/cigar-lake\n",
        "  # 5,000,000 lbs instead of 9,000,000 -- however this doesn't match Canada's 2019 numbers of 8165 (9m lbs = roughly 5k tons.)\n",
        "  # Ignoring COVID-19's impact, let's assume they kept the same production.\n",
        "\n",
        "  layer_1[\"uranium_imports\"] = -1\n",
        "  layer_1[\"uranium_production\"] = uranium_to_pj(8165) #tons\n",
        "  layer_1[\"uranium_exports\"] = -1"
      ],
      "execution_count": null,
      "outputs": []
    },
    {
      "cell_type": "code",
      "metadata": {
        "colab": {
          "base_uri": "https://localhost:8080/",
          "height": 581
        },
        "id": "XLnAQEehSVUt",
        "outputId": "1b93f892-b4fa-4de9-e97f-9aacdac57477"
      },
      "source": [
        "def extract_layer_1(layer, year):\n",
        "  extract_butane_data(layer, butane_data, year)\n",
        "  extract_coal_data(layer, coal_data, year)\n",
        "  extract_crude_oil_data(layer, crude_oil_production_data, year)\n",
        "  extract_ethane_data(layer, ethane_data, year)\n",
        "  extract_natural_gas_data(layer, natural_gas_data, year)\n",
        "  extract_pentanes_data(layer, pentanes_data, year)\n",
        "  extract_propane_data(layer, propane_data, year)\n",
        "  extract_uranium_data(layer)\n",
        "\n",
        "def extract_layer_2(layer, year):\n",
        "  extract_electricity_data(layer, electricity_data, year)\n",
        "\n",
        "extract_layer_1(layer_1_production_and_imports, 2020)\n",
        "extract_layer_2(layer_2_primary_energy, 2020)\n",
        "display(layer_1_production_and_imports)\n",
        "display(layer_2_primary_energy)"
      ],
      "execution_count": null,
      "outputs": [
        {
          "output_type": "display_data",
          "data": {
            "text/plain": [
              "{'butane_exports': 160.0354700761122,\n",
              " 'butane_imports': 22.081154525028,\n",
              " 'butane_production': 512.9647136365068,\n",
              " 'coal_exports': 896.602565244,\n",
              " 'coal_imports': 162.66573448320003,\n",
              " 'coal_production': 1245.751417116,\n",
              " 'crude_oil_exports': -1,\n",
              " 'crude_oil_imports': -1,\n",
              " 'crude_oil_production': 11229.3118898779,\n",
              " 'ethane_exports': 0.0,\n",
              " 'ethane_imports': 230.099958365724,\n",
              " 'ethane_production': 477.62991630643666,\n",
              " 'natural_gas_exports': -1,\n",
              " 'natural_gas_imports': -1,\n",
              " 'natural_gas_production': 6062.15880664835,\n",
              " 'pentane_exports': 0.0,\n",
              " 'pentane_imports': 395.79014831042747,\n",
              " 'pentane_production': 1857.7547574999141,\n",
              " 'propane_exports': 298.14651848710497,\n",
              " 'propane_imports': 21.6585977511597,\n",
              " 'propane_production': 872.9869648030601,\n",
              " 'uranium_exports': -1,\n",
              " 'uranium_imports': -1,\n",
              " 'uranium_production': 5429.725}"
            ]
          },
          "metadata": {
            "tags": []
          }
        },
        {
          "output_type": "display_data",
          "data": {
            "text/plain": [
              "{'biomass_geothermal': 8197.779,\n",
              " 'coal_and_coke': 38072.7714,\n",
              " 'hydro_wave_tidal': 385456.3,\n",
              " 'natural_gas': 64000.64,\n",
              " 'oil': 1937.9797,\n",
              " 'solar': 3321.204427,\n",
              " 'uranium': 89281.94,\n",
              " 'wind': 34523.77}"
            ]
          },
          "metadata": {
            "tags": []
          }
        }
      ]
    },
    {
      "cell_type": "code",
      "metadata": {
        "colab": {
          "base_uri": "https://localhost:8080/",
          "height": 542
        },
        "id": "xhX5tUf8AgCk",
        "outputId": "ac4e074c-0dd7-4cad-ea4c-a9a17b23dd74"
      },
      "source": [
        "labels = [\n",
        "          # Layer 1: Resources (And Layer 2 Exports)\n",
        "          \"Butane Production\", \"Butane Imports\", \"Butane Exports\",\n",
        "          \"Coal Production\", \"Coal Imports\", \"Coal Exports\",\n",
        "          \"Crude Oil Production\", \"Crude Oil Imports\", \"Crude Oil Exports\",\n",
        "          \"Ethane Production\", \"Ethane Imports\", \"Ethane Exports\",\n",
        "          \"Natural Gas Production\", \"Natural Gas Imports\", \"Natural Gas Exports\",\n",
        "          \"Pentane Production\", \"Pentane Imports\", \"Pentane Exports\",\n",
        "          \"Propane Production\", \"Propane Imports\", \"Propane Exports\",\n",
        "          \"Uranium Production\", \"Uranium Imports\", \"Uranium Exports\",\n",
        "          \"Hydroelectricity Production\", \"TODO Renewables Production\",\n",
        "\n",
        "          # Layer 2: Primary Energy\n",
        "          \"Primary Coal, Coke, and Coke Oven Gas\",\n",
        "          \"Primary Hydro\",\n",
        "          \"Primary Natural Gas\",\n",
        "          \"Primary Nuclear\",\n",
        "          \"Primary Other Renewables and Landfill Gas\",\n",
        "          \"Primary Refined Petroleum Products\",\n",
        "\n",
        "          \"TODO Producted & Distributed Energy\",\n",
        "\n",
        "          # Layer 3: \"Electricity\"\n",
        "          \"Exports\",\n",
        "          \"Electricity\",\n",
        "          \"Unknown\"]\n",
        "labels_index = {}\n",
        "\n",
        "for i, label in enumerate(labels):\n",
        "  labels_index[label] = i\n",
        "\n",
        "source_nodes = [\n",
        "  # Production\n",
        "  0, 0, 1, 1,     # Butane\n",
        "  3, 3, 4, 4,     # Coal\n",
        "  6, 6, 7, 7,     # Crude Oil\n",
        "  9, 9, 10, 10,   # Ethane\n",
        "  12, 12, 13, 13, # Natural Gas\n",
        "  15, 15, 16, 16, # Pentane\n",
        "  18, 18, 19, 19, # Propane\n",
        "  21, 21, 22, 22, # Uranium\n",
        "  labels_index[\"Hydroelectricity Production\"], labels_index[\"TODO Renewables Production\"],\n",
        "\n",
        "  # Primary Energy,\n",
        "  labels_index[\"Primary Coal, Coke, and Coke Oven Gas\"], labels_index[\"Primary Hydro\"], labels_index[\"Primary Natural Gas\"], labels_index[\"Primary Nuclear\"], labels_index[\"Primary Other Renewables and Landfill Gas\"], labels_index[\"Primary Refined Petroleum Products\"],\n",
        "\n",
        "  # Exports\n",
        "  labels_index[\"Butane Exports\"], labels_index[\"Coal Exports\"], labels_index[\"Crude Oil Exports\"], labels_index[\"Ethane Exports\"], labels_index[\"Natural Gas Exports\"], labels_index[\"Pentane Exports\"], labels_index[\"Propane Exports\"], labels_index[\"Uranium Exports\"]    \n",
        "]\n",
        "\n",
        "target_nodes = [\n",
        "  # Production\n",
        "  2, labels_index[\"TODO Producted & Distributed Energy\"], 2, labels_index[\"TODO Producted & Distributed Energy\"],\n",
        "  5, labels_index[\"Primary Coal, Coke, and Coke Oven Gas\"], 5, labels_index[\"Primary Coal, Coke, and Coke Oven Gas\"],\n",
        "  8, labels_index[\"TODO Producted & Distributed Energy\"], 8, labels_index[\"TODO Producted & Distributed Energy\"],\n",
        "  11, labels_index[\"Primary Refined Petroleum Products\"], 11, labels_index[\"Primary Refined Petroleum Products\"],\n",
        "  14, labels_index[\"Primary Natural Gas\"], 14, labels_index[\"Primary Natural Gas\"],\n",
        "  17, labels_index[\"TODO Producted & Distributed Energy\"], 17, labels_index[\"TODO Producted & Distributed Energy\"],\n",
        "  20, labels_index[\"TODO Producted & Distributed Energy\"], 20, labels_index[\"TODO Producted & Distributed Energy\"],\n",
        "  23, labels_index[\"Primary Nuclear\"], 23, labels_index[\"Primary Nuclear\"],\n",
        "  labels_index[\"Primary Hydro\"], labels_index[\"Primary Other Renewables and Landfill Gas\"],\n",
        "\n",
        "  # Primary Energy\n",
        "  labels_index[\"Electricity\"], labels_index[\"Electricity\"], labels_index[\"Electricity\"], labels_index[\"Electricity\"], labels_index[\"Electricity\"], labels_index[\"Electricity\"],\n",
        "\n",
        "  # Exports\n",
        "  labels_index[\"Exports\"], labels_index[\"Exports\"], labels_index[\"Exports\"], labels_index[\"Exports\"], labels_index[\"Exports\"], labels_index[\"Exports\"], labels_index[\"Exports\"], labels_index[\"Exports\"],           \n",
        "]\n",
        "\n",
        "edge_values = [\n",
        "  1, 1, 1, 1,\n",
        "  1, 1, 1, 1,\n",
        "  1, 1, 1, 1,\n",
        "  1, 1, 1, 1,\n",
        "  1, 1, 1, 1,\n",
        "  1, 1, 1, 1,\n",
        "  1, 1, 1, 1,\n",
        "  1, 1, 1, 1,\n",
        "  1, 1,\n",
        "  1, 1, 1, 1, 1, 1,\n",
        "  1, 1, 1, 1, 1, 1, 1, 1,         \n",
        "]\n",
        "\n",
        "source_count = len(source_nodes)\n",
        "target_count = len(target_nodes)\n",
        "edge_count = len(edge_values)\n",
        "\n",
        "if source_count != target_count and target_count != edge_values:\n",
        "  print(f'Source, Target and Edge Values do not match. {source_count}, {target_count}, {edge_count}')\n",
        "\n",
        "unknown = labels_index[\"Unknown\"]\n",
        "\n",
        "figure = go.Figure(data = [go.Sankey(\n",
        "    node = dict(\n",
        "      pad = 15,\n",
        "      thickness = 20,\n",
        "      line = dict(color = \"black\", width = 0.5),\n",
        "      label = labels,\n",
        "      color = \"blue\"\n",
        "    ),\n",
        "    link = dict(\n",
        "      source = source_nodes,\n",
        "      target = target_nodes,\n",
        "      value = edge_values\n",
        "    )\n",
        ")])\n",
        "\n",
        "figure.update_layout(title_text=\"Basic Sankey Diagram\", font_size=10)\n",
        "figure.show()"
      ],
      "execution_count": null,
      "outputs": [
        {
          "output_type": "display_data",
          "data": {
            "text/html": [
              "<html>\n",
              "<head><meta charset=\"utf-8\" /></head>\n",
              "<body>\n",
              "    <div>\n",
              "            <script src=\"https://cdnjs.cloudflare.com/ajax/libs/mathjax/2.7.5/MathJax.js?config=TeX-AMS-MML_SVG\"></script><script type=\"text/javascript\">if (window.MathJax) {MathJax.Hub.Config({SVG: {font: \"STIX-Web\"}});}</script>\n",
              "                <script type=\"text/javascript\">window.PlotlyConfig = {MathJaxConfig: 'local'};</script>\n",
              "        <script src=\"https://cdn.plot.ly/plotly-latest.min.js\"></script>    \n",
              "            <div id=\"182045eb-e831-407f-958d-51c0aecd0c30\" class=\"plotly-graph-div\" style=\"height:525px; width:100%;\"></div>\n",
              "            <script type=\"text/javascript\">\n",
              "                \n",
              "                    window.PLOTLYENV=window.PLOTLYENV || {};\n",
              "                    \n",
              "                if (document.getElementById(\"182045eb-e831-407f-958d-51c0aecd0c30\")) {\n",
              "                    Plotly.newPlot(\n",
              "                        '182045eb-e831-407f-958d-51c0aecd0c30',\n",
              "                        [{\"link\": {\"source\": [0, 0, 1, 1, 3, 3, 4, 4, 6, 6, 7, 7, 9, 9, 10, 10, 12, 12, 13, 13, 15, 15, 16, 16, 18, 18, 19, 19, 21, 21, 22, 22, 24, 25, 26, 27, 28, 29, 30, 31, 2, 5, 8, 11, 14, 17, 20, 23], \"target\": [2, 32, 2, 32, 5, 26, 5, 26, 8, 32, 8, 32, 11, 31, 11, 31, 14, 28, 14, 28, 17, 32, 17, 32, 20, 32, 20, 32, 23, 29, 23, 29, 27, 30, 34, 34, 34, 34, 34, 34, 33, 33, 33, 33, 33, 33, 33, 33], \"value\": [1, 1, 1, 1, 1, 1, 1, 1, 1, 1, 1, 1, 1, 1, 1, 1, 1, 1, 1, 1, 1, 1, 1, 1, 1, 1, 1, 1, 1, 1, 1, 1, 1, 1, 1, 1, 1, 1, 1, 1, 1, 1, 1, 1, 1, 1, 1, 1]}, \"node\": {\"color\": \"blue\", \"label\": [\"Butane Production\", \"Butane Imports\", \"Butane Exports\", \"Coal Production\", \"Coal Imports\", \"Coal Exports\", \"Crude Oil Production\", \"Crude Oil Imports\", \"Crude Oil Exports\", \"Ethane Production\", \"Ethane Imports\", \"Ethane Exports\", \"Natural Gas Production\", \"Natural Gas Imports\", \"Natural Gas Exports\", \"Pentane Production\", \"Pentane Imports\", \"Pentane Exports\", \"Propane Production\", \"Propane Imports\", \"Propane Exports\", \"Uranium Production\", \"Uranium Imports\", \"Uranium Exports\", \"Hydroelectricity Production\", \"TODO Renewables Production\", \"Primary Coal, Coke, and Coke Oven Gas\", \"Primary Hydro\", \"Primary Natural Gas\", \"Primary Nuclear\", \"Primary Other Renewables and Landfill Gas\", \"Primary Refined Petroleum Products\", \"TODO Producted & Distributed Energy\", \"Exports\", \"Electricity\", \"Unknown\"], \"line\": {\"color\": \"black\", \"width\": 0.5}, \"pad\": 15, \"thickness\": 20}, \"type\": \"sankey\"}],\n",
              "                        {\"font\": {\"size\": 10}, \"template\": {\"data\": {\"bar\": [{\"error_x\": {\"color\": \"#2a3f5f\"}, \"error_y\": {\"color\": \"#2a3f5f\"}, \"marker\": {\"line\": {\"color\": \"#E5ECF6\", \"width\": 0.5}}, \"type\": \"bar\"}], \"barpolar\": [{\"marker\": {\"line\": {\"color\": \"#E5ECF6\", \"width\": 0.5}}, \"type\": \"barpolar\"}], \"carpet\": [{\"aaxis\": {\"endlinecolor\": \"#2a3f5f\", \"gridcolor\": \"white\", \"linecolor\": \"white\", \"minorgridcolor\": \"white\", \"startlinecolor\": \"#2a3f5f\"}, \"baxis\": {\"endlinecolor\": \"#2a3f5f\", \"gridcolor\": \"white\", \"linecolor\": \"white\", \"minorgridcolor\": \"white\", \"startlinecolor\": \"#2a3f5f\"}, \"type\": \"carpet\"}], \"choropleth\": [{\"colorbar\": {\"outlinewidth\": 0, \"ticks\": \"\"}, \"type\": \"choropleth\"}], \"contour\": [{\"colorbar\": {\"outlinewidth\": 0, \"ticks\": \"\"}, \"colorscale\": [[0.0, \"#0d0887\"], [0.1111111111111111, \"#46039f\"], [0.2222222222222222, \"#7201a8\"], [0.3333333333333333, \"#9c179e\"], [0.4444444444444444, \"#bd3786\"], [0.5555555555555556, \"#d8576b\"], [0.6666666666666666, \"#ed7953\"], [0.7777777777777778, \"#fb9f3a\"], [0.8888888888888888, \"#fdca26\"], [1.0, \"#f0f921\"]], \"type\": \"contour\"}], \"contourcarpet\": [{\"colorbar\": {\"outlinewidth\": 0, \"ticks\": \"\"}, \"type\": \"contourcarpet\"}], \"heatmap\": [{\"colorbar\": {\"outlinewidth\": 0, \"ticks\": \"\"}, \"colorscale\": [[0.0, \"#0d0887\"], [0.1111111111111111, \"#46039f\"], [0.2222222222222222, \"#7201a8\"], [0.3333333333333333, \"#9c179e\"], [0.4444444444444444, \"#bd3786\"], [0.5555555555555556, \"#d8576b\"], [0.6666666666666666, \"#ed7953\"], [0.7777777777777778, \"#fb9f3a\"], [0.8888888888888888, \"#fdca26\"], [1.0, \"#f0f921\"]], \"type\": \"heatmap\"}], \"heatmapgl\": [{\"colorbar\": {\"outlinewidth\": 0, \"ticks\": \"\"}, \"colorscale\": [[0.0, \"#0d0887\"], [0.1111111111111111, \"#46039f\"], [0.2222222222222222, \"#7201a8\"], [0.3333333333333333, \"#9c179e\"], [0.4444444444444444, \"#bd3786\"], [0.5555555555555556, \"#d8576b\"], [0.6666666666666666, \"#ed7953\"], [0.7777777777777778, \"#fb9f3a\"], [0.8888888888888888, \"#fdca26\"], [1.0, \"#f0f921\"]], \"type\": \"heatmapgl\"}], \"histogram\": [{\"marker\": {\"colorbar\": {\"outlinewidth\": 0, \"ticks\": \"\"}}, \"type\": \"histogram\"}], \"histogram2d\": [{\"colorbar\": {\"outlinewidth\": 0, \"ticks\": \"\"}, \"colorscale\": [[0.0, \"#0d0887\"], [0.1111111111111111, \"#46039f\"], [0.2222222222222222, \"#7201a8\"], [0.3333333333333333, \"#9c179e\"], [0.4444444444444444, \"#bd3786\"], [0.5555555555555556, \"#d8576b\"], [0.6666666666666666, \"#ed7953\"], [0.7777777777777778, \"#fb9f3a\"], [0.8888888888888888, \"#fdca26\"], [1.0, \"#f0f921\"]], \"type\": \"histogram2d\"}], \"histogram2dcontour\": [{\"colorbar\": {\"outlinewidth\": 0, \"ticks\": \"\"}, \"colorscale\": [[0.0, \"#0d0887\"], [0.1111111111111111, \"#46039f\"], [0.2222222222222222, \"#7201a8\"], [0.3333333333333333, \"#9c179e\"], [0.4444444444444444, \"#bd3786\"], [0.5555555555555556, \"#d8576b\"], [0.6666666666666666, \"#ed7953\"], [0.7777777777777778, \"#fb9f3a\"], [0.8888888888888888, \"#fdca26\"], [1.0, \"#f0f921\"]], \"type\": \"histogram2dcontour\"}], \"mesh3d\": [{\"colorbar\": {\"outlinewidth\": 0, \"ticks\": \"\"}, \"type\": \"mesh3d\"}], \"parcoords\": [{\"line\": {\"colorbar\": {\"outlinewidth\": 0, \"ticks\": \"\"}}, \"type\": \"parcoords\"}], \"pie\": [{\"automargin\": true, \"type\": \"pie\"}], \"scatter\": [{\"marker\": {\"colorbar\": {\"outlinewidth\": 0, \"ticks\": \"\"}}, \"type\": \"scatter\"}], \"scatter3d\": [{\"line\": {\"colorbar\": {\"outlinewidth\": 0, \"ticks\": \"\"}}, \"marker\": {\"colorbar\": {\"outlinewidth\": 0, \"ticks\": \"\"}}, \"type\": \"scatter3d\"}], \"scattercarpet\": [{\"marker\": {\"colorbar\": {\"outlinewidth\": 0, \"ticks\": \"\"}}, \"type\": \"scattercarpet\"}], \"scattergeo\": [{\"marker\": {\"colorbar\": {\"outlinewidth\": 0, \"ticks\": \"\"}}, \"type\": \"scattergeo\"}], \"scattergl\": [{\"marker\": {\"colorbar\": {\"outlinewidth\": 0, \"ticks\": \"\"}}, \"type\": \"scattergl\"}], \"scattermapbox\": [{\"marker\": {\"colorbar\": {\"outlinewidth\": 0, \"ticks\": \"\"}}, \"type\": \"scattermapbox\"}], \"scatterpolar\": [{\"marker\": {\"colorbar\": {\"outlinewidth\": 0, \"ticks\": \"\"}}, \"type\": \"scatterpolar\"}], \"scatterpolargl\": [{\"marker\": {\"colorbar\": {\"outlinewidth\": 0, \"ticks\": \"\"}}, \"type\": \"scatterpolargl\"}], \"scatterternary\": [{\"marker\": {\"colorbar\": {\"outlinewidth\": 0, \"ticks\": \"\"}}, \"type\": \"scatterternary\"}], \"surface\": [{\"colorbar\": {\"outlinewidth\": 0, \"ticks\": \"\"}, \"colorscale\": [[0.0, \"#0d0887\"], [0.1111111111111111, \"#46039f\"], [0.2222222222222222, \"#7201a8\"], [0.3333333333333333, \"#9c179e\"], [0.4444444444444444, \"#bd3786\"], [0.5555555555555556, \"#d8576b\"], [0.6666666666666666, \"#ed7953\"], [0.7777777777777778, \"#fb9f3a\"], [0.8888888888888888, \"#fdca26\"], [1.0, \"#f0f921\"]], \"type\": \"surface\"}], \"table\": [{\"cells\": {\"fill\": {\"color\": \"#EBF0F8\"}, \"line\": {\"color\": \"white\"}}, \"header\": {\"fill\": {\"color\": \"#C8D4E3\"}, \"line\": {\"color\": \"white\"}}, \"type\": \"table\"}]}, \"layout\": {\"annotationdefaults\": {\"arrowcolor\": \"#2a3f5f\", \"arrowhead\": 0, \"arrowwidth\": 1}, \"coloraxis\": {\"colorbar\": {\"outlinewidth\": 0, \"ticks\": \"\"}}, \"colorscale\": {\"diverging\": [[0, \"#8e0152\"], [0.1, \"#c51b7d\"], [0.2, \"#de77ae\"], [0.3, \"#f1b6da\"], [0.4, \"#fde0ef\"], [0.5, \"#f7f7f7\"], [0.6, \"#e6f5d0\"], [0.7, \"#b8e186\"], [0.8, \"#7fbc41\"], [0.9, \"#4d9221\"], [1, \"#276419\"]], \"sequential\": [[0.0, \"#0d0887\"], [0.1111111111111111, \"#46039f\"], [0.2222222222222222, \"#7201a8\"], [0.3333333333333333, \"#9c179e\"], [0.4444444444444444, \"#bd3786\"], [0.5555555555555556, \"#d8576b\"], [0.6666666666666666, \"#ed7953\"], [0.7777777777777778, \"#fb9f3a\"], [0.8888888888888888, \"#fdca26\"], [1.0, \"#f0f921\"]], \"sequentialminus\": [[0.0, \"#0d0887\"], [0.1111111111111111, \"#46039f\"], [0.2222222222222222, \"#7201a8\"], [0.3333333333333333, \"#9c179e\"], [0.4444444444444444, \"#bd3786\"], [0.5555555555555556, \"#d8576b\"], [0.6666666666666666, \"#ed7953\"], [0.7777777777777778, \"#fb9f3a\"], [0.8888888888888888, \"#fdca26\"], [1.0, \"#f0f921\"]]}, \"colorway\": [\"#636efa\", \"#EF553B\", \"#00cc96\", \"#ab63fa\", \"#FFA15A\", \"#19d3f3\", \"#FF6692\", \"#B6E880\", \"#FF97FF\", \"#FECB52\"], \"font\": {\"color\": \"#2a3f5f\"}, \"geo\": {\"bgcolor\": \"white\", \"lakecolor\": \"white\", \"landcolor\": \"#E5ECF6\", \"showlakes\": true, \"showland\": true, \"subunitcolor\": \"white\"}, \"hoverlabel\": {\"align\": \"left\"}, \"hovermode\": \"closest\", \"mapbox\": {\"style\": \"light\"}, \"paper_bgcolor\": \"white\", \"plot_bgcolor\": \"#E5ECF6\", \"polar\": {\"angularaxis\": {\"gridcolor\": \"white\", \"linecolor\": \"white\", \"ticks\": \"\"}, \"bgcolor\": \"#E5ECF6\", \"radialaxis\": {\"gridcolor\": \"white\", \"linecolor\": \"white\", \"ticks\": \"\"}}, \"scene\": {\"xaxis\": {\"backgroundcolor\": \"#E5ECF6\", \"gridcolor\": \"white\", \"gridwidth\": 2, \"linecolor\": \"white\", \"showbackground\": true, \"ticks\": \"\", \"zerolinecolor\": \"white\"}, \"yaxis\": {\"backgroundcolor\": \"#E5ECF6\", \"gridcolor\": \"white\", \"gridwidth\": 2, \"linecolor\": \"white\", \"showbackground\": true, \"ticks\": \"\", \"zerolinecolor\": \"white\"}, \"zaxis\": {\"backgroundcolor\": \"#E5ECF6\", \"gridcolor\": \"white\", \"gridwidth\": 2, \"linecolor\": \"white\", \"showbackground\": true, \"ticks\": \"\", \"zerolinecolor\": \"white\"}}, \"shapedefaults\": {\"line\": {\"color\": \"#2a3f5f\"}}, \"ternary\": {\"aaxis\": {\"gridcolor\": \"white\", \"linecolor\": \"white\", \"ticks\": \"\"}, \"baxis\": {\"gridcolor\": \"white\", \"linecolor\": \"white\", \"ticks\": \"\"}, \"bgcolor\": \"#E5ECF6\", \"caxis\": {\"gridcolor\": \"white\", \"linecolor\": \"white\", \"ticks\": \"\"}}, \"title\": {\"x\": 0.05}, \"xaxis\": {\"automargin\": true, \"gridcolor\": \"white\", \"linecolor\": \"white\", \"ticks\": \"\", \"title\": {\"standoff\": 15}, \"zerolinecolor\": \"white\", \"zerolinewidth\": 2}, \"yaxis\": {\"automargin\": true, \"gridcolor\": \"white\", \"linecolor\": \"white\", \"ticks\": \"\", \"title\": {\"standoff\": 15}, \"zerolinecolor\": \"white\", \"zerolinewidth\": 2}}}, \"title\": {\"text\": \"Basic Sankey Diagram\"}},\n",
              "                        {\"responsive\": true}\n",
              "                    ).then(function(){\n",
              "                            \n",
              "var gd = document.getElementById('182045eb-e831-407f-958d-51c0aecd0c30');\n",
              "var x = new MutationObserver(function (mutations, observer) {{\n",
              "        var display = window.getComputedStyle(gd).display;\n",
              "        if (!display || display === 'none') {{\n",
              "            console.log([gd, 'removed!']);\n",
              "            Plotly.purge(gd);\n",
              "            observer.disconnect();\n",
              "        }}\n",
              "}});\n",
              "\n",
              "// Listen for the removal of the full notebook cells\n",
              "var notebookContainer = gd.closest('#notebook-container');\n",
              "if (notebookContainer) {{\n",
              "    x.observe(notebookContainer, {childList: true});\n",
              "}}\n",
              "\n",
              "// Listen for the clearing of the current output cell\n",
              "var outputEl = gd.closest('.output');\n",
              "if (outputEl) {{\n",
              "    x.observe(outputEl, {childList: true});\n",
              "}}\n",
              "\n",
              "                        })\n",
              "                };\n",
              "                \n",
              "            </script>\n",
              "        </div>\n",
              "</body>\n",
              "</html>"
            ]
          },
          "metadata": {
            "tags": []
          }
        }
      ]
    },
    {
      "cell_type": "code",
      "metadata": {
        "id": "tPebpoEYZuWs"
      },
      "source": [
        ""
      ],
      "execution_count": null,
      "outputs": []
    },
    {
      "cell_type": "code",
      "metadata": {
        "colab": {
          "base_uri": "https://localhost:8080/",
          "height": 133
        },
        "id": "E54oe64kQF2l",
        "outputId": "063c1b9d-267c-4936-b77c-78666cc17102"
      },
      "source": [
        "#TODO List:\n",
        "1. Verify that this is the definitive list of energy produced in Canada\n",
        "2. Break apart electricity generation and use of energy (layer 2)\n",
        "3. Electricity generation (layer 3)\n",
        "4. Sector (layer 4)\n",
        "5. Detailed sector (layer 5)\n",
        "\n",
        "5429725000 - 1540083100"
      ],
      "execution_count": null,
      "outputs": [
        {
          "output_type": "error",
          "ename": "SyntaxError",
          "evalue": "ignored",
          "traceback": [
            "\u001b[0;36m  File \u001b[0;32m\"<ipython-input-17-14ff94de8088>\"\u001b[0;36m, line \u001b[0;32m2\u001b[0m\n\u001b[0;31m    1. Verify that this is the definitive list of energy produced in Canada\u001b[0m\n\u001b[0m            ^\u001b[0m\n\u001b[0;31mSyntaxError\u001b[0m\u001b[0;31m:\u001b[0m invalid syntax\n"
          ]
        }
      ]
    },
    {
      "cell_type": "code",
      "metadata": {
        "id": "i-E4eFOi4xXT"
      },
      "source": [
        "end_use_demand_data_2020 = end_use_demand_data[(end_use_demand_data[\"Year\"] == 2020) & (end_use_demand_data[\"Region\"] == \"Canada\")]\n",
        "display(end_use_demand_data_2020)"
      ],
      "execution_count": null,
      "outputs": []
    },
    {
      "cell_type": "markdown",
      "metadata": {
        "id": "04iV6Xzj1v99"
      },
      "source": [
        "# Production 2019\n",
        "\n",
        "This section outlines how our energy was produced.\n",
        "\n",
        "Canada produces *energy* in the following forms:\n",
        "\n",
        "## Primary Energy\n",
        "1. Coal\n",
        "2. Crude Oil\n",
        "3. Natural Gas\n",
        "4. Natural Gas liquids (NGL)\n",
        "5. Hydro\n",
        "6. Nuclear\n",
        "7. Steam\n",
        "8. Wind\n",
        "9. Solar\n",
        "\n",
        "## Secondary Energy\n",
        "8. Coke\n",
        "9. Coke Oven Gas\n",
        "10. Refined Petroleum Products\n",
        "11. Secondary Electricity Sources (i.e. Thermal)\n",
        "\n",
        "Source: https://www150.statcan.gc.ca/t1/tbl1/en/cv.action?pid=2510003001\n",
        "\n",
        "See: data/Canada/2510003001-eng.csv\n",
        "\n",
        "**Note**: All energy values are to be shown as [quads](https://en.wikipedia.org/wiki/Quad_(unit)), where one quad is equal to 10^16 BTU or 1.055 * 10^18 joules (1.055 exajoules)\n",
        "\n",
        "> Some common types of an energy carrier approximately equal to 1 quad are:\n",
        "\n",
        "    8,007,000,000 gallons (US) of gasoline\n",
        "    293,071,000,000 kilowatt-hours (kWh)\n",
        "    293.07 terawatt-hours (TWh)\n",
        "    33.434 gigawatt-years (GWy)\n",
        "    36,000,000 tonnes of coal\n",
        "    970,434,000,000 cubic feet of natural gas\n",
        "    5,996,000,000 UK gallons of diesel oil\n",
        "    25,200,000 tonnes of oil\n",
        "    252,000,000 tonnes of TNT or five times the energy of the Tsar Bomba nuclear test\n",
        "    13.3 tonnes of uranium-235\n"
      ]
    },
    {
      "cell_type": "code",
      "metadata": {
        "id": "8VSlVCHz8Nwd"
      },
      "source": [
        "## Global\n",
        "\n",
        "production = {}\n",
        "imports = {}\n",
        "exports = {}"
      ],
      "execution_count": null,
      "outputs": []
    },
    {
      "cell_type": "code",
      "metadata": {
        "id": "Y8WsWftK12BR"
      },
      "source": [
        "## Coal\n",
        "\n",
        "kiloton_to_tons = 1000\n",
        "quad_to_kiloton_of_coal = 36000000\n",
        "\n",
        "def kiloton_of_coal_to_quad(kilotons):\n",
        "  return kilotons * kiloton_to_tons / quad_to_kiloton_of_coal\n",
        "\n",
        "production[\"coal\"] = kiloton_of_coal_to_quad(50577.50)\n",
        "imports[\"coal\"] = kiloton_of_coal_to_quad(0)\n",
        "exports[\"coal\"] = kiloton_of_coal_to_quad(0)"
      ],
      "execution_count": null,
      "outputs": []
    },
    {
      "cell_type": "code",
      "metadata": {
        "id": "XZv0gpJP84qw"
      },
      "source": [
        "## Crude Oil\n",
        "\n",
        "megalitre_of_crude_oil = 1000000\n",
        "barrel_of_oil_in_litres = 158.9873\n",
        "quad_to_boe = 180135869.19434\n",
        "\n",
        "def megalitre_to_quad(megalitres):\n",
        "  return megalitres * megalitre_of_crude_oil / barrel_of_oil_in_litres / quad_to_boe\n",
        "\n",
        "production[\"crude_oil\"] = megalitre_to_quad(272186.3)\n",
        "imports[\"crude_oil\"] = megalitre_to_quad(45484.7)\n",
        "exports[\"crude_oil\"] = megalitre_to_quad(219364.7)"
      ],
      "execution_count": null,
      "outputs": []
    },
    {
      "cell_type": "code",
      "metadata": {
        "id": "0axK5Fer_Jr2"
      },
      "source": [
        "## Natural Gas\n",
        "\n",
        "# Gigalitre is 1000 * 1000 * 1000 litres. 1000 litres in a cubic metre.\n",
        "gigalitres_to_cubic_metres = 1000000\n",
        "# 1 Gm3 NG = 0.035687347874265 quad\n",
        "cubic_meter_to_quad = 0.035687347874265 / 1000000000\n",
        "\n",
        "def gigalitre_to_quad(gigalitre):\n",
        "  return gigalitre * gigalitres_to_cubic_metres * cubic_meter_to_quad\n",
        "\n",
        "  #TODO: Fill out prod/imports/exports"
      ],
      "execution_count": null,
      "outputs": []
    },
    {
      "cell_type": "markdown",
      "metadata": {
        "id": "EEg0wkF0BACs"
      },
      "source": [
        "## Supply 2019"
      ]
    },
    {
      "cell_type": "code",
      "metadata": {
        "id": "Ci-yJbJOHFAa"
      },
      "source": [
        "energy_types = ['Hydro / Wave / Tidal', 'Natural Gas', 'Oil', 'Biomass / Geothermal', 'Coal & Coke', 'Uranium', 'Solar', 'Wind']\n",
        "\n",
        "# Returns a dictionary with energy production by year in the following format:\n",
        "# ```\n",
        "# {\n",
        "#   \"2005\": {\n",
        "#     \"Alberta\": {\n",
        "#       \"Hydro / Wave / Tidal\": value\n",
        "#     },\n",
        "#     ...\n",
        "#   }\n",
        "# }\n",
        "# ```\n",
        "def load_generation_data():\n",
        "  energy_production = {}\n",
        "  canada_energy_production = {}\n",
        "\n",
        "  with open(f'{data_folder}/canada/electricity-generation-2019.csv') as csv_file:\n",
        "    reader = csv.reader(csv_file)\n",
        "    # Skip the header line\n",
        "    next(reader)\n",
        "  \n",
        "    for row in reader:\n",
        "      province = row[1]\n",
        "      energy_type = row[2]\n",
        "      year = row[4]\n",
        "      quantity = float(row[5])\n",
        "\n",
        "      # We don't want Canada-wide data (we can aggregate it ourselves)\n",
        "      if province == \"Canada\":\n",
        "        year_dictionary = get_nested_dictionary(canada_energy_production, year)\n",
        "        year_dictionary[energy_type] = quantity\n",
        "      else:\n",
        "        year_dictionary = get_nested_dictionary(energy_production, year)\n",
        "        province_dictionary = get_nested_dictionary(year_dictionary, province)\n",
        "        province_dictionary[energy_type] = quantity\n",
        "  return energy_production, canada_energy_production\n",
        "\n",
        "def get_nested_dictionary(dictionary, key):\n",
        "  value = dictionary.get(key)\n",
        "  if value == None:\n",
        "    dictionary[key] = {}\n",
        "    value = dictionary[key]\n",
        "  return value\n",
        "\n",
        "def extract_energy_values(energy_production, year):\n",
        "  flattened_values = []\n",
        "  \n",
        "  for row in list(energy_production[year].items()):\n",
        "    energy = [row[0]]\n",
        "    for energy_type in energy_types:\n",
        "      energy.append(row[1][energy_type])\n",
        "    flattened_values.append(energy)\n",
        "\n",
        "  return np.array(flattened_values)\n",
        "\n",
        "def style_axes(ax):\n",
        "  # The following was copied from https://www.pythoncharts.com/matplotlib/grouped-bar-charts-matplotlib/\n",
        "  ax.spines['top'].set_visible(False)\n",
        "  ax.spines['right'].set_visible(False)\n",
        "  ax.spines['left'].set_visible(False)\n",
        "  ax.spines['bottom'].set_color('#DDDDDD')\n",
        "  ax.tick_params(bottom=False, left=False)\n",
        "  ax.set_axisbelow(True)\n",
        "  ax.yaxis.grid(True, color='#EEEEEE')\n",
        "  ax.xaxis.grid(False)\n",
        "\n",
        "  # For each bar in the chart, add a text label so we can easily read the graph\n",
        "  for bar in ax.patches:\n",
        "    bar_value = bar.get_height()\n",
        "    # Don't show any decimal values (they're big enough)\n",
        "    text = f'{bar_value:.0f}'\n",
        "    text_x = bar.get_x() + bar.get_width() / 2\n",
        "    text_y = bar.get_y() + bar_value\n",
        "\n",
        "    ax.text(text_x, text_y, text, ha='center', va='bottom', color=bar.get_facecolor(), size=12)\n",
        "\n",
        "def plot_energy_by_province(title, energy_values):\n",
        "  province_names = energy_values[:, 0]\n",
        "  province_count = len(province_names)\n",
        "  energy_type_count = len(energy_types)\n",
        "\n",
        "  bar_width = 1.0\n",
        "  full_width = energy_type_count * bar_width\n",
        "  half_width = full_width / 2\n",
        "  padding = bar_width * 2\n",
        "\n",
        "  # This represents the location of the xticks (or the center of the 'bars') so we need to account for the full width of the bars, otherwise we overlap\n",
        "  x = np.arange(province_count) * (full_width + padding)\n",
        "\n",
        "  fig_width = bar_width * (province_count) * energy_type_count\n",
        "\n",
        "  fig, ax = plt.subplots(figsize=(fig_width, 10))\n",
        "  for i in range(energy_type_count):\n",
        "    ax.bar(x - half_width + i * bar_width, energy_values[:, i + 1].astype(np.float), width=bar_width)\n",
        "\n",
        "  style_axes(ax)\n",
        "\n",
        "  plt.xticks(x - bar_width / 2, province_names)\n",
        "  plt.ylabel('GWh Generated')\n",
        "  plt.xlabel('Provinces')\n",
        "  plt.title(title)\n",
        "  plt.legend(energy_types)\n",
        "\n",
        "  plt.show()"
      ],
      "execution_count": null,
      "outputs": []
    },
    {
      "cell_type": "code",
      "metadata": {
        "id": "RsCxnR6XIoTw"
      },
      "source": [
        "# Plot 2019 Data\n",
        "\n",
        "energy_production, canada_energy_production = load_generation_data()\n",
        "energy_values = extract_energy_values(energy_production, '2019')\n",
        "plot_energy_by_province('2019 Energy Production - Canada', energy_values)"
      ],
      "execution_count": null,
      "outputs": []
    },
    {
      "cell_type": "markdown",
      "metadata": {
        "id": "H7LEkqvMBBmg"
      },
      "source": [
        "## Demand 2019\n"
      ]
    },
    {
      "cell_type": "code",
      "metadata": {
        "id": "N5L9VNfFBHxs"
      },
      "source": [
        ""
      ],
      "execution_count": null,
      "outputs": []
    },
    {
      "cell_type": "markdown",
      "metadata": {
        "id": "i-Jp9K7sBCkP"
      },
      "source": [
        "## Emissions\n"
      ]
    },
    {
      "cell_type": "code",
      "metadata": {
        "id": "uP0ici8KBINj"
      },
      "source": [
        ""
      ],
      "execution_count": null,
      "outputs": []
    },
    {
      "cell_type": "markdown",
      "metadata": {
        "id": "k4IAUShzBGBS"
      },
      "source": [
        "## Solutions"
      ]
    },
    {
      "cell_type": "code",
      "metadata": {
        "id": "fo95vQAIBInA"
      },
      "source": [
        ""
      ],
      "execution_count": null,
      "outputs": []
    }
  ]
}